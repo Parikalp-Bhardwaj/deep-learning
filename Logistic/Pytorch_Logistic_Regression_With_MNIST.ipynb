{
 "cells": [
  {
   "cell_type": "code",
   "execution_count": 1,
   "metadata": {},
   "outputs": [],
   "source": [
    "import numpy as np\n",
    "import pandas as pd\n",
    "import matplotlib.pyplot as plt\n",
    "import torch\n",
    "import torch.nn as nn\n",
    "import torch.nn.functional as F\n",
    "import torchvision.datasets as datasets\n",
    "from torch.autograd import Variable\n",
    "import torchvision.transforms as transforms\n",
    "%matplotlib inline"
   ]
  },
  {
   "cell_type": "code",
   "execution_count": 2,
   "metadata": {},
   "outputs": [],
   "source": [
    "train_data=datasets.MNIST(root=\"./Pytorch_Datasets\",\n",
    "                         train=True,\n",
    "                         transform=transforms.ToTensor(),\n",
    "                         download=True)"
   ]
  },
  {
   "cell_type": "code",
   "execution_count": 3,
   "metadata": {},
   "outputs": [],
   "source": [
    "test_data=datasets.MNIST(root=\"./Pytorch_Datasets\",\n",
    "                        train=False,\n",
    "                        transform=transforms.ToTensor())"
   ]
  },
  {
   "cell_type": "code",
   "execution_count": 4,
   "metadata": {},
   "outputs": [
    {
     "data": {
      "text/plain": [
       "60000"
      ]
     },
     "execution_count": 4,
     "metadata": {},
     "output_type": "execute_result"
    }
   ],
   "source": [
    "len(train_data)"
   ]
  },
  {
   "cell_type": "code",
   "execution_count": 5,
   "metadata": {},
   "outputs": [],
   "source": [
    "a=np.array(train_data[0][0])"
   ]
  },
  {
   "cell_type": "code",
   "execution_count": 6,
   "metadata": {},
   "outputs": [],
   "source": [
    "a=a.reshape(28,28)"
   ]
  },
  {
   "cell_type": "code",
   "execution_count": 7,
   "metadata": {},
   "outputs": [
    {
     "data": {
      "text/plain": [
       "<matplotlib.image.AxesImage at 0x2225e652e88>"
      ]
     },
     "execution_count": 7,
     "metadata": {},
     "output_type": "execute_result"
    },
    {
     "data": {
      "image/png": "[encoded data removed]",
      "text/plain": [
       "<Figure size 432x288 with 1 Axes>"
      ]
     },
     "metadata": {
      "needs_background": "light"
     },
     "output_type": "display_data"
    }
   ],
   "source": [
    "plt.imshow(a,cmap=\"gray\")"
   ]
  },
  {
   "cell_type": "code",
   "execution_count": 8,
   "metadata": {},
   "outputs": [],
   "source": [
    "b=np.array(test_data[1][0])"
   ]
  },
  {
   "cell_type": "code",
   "execution_count": 9,
   "metadata": {},
   "outputs": [],
   "source": [
    "b=b.reshape(28,28)"
   ]
  },
  {
   "cell_type": "code",
   "execution_count": 10,
   "metadata": {},
   "outputs": [
    {
     "data": {
      "text/plain": [
       "<matplotlib.image.AxesImage at 0x2225e70df88>"
      ]
     },
     "execution_count": 10,
     "metadata": {},
     "output_type": "execute_result"
    },
    {
     "data": {
      "image/png": "[encoded data removed]",
      "text/plain": [
       "<Figure size 432x288 with 1 Axes>"
      ]
     },
     "metadata": {
      "needs_background": "light"
     },
     "output_type": "display_data"
    }
   ],
   "source": [
    "plt.imshow(b,cmap=\"gray\")"
   ]
  },
  {
   "cell_type": "code",
   "execution_count": 11,
   "metadata": {},
   "outputs": [],
   "source": [
    "test_data[1][1]\n",
    "batch_size=100\n",
    "n_iter=3000"
   ]
  },
  {
   "cell_type": "markdown",
   "metadata": {},
   "source": [
    "# Totaldata=60000 #MinBatch=100 #Iteration=3000"
   ]
  },
  {
   "cell_type": "markdown",
   "metadata": {},
   "source": [
    "epoch=iteration/Toaldata/minBatch"
   ]
  },
  {
   "cell_type": "code",
   "execution_count": 12,
   "metadata": {},
   "outputs": [
    {
     "data": {
      "text/plain": [
       "5"
      ]
     },
     "execution_count": 12,
     "metadata": {},
     "output_type": "execute_result"
    }
   ],
   "source": [
    "num_epoch=n_iter/(len(train_data)/batch_size)\n",
    "num_epoch=int(num_epoch)\n",
    "num_epoch"
   ]
  },
  {
   "cell_type": "code",
   "execution_count": 13,
   "metadata": {},
   "outputs": [],
   "source": [
    "train_loader=torch.utils.data.DataLoader(dataset=train_data,\n",
    "                                        batch_size=batch_size,\n",
    "                                        shuffle=True)"
   ]
  },
  {
   "cell_type": "code",
   "execution_count": 14,
   "metadata": {},
   "outputs": [],
   "source": [
    "test_loader=torch.utils.data.DataLoader(dataset=test_data,\n",
    "                                       batch_size=batch_size,\n",
    "                                       shuffle=False)"
   ]
  },
  {
   "cell_type": "code",
   "execution_count": 15,
   "metadata": {},
   "outputs": [
    {
     "name": "stderr",
     "output_type": "stream",
     "text": [
      "c:\\users\\parikalp\\appdata\\local\\programs\\python\\lib\\site-packages\\ipykernel_launcher.py:2: DeprecationWarning: Using or importing the ABCs from 'collections' instead of from 'collections.abc' is deprecated, and in 3.8 it will stop working\n",
      "  \n"
     ]
    },
    {
     "data": {
      "text/plain": [
       "False"
      ]
     },
     "execution_count": 15,
     "metadata": {},
     "output_type": "execute_result"
    }
   ],
   "source": [
    "import collections\n",
    "isinstance(train_loader,collections.Iterator)"
   ]
  },
  {
   "cell_type": "code",
   "execution_count": 16,
   "metadata": {},
   "outputs": [
    {
     "data": {
      "text/plain": [
       "False"
      ]
     },
     "execution_count": 16,
     "metadata": {},
     "output_type": "execute_result"
    }
   ],
   "source": [
    "import collections\n",
    "isinstance(test_loader,collections.Iterator)"
   ]
  },
  {
   "cell_type": "code",
   "execution_count": null,
   "metadata": {},
   "outputs": [],
   "source": []
  },
  {
   "cell_type": "code",
   "execution_count": 17,
   "metadata": {},
   "outputs": [],
   "source": [
    "class Logistic_Reg(nn.Module):\n",
    "    def __init__(self,input_dim,output_dim):\n",
    "        super(Logistic_Reg,self).__init__()\n",
    "        self.linear=nn.Linear(input_dim,output_dim)\n",
    "    \n",
    "    def forward(self,x):\n",
    "        out=self.linear(x)\n",
    "        return out"
   ]
  },
  {
   "cell_type": "code",
   "execution_count": 18,
   "metadata": {},
   "outputs": [],
   "source": [
    "input_dim=28*28\n",
    "output_dim=10\n",
    "model=Logistic_Reg(input_dim,output_dim)"
   ]
  },
  {
   "cell_type": "code",
   "execution_count": 19,
   "metadata": {},
   "outputs": [],
   "source": [
    "criterion=nn.CrossEntropyLoss()"
   ]
  },
  {
   "cell_type": "code",
   "execution_count": 20,
   "metadata": {},
   "outputs": [],
   "source": [
    "lr=0.001\n",
    "optimizer=torch.optim.SGD(model.parameters(),lr=lr)"
   ]
  },
  {
   "cell_type": "code",
   "execution_count": 21,
   "metadata": {},
   "outputs": [
    {
     "name": "stdout",
     "output_type": "stream",
     "text": [
      "2\n",
      "torch.Size([10, 784])\n",
      "torch.Size([10])\n"
     ]
    }
   ],
   "source": [
    "print(len(list(model.parameters())[0].size()))\n",
    "print(list(model.parameters())[0].size())\n",
    "print(list(model.parameters())[1].size())"
   ]
  },
  {
   "cell_type": "code",
   "execution_count": 25,
   "metadata": {},
   "outputs": [
    {
     "name": "stdout",
     "output_type": "stream",
     "text": [
      "iteration 500 : loss 0.8162297606468201 : Accuracy 84\n",
      "iteration 1000 : loss 0.6430906653404236 : Accuracy 86\n",
      "iteration 1500 : loss 0.5588566660881042 : Accuracy 87\n",
      "iteration 2000 : loss 0.5070001482963562 : Accuracy 88\n",
      "iteration 2500 : loss 0.4983270764350891 : Accuracy 88\n",
      "iteration 3000 : loss 0.3418957591056824 : Accuracy 89\n"
     ]
    }
   ],
   "source": [
    "iter=0\n",
    "for i in range(num_epoch):\n",
    "    for i,(images,labels) in enumerate(train_loader):\n",
    "        images=Variable(images.view(-1,28*28))\n",
    "        label=Variable(labels)\n",
    "        \n",
    "        optimizer.zero_grad()\n",
    "        \n",
    "        output=model(images)\n",
    "        \n",
    "        loss=criterion(output,labels)\n",
    "        \n",
    "        loss.backward()\n",
    "        \n",
    "        optimizer.step()\n",
    "        \n",
    "        iter+=1\n",
    "        \n",
    "        if iter%500==0:\n",
    "            correct=0\n",
    "            \n",
    "            total=0\n",
    "            \n",
    "            for images,labels in test_loader:\n",
    "                images=Variable(images.view(-1,28*28))\n",
    "                \n",
    "                output=model(images)\n",
    "                \n",
    "                _,prediction=torch.max(output.data,1)\n",
    "                \n",
    "                total+=labels.size(0)\n",
    "                \n",
    "                correct+=(prediction ==labels).sum()\n",
    "                \n",
    "            accuracy=100* correct / total\n",
    "            \n",
    "            print(f\"iteration {iter} : loss {loss} : Accuracy {accuracy}\")"
   ]
  },
  {
   "cell_type": "code",
   "execution_count": null,
   "metadata": {},
   "outputs": [],
   "source": []
  },
  {
   "cell_type": "code",
   "execution_count": 27,
   "metadata": {},
   "outputs": [
    {
     "name": "stdout",
     "output_type": "stream",
     "text": [
      "Output\n",
      "tensor([[-4.9454e-02, -3.7438e+00, -5.7111e-01,  9.2824e-01, -8.8076e-01,\n",
      "         -9.3315e-01, -2.8574e+00,  6.7689e+00, -5.0244e-01,  1.9389e+00],\n",
      "        [ 1.6304e+00, -1.1414e+00,  4.5532e+00,  2.0076e+00, -5.2267e+00,\n",
      "          2.1382e+00,  2.9868e+00, -5.3021e+00,  1.3623e+00, -4.2088e+00],\n",
      "        [-2.3083e+00,  4.3889e+00,  6.2033e-01,  3.2526e-01, -1.5608e+00,\n",
      "         -6.6844e-01, -2.8063e-01, -2.3547e-01,  5.0337e-01, -8.6144e-01],\n",
      "        [ 6.9332e+00, -6.4127e+00,  3.1005e-01, -5.4082e-01, -3.5325e+00,\n",
      "          1.7443e+00,  2.0115e+00,  8.8553e-01, -5.1525e-01, -3.8633e-01],\n",
      "        [-5.2672e-01, -4.1587e+00,  5.7131e-01, -1.7696e+00,  3.7982e+00,\n",
      "         -1.1893e+00,  2.2282e-01,  8.9702e-01,  5.0155e-01,  1.6397e+00],\n",
      "        [-3.1658e+00,  5.3166e+00,  5.3280e-01,  7.5740e-01, -1.7028e+00,\n",
      "         -1.0891e+00, -1.5144e+00,  2.8015e-01,  9.9964e-01, -4.1108e-01],\n",
      "        [-2.8868e+00, -3.1113e+00, -2.8796e+00,  2.8967e-01,  3.9353e+00,\n",
      "          1.4215e+00, -1.5947e+00,  1.0191e+00,  1.5616e+00,  1.6108e+00],\n",
      "        [-3.4323e+00, -7.6261e-01, -1.0479e+00, -2.9552e-01,  1.8043e+00,\n",
      "          1.2084e+00, -2.6561e-01, -1.8521e-01,  6.1208e-01,  3.2761e+00],\n",
      "        [ 6.4965e-01, -1.6909e+00,  2.2848e+00, -3.4989e+00,  1.1603e+00,\n",
      "          4.4625e-01,  2.7546e+00, -2.5673e+00,  2.5705e-01, -9.8197e-02],\n",
      "        [-1.3135e+00, -3.5105e+00, -3.2019e+00, -2.1190e+00,  2.6743e+00,\n",
      "         -1.1407e-01, -1.3394e+00,  3.6065e+00,  6.8147e-01,  4.8902e+00],\n",
      "        [ 6.2549e+00, -4.2459e+00,  1.4978e+00,  1.7682e+00, -2.5680e+00,\n",
      "          3.3603e+00, -8.4468e-01, -3.0548e+00,  2.3910e+00, -4.8088e+00],\n",
      "        [ 7.9157e-01, -9.3312e-01,  1.0749e+00,  5.3808e-02,  8.5886e-02,\n",
      "         -6.5300e-01,  2.2053e+00, -2.5245e+00,  1.6295e+00, -1.6550e+00],\n",
      "        [-1.2377e+00, -3.9992e+00, -1.6924e+00, -1.7012e+00,  3.2590e+00,\n",
      "         -3.9760e-01, -1.2133e+00,  2.2179e+00,  5.8757e-01,  5.0697e+00],\n",
      "        [ 6.6943e+00, -6.0243e+00, -1.7859e-01, -1.0781e+00, -1.9039e+00,\n",
      "          2.1661e+00, -1.5706e+00, -1.1355e+00,  2.2727e+00,  9.4858e-01],\n",
      "        [-3.3413e+00,  5.7445e+00,  2.7154e-01,  1.4806e+00, -2.8876e+00,\n",
      "         -5.9014e-01, -1.8805e-01, -6.7656e-01,  6.8914e-01, -4.0427e-01],\n",
      "        [ 5.5021e-01, -2.0194e+00,  9.5295e-02,  1.7058e+00, -7.6151e-01,\n",
      "          3.0752e+00, -1.4227e+00, -1.2118e+00,  1.5771e+00, -2.3159e+00],\n",
      "        [-7.2762e-01, -4.5204e+00,  1.1590e-01, -1.3649e+00,  2.6486e+00,\n",
      "         -1.8804e+00, -5.7808e-01,  2.3346e+00,  8.2345e-01,  4.1165e+00],\n",
      "        [ 1.1918e+00, -4.1929e+00, -5.7390e-01,  2.5446e+00, -1.7020e+00,\n",
      "         -1.1191e+00, -2.2626e+00,  6.9417e+00, -1.0887e+00,  8.2831e-01],\n",
      "        [-1.8858e+00, -1.7565e+00,  4.9662e-01,  2.3954e+00, -1.1172e+00,\n",
      "          1.5441e+00,  1.3642e+00, -1.5864e+00,  5.7873e-01, -9.9523e-01],\n",
      "        [-1.9064e+00, -3.2975e+00, -1.2500e+00, -4.5403e-01,  5.1704e+00,\n",
      "          9.4387e-02, -3.1053e-01, -3.3439e-02,  5.1238e-03,  2.5669e+00],\n",
      "        [-1.6375e+00, -2.6013e+00, -4.0093e+00,  7.7872e-01,  1.4904e+00,\n",
      "          9.0296e-01, -3.8243e+00,  3.8245e+00,  6.0177e-01,  4.3917e+00],\n",
      "        [-9.8730e-01, -3.8338e+00,  4.9042e-01, -3.3738e-01,  1.1936e+00,\n",
      "          1.9245e+00,  5.1513e+00, -3.8663e+00,  8.6667e-01, -4.0864e-01],\n",
      "        [-1.4508e+00,  5.7084e-01,  7.8813e-01, -1.4797e+00,  2.1743e+00,\n",
      "         -2.9870e+00,  3.1400e+00,  3.9836e-01, -1.9435e-01, -4.7799e-01],\n",
      "        [ 4.2994e-01, -2.9611e+00, -9.4350e-01,  4.2156e-01,  6.9989e-02,\n",
      "          3.7366e+00,  7.5429e-01, -2.6976e+00,  1.4390e+00, -5.0430e-01],\n",
      "        [-1.8092e+00, -2.3459e+00, -1.4029e-01, -3.3718e-01,  3.6766e+00,\n",
      "         -6.8992e-01, -5.4626e-01,  1.1675e+00, -6.9446e-01,  1.9091e+00],\n",
      "        [ 9.4479e+00, -7.9001e+00,  1.0720e+00, -3.2697e+00, -1.4207e+00,\n",
      "          3.7240e+00,  2.8166e+00, -1.6207e+00,  7.9928e-01, -3.5148e+00],\n",
      "        [-2.7786e-01, -3.0375e+00, -1.2058e+00,  4.9655e-01, -1.5251e-01,\n",
      "         -4.5995e-01, -2.0417e+00,  4.7330e+00, -8.6628e-01,  2.7249e+00],\n",
      "        [-1.0050e+00, -4.5382e+00, -6.0399e-01, -1.8057e+00,  5.5216e+00,\n",
      "          4.2696e-01, -2.4010e-01, -5.5934e-01,  2.5660e-01,  2.8365e+00],\n",
      "        [ 7.0879e+00, -6.5426e+00,  1.0039e+00,  2.0043e+00, -3.8372e+00,\n",
      "          1.8650e+00, -1.5803e+00, -1.3033e+00,  1.7901e+00, -1.0051e+00],\n",
      "        [-2.8759e+00,  3.5669e+00, -4.8262e-01,  5.1994e-01, -1.2477e+00,\n",
      "          8.2748e-01,  3.0916e-01, -7.3030e-01,  1.0091e+00, -9.5916e-01],\n",
      "        [-1.6291e+00, -1.2917e+00, -2.0555e+00,  5.8002e+00, -3.3263e+00,\n",
      "          2.1859e+00, -1.2821e+00,  1.5045e+00,  1.7792e-01, -1.0072e-02],\n",
      "        [-2.6573e+00,  3.0857e+00, -4.7002e-01,  1.0462e+00, -9.0833e-01,\n",
      "          9.2908e-02, -4.6795e-01, -5.6245e-02,  2.0995e-01,  1.0367e-01],\n",
      "        [-2.0711e+00, -2.3785e+00, -9.9992e-01,  5.4640e+00, -5.5139e-01,\n",
      "          3.6639e+00, -1.5955e+00, -2.7657e+00,  1.6236e+00, -5.5848e-01],\n",
      "        [ 3.2360e+00, -4.2662e+00,  1.7186e+00, -4.4612e+00,  1.9578e+00,\n",
      "          1.4880e+00,  3.3749e+00, -2.2651e+00,  4.4079e-01, -1.1117e+00],\n",
      "        [-1.5454e+00, -1.7951e+00,  1.7470e+00,  7.0189e-01, -1.0157e+00,\n",
      "         -1.3203e+00, -3.7329e+00,  5.1121e+00,  6.6785e-01,  1.8399e+00],\n",
      "        [ 8.3025e-01, -2.4126e+00,  5.9695e+00,  7.9174e-01, -2.2971e+00,\n",
      "          1.3666e+00,  1.1266e+00, -1.1771e+00,  6.4688e-01, -4.8265e+00],\n",
      "        [-8.4652e-01, -4.1727e+00,  5.1575e-01,  1.1530e+00, -1.3467e+00,\n",
      "         -8.5423e-01, -1.5144e+00,  5.6513e+00, -3.5649e-01,  2.6046e+00],\n",
      "        [-3.3937e+00,  5.0408e+00, -5.8122e-01,  4.6261e-01, -1.6472e+00,\n",
      "          1.3326e-01, -4.2081e-01, -1.2362e-01,  1.0171e+00, -2.7707e-01],\n",
      "        [ 1.1559e+00,  7.4819e-01,  2.9116e+00,  2.7671e+00, -5.5266e+00,\n",
      "          9.2302e-01,  1.2251e+00, -2.7991e+00,  1.6758e+00, -3.0170e+00],\n",
      "        [-3.2228e+00,  5.6919e+00, -2.9940e-02,  1.2302e+00, -3.4107e+00,\n",
      "         -6.2754e-02, -2.8793e-01, -1.4801e+00,  2.0841e+00, -2.7673e-01],\n",
      "        [-1.7835e+00,  3.5424e+00,  1.5090e-01,  2.4714e-01, -1.3329e+00,\n",
      "         -1.9231e-01, -7.5221e-02, -2.5807e-01,  2.5047e-01, -2.8894e-01],\n",
      "        [-1.6866e+00, -2.8333e+00,  2.0213e-02,  1.0872e-01, -4.2827e-01,\n",
      "         -8.5000e-01, -1.5027e+00,  5.0705e+00, -5.7714e-01,  3.2472e+00],\n",
      "        [-4.8687e+00, -7.3814e-01, -1.0157e+00, -5.7844e-01,  5.3744e+00,\n",
      "         -1.5937e+00, -1.9287e+00,  1.5114e+00,  1.1519e+00,  3.1863e+00],\n",
      "        [-8.3580e-01,  1.6009e+00,  3.1822e+00,  1.3330e-01, -3.9289e-01,\n",
      "         -9.6658e-01,  6.3973e-01, -2.6131e+00,  1.3937e+00, -1.2205e+00],\n",
      "        [-2.3426e+00, -2.5294e-01,  1.8046e-01,  3.3545e+00, -1.6959e+00,\n",
      "          1.1612e+00,  9.5025e-01, -9.2420e-01,  2.1704e-01, -8.2459e-01],\n",
      "        [ 8.0582e-01, -3.0313e+00, -1.4120e+00,  3.0919e+00, -8.0913e-01,\n",
      "          3.8179e+00, -4.6205e-01, -3.4472e+00,  2.0800e+00, -1.2396e+00],\n",
      "        [-4.3633e+00,  1.4519e+00,  3.4158e-01,  2.1710e+00, -5.6732e-01,\n",
      "          8.9102e-01, -2.6808e-01, -5.0760e-01,  4.4338e-01,  2.0628e-01],\n",
      "        [-1.6027e+00, -1.3132e+00,  3.6137e+00, -6.4643e-01,  1.2751e+00,\n",
      "         -1.2654e+00,  1.7295e+00, -9.0318e-01, -1.3833e-01, -2.0068e-01],\n",
      "        [-2.9616e+00, -5.9018e+00, -3.9090e+00, -2.5205e-01,  6.9082e+00,\n",
      "          1.3935e+00, -2.0737e+00,  1.7393e-01,  2.0491e+00,  4.3187e+00],\n",
      "        [-1.1666e+00, -4.0846e+00,  9.1193e-01, -1.4803e+00,  5.3844e+00,\n",
      "         -2.6959e+00,  4.9941e-01,  8.2245e-01, -1.3750e-02,  2.3985e+00],\n",
      "        [ 1.0108e+00, -3.4522e+00,  4.6007e-01,  4.2434e-01, -1.0338e+00,\n",
      "          1.3506e+00,  5.4331e+00, -2.8289e+00, -7.6174e-02, -1.2916e+00],\n",
      "        [-1.1096e-02, -3.1359e+00,  1.1001e-01,  4.6448e+00, -1.9111e+00,\n",
      "          2.0985e+00, -4.9635e-01, -7.6433e-01, -3.8864e-01, -1.7141e-01],\n",
      "        [ 1.5443e+00, -3.0380e+00, -2.7506e+00, -1.5645e-01,  1.6817e+00,\n",
      "          3.5210e+00, -4.7152e-01, -7.7989e-01, -9.3534e-02,  6.5227e-01],\n",
      "        [ 2.8575e-01, -2.0796e+00, -1.1441e+00,  1.4269e+00,  2.0397e-01,\n",
      "          2.5751e+00, -8.6451e-01, -1.5882e+00,  1.3029e+00, -8.3544e-01],\n",
      "        [-6.6864e-01, -1.1349e+00,  2.6476e+00, -6.3394e-01,  6.6389e-01,\n",
      "         -2.4058e+00,  2.9399e+00, -1.6805e+00,  5.9240e-01, -1.5172e+00],\n",
      "        [ 4.7499e+00, -6.2087e+00, -6.8749e-01,  3.4043e-01, -2.0750e+00,\n",
      "          3.0452e+00,  2.0745e-02, -2.1601e+00,  3.3532e+00, -2.5486e-01],\n",
      "        [-7.2682e-01, -5.6672e+00, -2.8902e-01, -1.1936e+00,  6.4121e+00,\n",
      "          4.2361e-01,  7.0236e-01, -9.1397e-01,  8.3533e-01,  1.4774e+00],\n",
      "        [-2.1469e+00,  4.5098e+00,  4.3974e-01,  8.5779e-01, -2.1409e+00,\n",
      "         -7.8017e-01, -1.1554e+00, -9.5818e-02,  8.5836e-01, -7.0129e-02],\n",
      "        [-4.7648e-01, -4.1899e+00, -2.2060e+00, -1.6145e+00,  3.4304e+00,\n",
      "         -1.1821e+00, -6.1960e-01,  2.4251e+00, -1.3628e-01,  5.0968e+00],\n",
      "        [ 6.1082e-01, -2.3369e-01, -1.2327e+00, -1.0250e+00,  5.7594e-01,\n",
      "          1.7741e+00, -9.8434e-01,  1.0266e+00,  4.6534e-01, -8.2601e-01],\n",
      "        [-1.1705e+00, -3.6347e+00, -1.3436e+00,  2.2175e+00, -3.4089e-01,\n",
      "         -3.1771e-01, -1.6110e+00,  5.7490e+00, -9.9330e-01,  1.0728e+00],\n",
      "        [ 3.8525e-01, -3.1806e+00,  2.6480e+00, -2.8517e+00, -8.7379e-01,\n",
      "          1.0674e+00,  1.0793e+00, -2.5496e+00,  3.6898e+00,  1.2531e+00],\n",
      "        [-1.6623e+00, -2.4389e+00,  3.3552e-01, -8.3634e-01,  1.9158e+00,\n",
      "          7.1644e-01,  5.4005e-02, -2.5553e-01,  9.4080e-01,  2.0915e+00],\n",
      "        [-1.7327e+00, -9.9933e-01,  2.9396e+00,  2.3812e+00, -4.0583e-01,\n",
      "         -4.2057e-01, -9.8574e-01, -2.1549e+00,  6.8671e-01,  7.1330e-01],\n",
      "        [-1.7506e+00, -3.0238e+00,  1.2418e+00,  4.2512e-01,  1.3341e+00,\n",
      "         -1.1200e+00, -1.7240e+00,  4.4814e+00,  2.6788e-01,  1.5560e+00],\n",
      "        [-2.5131e+00, -1.8879e+00, -1.5787e+00,  1.1257e+00,  2.1002e+00,\n",
      "          1.1921e+00, -1.1377e-01, -1.1805e+00,  1.0276e+00,  1.5347e+00],\n",
      "        [ 5.6797e-02, -3.1120e-01,  1.2782e+00,  1.6501e-01,  4.4273e-01,\n",
      "         -1.5348e+00,  1.5463e+00,  7.4152e-01, -6.9305e-01, -1.7939e+00],\n",
      "        [-1.2561e+00, -2.6838e+00,  5.5922e-01, -2.2662e+00,  5.2154e+00,\n",
      "         -2.2057e+00, -3.0110e-01,  7.8254e-01,  4.5361e-01,  1.5437e+00],\n",
      "        [-2.3215e+00, -2.2424e+00, -3.0532e-01,  6.4968e+00, -1.0566e+00,\n",
      "          2.4441e+00, -2.5149e+00, -1.7990e+00,  2.3318e+00, -5.3569e-01],\n",
      "        [ 5.8211e+00, -3.7021e+00,  1.7407e+00, -6.4455e-01, -5.2600e+00,\n",
      "          2.5917e+00,  9.8532e-01,  1.3685e-01, -1.6585e-01, -7.7643e-01],\n",
      "        [ 1.1510e+00, -3.7847e+00, -1.3507e+00,  1.3622e+00, -1.3454e+00,\n",
      "         -1.3807e+00, -2.1067e+00,  7.0087e+00, -6.9106e-01,  8.7058e-01],\n",
      "        [ 8.9852e+00, -6.5541e+00,  2.3371e+00,  2.6388e-03, -3.8354e+00,\n",
      "          3.4976e+00,  4.0951e-01, -3.4943e+00,  2.1582e+00, -4.0511e+00],\n",
      "        [ 3.2695e+00, -3.1473e+00,  4.6230e+00,  3.0654e+00, -2.9872e+00,\n",
      "          2.3095e-01,  8.8135e-01, -2.1025e+00,  5.7280e-01, -5.2830e+00],\n",
      "        [-2.8238e+00,  1.0921e+00,  3.3341e-02,  5.9128e-01, -2.4875e+00,\n",
      "         -1.0288e+00, -2.7769e+00,  2.5230e+00,  2.3323e+00,  2.6843e+00],\n",
      "        [-3.2458e+00,  4.9357e+00, -5.9224e-01,  3.8880e-01, -2.2362e+00,\n",
      "          2.8696e-01, -2.0686e-01, -5.4664e-01,  1.6329e+00, -1.4549e-01],\n",
      "        [-4.0615e+00,  9.4961e-01, -9.8327e-01, -7.2499e-01,  2.1556e+00,\n",
      "         -1.3275e+00, -1.9870e+00,  4.6544e+00,  3.5138e-01,  1.1864e+00],\n",
      "        [-6.3908e-01,  1.8719e-01, -6.2812e-01,  4.7811e+00, -2.2102e+00,\n",
      "          2.5612e+00, -1.5381e+00, -2.5331e+00,  1.5276e+00, -2.1171e+00],\n",
      "        [-1.8340e+00, -1.4656e+00,  1.7766e+00, -8.5355e-01, -1.0329e+00,\n",
      "         -1.0271e+00, -1.8063e-02,  4.2829e+00, -6.1695e-01,  1.5476e+00],\n",
      "        [-3.2442e+00,  9.3576e-01, -2.2102e+00,  6.6821e-01,  6.4802e-02,\n",
      "          1.7822e-01, -1.4946e+00,  7.8554e-01,  2.0016e+00,  2.4474e+00],\n",
      "        [-1.0512e+00, -2.7784e+00, -2.1452e+00, -1.3202e+00, -1.0968e+00,\n",
      "         -5.2803e-01, -3.4822e+00,  8.6804e+00,  9.5054e-01,  2.7151e+00],\n",
      "        [-9.7758e-01, -4.1934e+00, -2.2562e+00, -1.4582e-01,  1.9945e+00,\n",
      "          1.3818e+00, -1.6282e+00,  3.6402e+00, -1.1533e+00,  3.8795e+00],\n",
      "        [ 3.7250e-01, -5.1569e+00,  1.8893e+00, -1.9037e+00,  6.4492e-01,\n",
      "          1.1461e+00,  5.3155e+00, -1.4062e+00, -4.8579e-01,  9.9530e-02],\n",
      "        [-8.5499e-01, -3.0200e+00,  9.3563e+00,  1.2961e-01, -8.8460e-01,\n",
      "         -2.5476e+00,  1.8360e+00, -2.3074e+00,  1.1676e+00, -3.1325e+00],\n",
      "        [-1.1469e+00, -3.8831e+00, -1.6152e+00,  2.1187e-01,  1.0198e+00,\n",
      "         -3.4834e-01, -2.4455e+00,  5.5492e+00, -5.0986e-01,  3.3340e+00],\n",
      "        [-2.2361e+00, -3.7876e-01, -7.9966e-01, -1.3963e+00,  1.3903e+00,\n",
      "          2.5813e+00, -1.4296e+00, -1.8009e+00,  3.6614e+00,  8.8855e-01],\n",
      "        [-2.6948e+00, -4.9995e+00, -3.0376e+00,  2.5340e-01,  7.3576e+00,\n",
      "          5.9928e-01, -4.1844e-01, -1.5401e+00,  1.5933e+00,  2.8896e+00],\n",
      "        [-3.6502e+00, -2.2063e-01, -1.9968e-01, -4.8890e-01, -7.3458e-01,\n",
      "         -1.9453e+00, -3.0189e+00,  7.7078e+00,  6.3172e-01,  2.5018e+00],\n",
      "        [-1.6873e-01, -3.7721e+00, -2.4966e+00,  3.8867e+00, -1.9693e-01,\n",
      "          3.2265e+00,  7.8276e-01, -1.0150e+00,  2.1628e-01, -6.8857e-01],\n",
      "        [-8.7367e-01, -4.9768e+00,  2.1298e+00, -2.9383e+00,  2.9564e+00,\n",
      "         -8.7643e-01,  6.1395e+00, -5.2313e-01, -7.5692e-01,  7.6761e-01],\n",
      "        [-3.8550e+00,  5.6155e+00,  1.0087e+00,  3.6480e-01, -1.4459e+00,\n",
      "         -7.5747e-01, -3.1888e-01, -5.6023e-01,  1.2160e+00, -1.3404e+00],\n",
      "        [ 5.1523e-01, -1.6518e+00, -4.3097e-01,  6.4879e+00, -3.0567e+00,\n",
      "          2.3151e+00, -4.0517e+00, -5.1266e-01,  1.5838e+00, -1.4465e+00],\n",
      "        [-1.9400e+00, -1.7249e+00,  1.2600e+00, -2.0683e+00,  1.3443e+00,\n",
      "         -1.3043e-01,  6.0347e+00, -3.2177e+00,  3.5292e-01,  1.5754e-01],\n",
      "        [-1.7750e+00, -5.5747e-01, -6.3050e-02, -7.3837e-01,  1.6481e+00,\n",
      "          1.0878e-01, -4.8868e-01, -1.6617e-01,  1.4559e+00,  1.3875e+00],\n",
      "        [-1.2961e+00, -2.4365e+00, -1.3920e+00,  6.4138e+00, -3.8038e+00,\n",
      "          2.8917e+00, -3.3473e+00,  1.6659e+00,  1.0597e+00, -3.9644e-02],\n",
      "        [-5.3756e+00,  4.1968e+00,  2.9460e-01,  4.4785e-01, -1.2607e+00,\n",
      "          5.2988e-01,  4.7822e-01, -1.4603e+00,  1.8978e+00, -6.3889e-01],\n",
      "        [-2.3153e+00, -1.1306e+00, -1.1942e+00, -3.5863e+00,  5.9186e+00,\n",
      "         -1.6276e+00,  8.6980e-01,  4.1118e-03,  1.9178e-01,  2.5248e+00],\n",
      "        [-3.0210e+00,  1.7031e+00, -8.5606e-01,  1.0090e+00, -3.0255e-01,\n",
      "          7.5334e-01, -4.5455e-01,  1.0199e-01,  6.9493e-01,  3.9734e-01],\n",
      "        [-4.1592e+00,  1.7173e+00, -6.8311e-01,  1.1648e+00, -6.7303e-01,\n",
      "         -2.1650e-01, -1.4534e-01,  2.5017e+00,  9.4105e-01,  1.1539e+00],\n",
      "        [ 2.2976e+00, -3.2406e+00,  2.3204e+00, -3.1277e+00, -6.1107e-01,\n",
      "          2.1627e+00,  4.7626e+00, -3.0035e+00,  2.7782e-01, -2.2501e+00],\n",
      "        [-2.8521e+00, -3.8372e+00,  3.2120e-01, -1.0193e+00,  3.0189e+00,\n",
      "         -2.8088e+00, -1.2929e+00,  2.4839e+00,  7.0767e-01,  6.1356e+00]],\n",
      "       grad_fn=<AddmmBackward>)\n"
     ]
    }
   ],
   "source": [
    "iter_test=0\n",
    "for images,labels in test_loader:\n",
    "    iter_test+=1\n",
    "    images=Variable(images.view(-1,28*28))\n",
    "    \n",
    "    output=model(images)\n",
    "    \n",
    "    if iter_test==1:\n",
    "        print(\"Output\")\n",
    "        print(output)\n",
    "        \n",
    "    _,prediction=torch.max(output.data,1)"
   ]
  },
  {
   "cell_type": "code",
   "execution_count": 29,
   "metadata": {},
   "outputs": [
    {
     "name": "stdout",
     "output_type": "stream",
     "text": [
      "Output\n",
      "torch.Size([100, 10])\n"
     ]
    }
   ],
   "source": [
    "iter_test=0\n",
    "for images,labels in test_loader:\n",
    "    iter_test+=1\n",
    "    images=Variable(images.view(-1,28*28))\n",
    "    \n",
    "    output=model(images)\n",
    "    \n",
    "    if iter_test==1:\n",
    "        print(\"Output\")\n",
    "        print(output.size())\n",
    "        \n",
    "        \n",
    "    _,prediction=torch.max(output.data,1)"
   ]
  },
  {
   "cell_type": "code",
   "execution_count": 31,
   "metadata": {},
   "outputs": [
    {
     "name": "stdout",
     "output_type": "stream",
     "text": [
      "Output\n",
      "tensor([-0.0495, -3.7438, -0.5711,  0.9282, -0.8808, -0.9332, -2.8574,  6.7689,\n",
      "        -0.5024,  1.9389], grad_fn=<SliceBackward>)\n"
     ]
    }
   ],
   "source": [
    "iter_test=0\n",
    "for images,labels in test_loader:\n",
    "    iter_test+=1\n",
    "    images=Variable(images.view(-1,28*28))\n",
    "    \n",
    "    output=model(images)\n",
    "    \n",
    "    if iter_test==1:\n",
    "        print(\"Output\")\n",
    "        print(output[0,:])\n",
    "        \n",
    "        \n",
    "    _,prediction=torch.max(output.data,1)"
   ]
  },
  {
   "cell_type": "code",
   "execution_count": null,
   "metadata": {},
   "outputs": [],
   "source": []
  }
 ],
 "metadata": {
  "kernelspec": {
   "display_name": "Python 3",
   "language": "python",
   "name": "python3"
  },
  "language_info": {
   "codemirror_mode": {
    "name": "ipython",
    "version": 3
   },
   "file_extension": ".py",
   "mimetype": "text/x-python",
   "name": "python",
   "nbconvert_exporter": "python",
   "pygments_lexer": "ipython3",
   "version": "3.7.4"
  }
 },
 "nbformat": 4,
 "nbformat_minor": 2
}
