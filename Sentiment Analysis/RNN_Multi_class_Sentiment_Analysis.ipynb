{
  "nbformat": 4,
  "nbformat_minor": 0,
  "metadata": {
    "colab": {
      "name": "RNN_Multi-class Sentiment Analysis.ipynb",
      "provenance": [],
      "collapsed_sections": []
    },
    "kernelspec": {
      "name": "python3",
      "display_name": "Python 3"
    },
    "language_info": {
      "name": "python"
    }
  },
  "cells": [
    {
      "cell_type": "code",
      "metadata": {
        "colab": {
          "base_uri": "https://localhost:8080/"
        },
        "id": "ExXiysA1kZzZ",
        "outputId": "9f86727b-6291-499a-99a1-fa39c77217bb"
      },
      "source": [
        "!pip install contractions\n",
        "!pip install unidecode"
      ],
      "execution_count": null,
      "outputs": [
        {
          "output_type": "stream",
          "text": [
            "Collecting contractions\n",
            "  Downloading https://files.pythonhosted.org/packages/93/f4/0ec4a458e4368cc3be2c799411ecf0bc961930e566dadb9624563821b3a6/contractions-0.0.52-py2.py3-none-any.whl\n",
            "Collecting textsearch>=0.0.21\n",
            "  Downloading https://files.pythonhosted.org/packages/d3/fe/021d7d76961b5ceb9f8d022c4138461d83beff36c3938dc424586085e559/textsearch-0.0.21-py2.py3-none-any.whl\n",
            "Collecting pyahocorasick\n",
            "\u001b[?25l  Downloading https://files.pythonhosted.org/packages/7f/c2/eae730037ae1cbbfaa229d27030d1d5e34a1e41114b21447d1202ae9c220/pyahocorasick-1.4.2.tar.gz (321kB)\n",
            "\u001b[K     |████████████████████████████████| 327kB 3.9MB/s \n",
            "\u001b[?25hCollecting anyascii\n",
            "\u001b[?25l  Downloading https://files.pythonhosted.org/packages/a3/14/666cd44bf53f36a961544af592cb5c5c800013f9c51a4745af8d7c17362a/anyascii-0.2.0-py3-none-any.whl (283kB)\n",
            "\u001b[K     |████████████████████████████████| 286kB 20.5MB/s \n",
            "\u001b[?25hBuilding wheels for collected packages: pyahocorasick\n",
            "  Building wheel for pyahocorasick (setup.py) ... \u001b[?25l\u001b[?25hdone\n",
            "  Created wheel for pyahocorasick: filename=pyahocorasick-1.4.2-cp37-cp37m-linux_x86_64.whl size=85404 sha256=480541538dc7d3e92e0995f6d762267dfa8d1cc06a3533d86f83842a4c13351f\n",
            "  Stored in directory: /root/.cache/pip/wheels/3a/03/34/77e3ece0bba8b86bfac88a79f923b36d805cad63caeba38842\n",
            "Successfully built pyahocorasick\n",
            "Installing collected packages: pyahocorasick, anyascii, textsearch, contractions\n",
            "Successfully installed anyascii-0.2.0 contractions-0.0.52 pyahocorasick-1.4.2 textsearch-0.0.21\n",
            "Collecting unidecode\n",
            "\u001b[?25l  Downloading https://files.pythonhosted.org/packages/9e/25/723487ca2a52ebcee88a34d7d1f5a4b80b793f179ee0f62d5371938dfa01/Unidecode-1.2.0-py2.py3-none-any.whl (241kB)\n",
            "\u001b[K     |████████████████████████████████| 245kB 4.0MB/s \n",
            "\u001b[?25hInstalling collected packages: unidecode\n",
            "Successfully installed unidecode-1.2.0\n"
          ],
          "name": "stdout"
        }
      ]
    },
    {
      "cell_type": "code",
      "metadata": {
        "id": "Qwjv7ek6bjHC"
      },
      "source": [
        "import pandas as pd\n",
        "import numpy as np\n",
        "import os\n",
        "import torch\n",
        "import torch.nn as nn\n",
        "import torchtext\n",
        "import random\n",
        "import time\n",
        "import torch.nn.functional as F\n",
        "import re\n",
        "import spacy\n",
        "from unidecode import unidecode\n",
        "import contractions\n",
        "from torchtext.legacy.data import TabularDataset,BucketIterator,get_tokenizer,Field,LabelField"
      ],
      "execution_count": null,
      "outputs": []
    },
    {
      "cell_type": "code",
      "metadata": {
        "id": "uYvGi7F7uSuW"
      },
      "source": [
        "dirs=\"/content/drive/MyDrive/dataset/Bcc_news_classification/bbc-fulltext (document classification)/bbc\""
      ],
      "execution_count": null,
      "outputs": []
    },
    {
      "cell_type": "code",
      "metadata": {
        "id": "HB_2W-Jcbv6Z"
      },
      "source": [
        "Dir=\"/content/drive/MyDrive/dataset/Bcc_news_classification/bbc-fulltext (document classification)/bbc\""
      ],
      "execution_count": null,
      "outputs": []
    },
    {
      "cell_type": "code",
      "metadata": {
        "id": "hgIGXM3ocsds"
      },
      "source": [
        "texts=[]\n",
        "labels=[]\n",
        "for folder in os.listdir(Dir):\n",
        "  if \"TXT\" in folder:\n",
        "    continue\n",
        "  paths=os.path.join(Dir,folder)\n",
        "  for path in os.listdir(paths):\n",
        "    # print(paths+\"/\"+path)\n",
        "    with open(paths+\"/\"+path,\"r\", encoding = \"latin\") as file:\n",
        "      data=file.read()\n",
        "      data = data.replace(\"\\n\",\" \").replace('\\r','')\n",
        "      texts.append(data)\n",
        "      file.close() # file is being closed\n",
        "#     letting the category of the news as the folder name in which it reside\n",
        "      labels.append(folder)"
      ],
      "execution_count": null,
      "outputs": []
    },
    {
      "cell_type": "code",
      "metadata": {
        "id": "laFGBKfvcyOy"
      },
      "source": [
        "df=pd.DataFrame({\"text\":texts,\"label\":labels})"
      ],
      "execution_count": null,
      "outputs": []
    },
    {
      "cell_type": "code",
      "metadata": {
        "colab": {
          "base_uri": "https://localhost:8080/",
          "height": 204
        },
        "id": "HUYfNZJngjbX",
        "outputId": "14c63064-5b7a-471c-9282-26656977c928"
      },
      "source": [
        "df.head()"
      ],
      "execution_count": null,
      "outputs": [
        {
          "output_type": "execute_result",
          "data": {
            "text/html": [
              "<div>\n",
              "<style scoped>\n",
              "    .dataframe tbody tr th:only-of-type {\n",
              "        vertical-align: middle;\n",
              "    }\n",
              "\n",
              "    .dataframe tbody tr th {\n",
              "        vertical-align: top;\n",
              "    }\n",
              "\n",
              "    .dataframe thead th {\n",
              "        text-align: right;\n",
              "    }\n",
              "</style>\n",
              "<table border=\"1\" class=\"dataframe\">\n",
              "  <thead>\n",
              "    <tr style=\"text-align: right;\">\n",
              "      <th></th>\n",
              "      <th>text</th>\n",
              "      <th>label</th>\n",
              "    </tr>\n",
              "  </thead>\n",
              "  <tbody>\n",
              "    <tr>\n",
              "      <th>0</th>\n",
              "      <td>Yukos unit buyer faces loan claim  The owners ...</td>\n",
              "      <td>business</td>\n",
              "    </tr>\n",
              "    <tr>\n",
              "      <th>1</th>\n",
              "      <td>High fuel prices hit BA's profits  British Air...</td>\n",
              "      <td>business</td>\n",
              "    </tr>\n",
              "    <tr>\n",
              "      <th>2</th>\n",
              "      <td>Dollar gains on Greenspan speech  The dollar h...</td>\n",
              "      <td>business</td>\n",
              "    </tr>\n",
              "    <tr>\n",
              "      <th>3</th>\n",
              "      <td>Ad sales boost Time Warner profit  Quarterly p...</td>\n",
              "      <td>business</td>\n",
              "    </tr>\n",
              "    <tr>\n",
              "      <th>4</th>\n",
              "      <td>Japan narrowly escapes recession  Japan's econ...</td>\n",
              "      <td>business</td>\n",
              "    </tr>\n",
              "  </tbody>\n",
              "</table>\n",
              "</div>"
            ],
            "text/plain": [
              "                                                text     label\n",
              "0  Yukos unit buyer faces loan claim  The owners ...  business\n",
              "1  High fuel prices hit BA's profits  British Air...  business\n",
              "2  Dollar gains on Greenspan speech  The dollar h...  business\n",
              "3  Ad sales boost Time Warner profit  Quarterly p...  business\n",
              "4  Japan narrowly escapes recession  Japan's econ...  business"
            ]
          },
          "metadata": {
            "tags": []
          },
          "execution_count": 23
        }
      ]
    },
    {
      "cell_type": "code",
      "metadata": {
        "colab": {
          "base_uri": "https://localhost:8080/"
        },
        "id": "46tKDy5SgoLz",
        "outputId": "0876007a-0f13-4dd7-a432-0462aaacfd5b"
      },
      "source": [
        "df[\"label\"].value_counts()"
      ],
      "execution_count": null,
      "outputs": [
        {
          "output_type": "execute_result",
          "data": {
            "text/plain": [
              "sport            511\n",
              "business         510\n",
              "politics         417\n",
              "tech             401\n",
              "entertainment    386\n",
              "Name: label, dtype: int64"
            ]
          },
          "metadata": {
            "tags": []
          },
          "execution_count": 24
        }
      ]
    },
    {
      "cell_type": "code",
      "metadata": {
        "id": "nujhcAl2iLif"
      },
      "source": [
        ""
      ],
      "execution_count": null,
      "outputs": []
    },
    {
      "cell_type": "code",
      "metadata": {
        "id": "VdF_lrWTiLvx"
      },
      "source": [
        "df[\"text\"]=df[\"text\"].apply(lambda x:x.lower())"
      ],
      "execution_count": null,
      "outputs": []
    },
    {
      "cell_type": "code",
      "metadata": {
        "colab": {
          "base_uri": "https://localhost:8080/"
        },
        "id": "27YksruniLyy",
        "outputId": "778f4995-6fc7-4d5e-ff73-18d70ece2180"
      },
      "source": [
        "df.isnull().sum()"
      ],
      "execution_count": null,
      "outputs": [
        {
          "output_type": "execute_result",
          "data": {
            "text/plain": [
              "text     0\n",
              "label    0\n",
              "dtype: int64"
            ]
          },
          "metadata": {
            "tags": []
          },
          "execution_count": 27
        }
      ]
    },
    {
      "cell_type": "code",
      "metadata": {
        "id": "UiB6tv_ckBCV"
      },
      "source": [
        "def expend_contraction(txt):\n",
        "  list_contraction=[]\n",
        "  for word in txt.split():\n",
        "    list_contraction.append(contractions.fix(word))\n",
        "\n",
        "  expend_word=\" \".join(list_contraction)\n",
        "  return expend_word"
      ],
      "execution_count": null,
      "outputs": []
    },
    {
      "cell_type": "code",
      "metadata": {
        "id": "wO_8XIZgkDSI"
      },
      "source": [
        "df[\"text\"]=df[\"text\"].apply(lambda x:expend_contraction(x))"
      ],
      "execution_count": null,
      "outputs": []
    },
    {
      "cell_type": "code",
      "metadata": {
        "id": "lMCENRNHkDUt"
      },
      "source": [
        "df[\"text\"]=df[\"text\"].apply(lambda x:unidecode(x))"
      ],
      "execution_count": null,
      "outputs": []
    },
    {
      "cell_type": "code",
      "metadata": {
        "id": "-_RCM2QukzEy"
      },
      "source": [
        "df[\"text\"]=df[\"text\"].apply(lambda x:re.sub(r'http\\S+', '', x))"
      ],
      "execution_count": null,
      "outputs": []
    },
    {
      "cell_type": "code",
      "metadata": {
        "id": "6mcbAa8-kzIa"
      },
      "source": [
        "df[\"text\"]=df[\"text\"].apply(lambda x:re.sub('[^A-Za-z0-9]+', ' ', x))"
      ],
      "execution_count": null,
      "outputs": []
    },
    {
      "cell_type": "code",
      "metadata": {
        "colab": {
          "base_uri": "https://localhost:8080/",
          "height": 204
        },
        "id": "tj_QoeQhkDXi",
        "outputId": "2dedaa07-a861-43e9-8646-f6c5052c11e7"
      },
      "source": [
        "df.head()"
      ],
      "execution_count": null,
      "outputs": [
        {
          "output_type": "execute_result",
          "data": {
            "text/html": [
              "<div>\n",
              "<style scoped>\n",
              "    .dataframe tbody tr th:only-of-type {\n",
              "        vertical-align: middle;\n",
              "    }\n",
              "\n",
              "    .dataframe tbody tr th {\n",
              "        vertical-align: top;\n",
              "    }\n",
              "\n",
              "    .dataframe thead th {\n",
              "        text-align: right;\n",
              "    }\n",
              "</style>\n",
              "<table border=\"1\" class=\"dataframe\">\n",
              "  <thead>\n",
              "    <tr style=\"text-align: right;\">\n",
              "      <th></th>\n",
              "      <th>text</th>\n",
              "      <th>label</th>\n",
              "    </tr>\n",
              "  </thead>\n",
              "  <tbody>\n",
              "    <tr>\n",
              "      <th>0</th>\n",
              "      <td>yukos unit buyer faces loan claim the owners o...</td>\n",
              "      <td>business</td>\n",
              "    </tr>\n",
              "    <tr>\n",
              "      <th>1</th>\n",
              "      <td>high fuel prices hit ba s profits british airw...</td>\n",
              "      <td>business</td>\n",
              "    </tr>\n",
              "    <tr>\n",
              "      <th>2</th>\n",
              "      <td>dollar gains on greenspan speech the dollar ha...</td>\n",
              "      <td>business</td>\n",
              "    </tr>\n",
              "    <tr>\n",
              "      <th>3</th>\n",
              "      <td>ad sales boost time warner profit quarterly pr...</td>\n",
              "      <td>business</td>\n",
              "    </tr>\n",
              "    <tr>\n",
              "      <th>4</th>\n",
              "      <td>japan narrowly escapes recession japan s econo...</td>\n",
              "      <td>business</td>\n",
              "    </tr>\n",
              "  </tbody>\n",
              "</table>\n",
              "</div>"
            ],
            "text/plain": [
              "                                                text     label\n",
              "0  yukos unit buyer faces loan claim the owners o...  business\n",
              "1  high fuel prices hit ba s profits british airw...  business\n",
              "2  dollar gains on greenspan speech the dollar ha...  business\n",
              "3  ad sales boost time warner profit quarterly pr...  business\n",
              "4  japan narrowly escapes recession japan s econo...  business"
            ]
          },
          "metadata": {
            "tags": []
          },
          "execution_count": 47
        }
      ]
    },
    {
      "cell_type": "code",
      "metadata": {
        "id": "UToIro08gwH1"
      },
      "source": [
        "df.to_csv(\"/content/drive/MyDrive/dataset/Bcc_news_classification/bbc-fulltext (document classification)/All_data.csv\",index=False)"
      ],
      "execution_count": null,
      "outputs": []
    },
    {
      "cell_type": "code",
      "metadata": {
        "id": "EX-p-hTohwqh"
      },
      "source": [
        ""
      ],
      "execution_count": null,
      "outputs": []
    },
    {
      "cell_type": "code",
      "metadata": {
        "id": "fr59_Mt-lQl1"
      },
      "source": [
        ""
      ],
      "execution_count": null,
      "outputs": []
    },
    {
      "cell_type": "code",
      "metadata": {
        "id": "Zeq6NfAxlQoo"
      },
      "source": [
        ""
      ],
      "execution_count": null,
      "outputs": []
    },
    {
      "cell_type": "code",
      "metadata": {
        "id": "0IErqM9ijZfU"
      },
      "source": [
        ""
      ],
      "execution_count": null,
      "outputs": []
    },
    {
      "cell_type": "code",
      "metadata": {
        "id": "WfstRleGhxug"
      },
      "source": [
        "TEXT=Field(tokenize=\"spacy\",tokenizer_language='en_core_web_sm')\n",
        "LABEL=LabelField()"
      ],
      "execution_count": null,
      "outputs": []
    },
    {
      "cell_type": "code",
      "metadata": {
        "id": "n0cRu6HHi4gY"
      },
      "source": [
        "field=[(\"text\",TEXT),(\"label\",LABEL)]"
      ],
      "execution_count": null,
      "outputs": []
    },
    {
      "cell_type": "code",
      "metadata": {
        "colab": {
          "base_uri": "https://localhost:8080/"
        },
        "id": "kIkQYlwyjAaf",
        "outputId": "bc679828-5654-4dd0-a0b4-f8cca3b554a8"
      },
      "source": [
        "training_data=TabularDataset(path=\"/content/drive/MyDrive/dataset/Bcc_news_classification/bbc-fulltext (document classification)/All_data.csv\",\n",
        "                             format=\"csv\",fields=field,skip_header=True)\n",
        "\n",
        "print(vars(training_data[3]))"
      ],
      "execution_count": null,
      "outputs": [
        {
          "output_type": "stream",
          "text": [
            "{'text': ['ad', 'sales', 'boost', 'time', 'warner', 'profit', 'quarterly', 'profits', 'at', 'us', 'media', 'giant', 'timewarner', 'jumped', '76', 'to', '1', '13bn', 'aPS600', 'm', 'for', 'the', 'three', 'months', 'to', 'december', 'from', '639', 'm', 'year', 'earlier', 'the', 'firm', 'which', 'is', 'now', 'one', 'of', 'the', 'biggest', 'investors', 'in', 'google', 'benefited', 'from', 'sales', 'of', 'high', 'speed', 'internet', 'connections', 'and', 'higher', 'advert', 'sales', 'timewarner', 'said', 'fourth', 'quarter', 'sales', 'rose', '2', 'to', '11', '1bn', 'from', '10', '9bn', 'its', 'profits', 'were', 'buoyed', 'by', 'one', 'off', 'gains', 'which', 'offset', 'a', 'profit', 'dip', 'at', 'warner', 'bros', 'and', 'less', 'users', 'for', 'aol', 'time', 'warner', 'said', 'on', 'friday', 'that', 'it', 'now', 'owns', '8', 'of', 'search', 'engine', 'google', 'but', 'its', 'own', 'internet', 'business', 'aol', 'had', 'has', 'mixed', 'fortunes', 'it', 'lost', '464', '000', 'subscribers', 'in', 'the', 'fourth', 'quarter', 'profits', 'were', 'lower', 'than', 'in', 'the', 'preceding', 'three', 'quarters', 'however', 'the', 'company', 'said', 'aol', 's', 'underlying', 'profit', 'before', 'exceptional', 'items', 'rose', '8', 'on', 'the', 'back', 'of', 'stronger', 'internet', 'advertising', 'revenues', 'it', 'hopes', 'to', 'increase', 'subscribers', 'by', 'offering', 'the', 'online', 'service', 'free', 'to', 'timewarner', 'internet', 'customers', 'and', 'will', 'try', 'to', 'sign', 'up', 'aol', 's', 'existing', 'customers', 'for', 'high', 'speed', 'broadband', 'timewarner', 'also', 'has', 'to', 'restate', '2000', 'and', '2003', 'results', 'following', 'a', 'probe', 'by', 'the', 'us', 'securities', 'exchange', 'commission', 'sec', 'which', 'is', 'close', 'to', 'concluding', 'time', 'warner', 's', 'fourth', 'quarter', 'profits', 'were', 'slightly', 'better', 'than', 'analysts', 'expectations', 'but', 'its', 'film', 'division', 'saw', 'profits', 'slump', '27', 'to', '284', 'm', 'helped', 'by', 'box', 'office', 'flops', 'alexander', 'and', 'catwoman', 'a', 'sharp', 'contrast', 'to', 'year', 'earlier', 'when', 'the', 'third', 'and', 'final', 'film', 'in', 'the', 'lord', 'of', 'the', 'rings', 'trilogy', 'boosted', 'results', 'for', 'the', 'full', 'year', 'timewarner', 'posted', 'a', 'profit', 'of', '3', '36bn', 'up', '27', 'from', 'its', '2003', 'performance', 'while', 'revenues', 'grew', '6', '4', 'to', '42', '09bn', 'our', 'financial', 'performance', 'was', 'strong', 'meeting', 'or', 'exceeding', 'all', 'of', 'our', 'full', 'year', 'objectives', 'and', 'greatly', 'enhancing', 'our', 'flexibility', 'chairman', 'and', 'chief', 'executive', 'richard', 'parsons', 'said', 'for', '2005', 'timewarner', 'is', 'projecting', 'operating', 'earnings', 'growth', 'of', 'around', '5', 'and', 'also', 'expects', 'higher', 'revenue', 'and', 'wider', 'profit', 'margins', 'timewarner', 'is', 'to', 'restate', 'its', 'accounts', 'as', 'part', 'of', 'efforts', 'to', 'resolve', 'an', 'inquiry', 'into', 'aol', 'by', 'us', 'market', 'regulators', 'it', 'has', 'already', 'offered', 'to', 'pay', '300', 'm', 'to', 'settle', 'charges', 'in', 'a', 'deal', 'that', 'is', 'under', 'review', 'by', 'the', 'sec', 'the', 'company', 'said', 'it', 'was', 'unable', 'to', 'estimate', 'the', 'amount', 'it', 'needed', 'to', 'set', 'aside', 'for', 'legal', 'reserves', 'which', 'it', 'previously', 'set', 'at', '500', 'm', 'it', 'intends', 'to', 'adjust', 'the', 'way', 'it', 'accounts', 'for', 'a', 'deal', 'with', 'german', 'music', 'publisher', 'bertelsmann', 's', 'purchase', 'of', 'a', 'stake', 'in', 'aol', 'europe', 'which', 'it', 'had', 'reported', 'as', 'advertising', 'revenue', 'it', 'will', 'now', 'book', 'the', 'sale', 'of', 'its', 'stake', 'in', 'aol', 'europe', 'as', 'a', 'loss', 'on', 'the', 'value', 'of', 'that', 'stake'], 'label': 'business'}\n"
          ],
          "name": "stdout"
        }
      ]
    },
    {
      "cell_type": "code",
      "metadata": {
        "id": "2_zsv2hxjXhL"
      },
      "source": [
        "len(training_data)"
      ],
      "execution_count": null,
      "outputs": []
    },
    {
      "cell_type": "code",
      "metadata": {
        "id": "7mohGiZLjrES"
      },
      "source": [
        "train_data,valid_data=training_data.split(random_state=random.SEED(2020))"
      ],
      "execution_count": null,
      "outputs": []
    },
    {
      "cell_type": "code",
      "metadata": {
        "colab": {
          "base_uri": "https://localhost:8080/"
        },
        "id": "9zkx7QewjrLD",
        "outputId": "305e2df2-6cbc-4861-fc42-566437291f98"
      },
      "source": [
        "len(train_data),len(valid_data)"
      ],
      "execution_count": null,
      "outputs": [
        {
          "output_type": "execute_result",
          "data": {
            "text/plain": [
              "(1558, 667)"
            ]
          },
          "metadata": {
            "tags": []
          },
          "execution_count": 53
        }
      ]
    },
    {
      "cell_type": "code",
      "metadata": {
        "id": "b6k2ukztjrN6"
      },
      "source": [
        ""
      ],
      "execution_count": null,
      "outputs": []
    },
    {
      "cell_type": "code",
      "metadata": {
        "colab": {
          "base_uri": "https://localhost:8080/"
        },
        "id": "nKhfEYv0lRrM",
        "outputId": "564c61ab-10d4-4517-ce2c-00aecb6ee65c"
      },
      "source": [
        "TEXT.build_vocab(train_data,max_size=25_000,vectors=\"glove.6B.100d\",unk_init=torch.Tensor.normal_)\n",
        "LABEL.build_vocab(train_data)"
      ],
      "execution_count": null,
      "outputs": [
        {
          "output_type": "stream",
          "text": [
            ".vector_cache/glove.6B.zip: 862MB [02:40, 5.37MB/s]                          \n",
            "100%|█████████▉| 399943/400000 [00:18<00:00, 20350.40it/s]"
          ],
          "name": "stderr"
        }
      ]
    },
    {
      "cell_type": "code",
      "metadata": {
        "id": "kSnabFYylRuF"
      },
      "source": [
        ""
      ],
      "execution_count": null,
      "outputs": []
    },
    {
      "cell_type": "code",
      "metadata": {
        "colab": {
          "base_uri": "https://localhost:8080/"
        },
        "id": "UD7etHb7mAxu",
        "outputId": "02703562-4308-4adb-b145-080c11aff7ec"
      },
      "source": [
        "LABEL.vocab.stoi"
      ],
      "execution_count": null,
      "outputs": [
        {
          "output_type": "execute_result",
          "data": {
            "text/plain": [
              "defaultdict(None,\n",
              "            {'business': 0,\n",
              "             'entertainment': 3,\n",
              "             'politics': 2,\n",
              "             'sport': 1,\n",
              "             'tech': 4})"
            ]
          },
          "metadata": {
            "tags": []
          },
          "execution_count": 56
        }
      ]
    },
    {
      "cell_type": "code",
      "metadata": {
        "id": "8ryx0qwymA6v"
      },
      "source": [
        "device=torch.device(\"cuda\" if torch.cuda.is_available() else \"cpu\")\n",
        "train_iterator,valid_iterator=BucketIterator.splits((train_data,valid_data),\n",
        "                                                    sort_key=lambda x:len(x.text),\n",
        "                                                    batch_size=64,\n",
        "                                                    device=device)"
      ],
      "execution_count": null,
      "outputs": []
    },
    {
      "cell_type": "code",
      "metadata": {
        "id": "XM1iIaJFmA9d"
      },
      "source": [
        ""
      ],
      "execution_count": null,
      "outputs": []
    },
    {
      "cell_type": "code",
      "metadata": {
        "id": "66oTlkdroANK"
      },
      "source": [
        "class CNN(nn.Module):\n",
        "  def __init__(self,vocab_size,embedding_dim,output_dim,n_filers,filter_size,dropout,pad_token):\n",
        "    super().__init__()\n",
        "    self.embedding=nn.Embedding(vocab_size,embedding_dim,padding_idx=pad_token)\n",
        "    self.convs=nn.ModuleList([nn.Conv2d(in_channels=1,out_channels=n_filers,kernel_size=(fs,embedding_dim))\n",
        "                              for fs in filter_size])\n",
        "    \n",
        "    self.fc=nn.Linear(len(filter_size)*n_filter,output_dim)\n",
        "    self.dropout=nn.Dropout(dropout)\n",
        "\n",
        "  def forward(self,text):\n",
        "    embedded=self.embedding(text)\n",
        "    embedded=embedded.permute(1,0,2)\n",
        "    embedded=embedded.unsqueeze(1)\n",
        "\n",
        "    #Applying convs layers\n",
        "    conved=[F.relu(conv(embedded)).squeeze(3) for conv in self.convs]\n",
        "    #Applying pooling layer\n",
        "    pooled=[F.max_pool1d(conv,conv.shape[2]).squeeze(2) for conv in conved]\n",
        "    #pooled_n=[batch_size,n_filters]\n",
        "    cat=self.dropout(torch.cat(pooled,dim=1))\n",
        "    #cat = [batch_size,n_filers*len(filter_size)]\n",
        "    return self.fc(cat)"
      ],
      "execution_count": null,
      "outputs": []
    },
    {
      "cell_type": "code",
      "metadata": {
        "id": "4nCgNO7-oARA"
      },
      "source": [
        "vocab_size=len(TEXT.vocab)\n",
        "embedding_dim=100\n",
        "output_dim=len(LABEL.vocab)\n",
        "n_filter=100\n",
        "filter_size=[2,3,4]\n",
        "dropout=0.5\n",
        "PAD_IDX = TEXT.vocab.stoi[TEXT.pad_token]\n",
        "model=CNN(vocab_size,embedding_dim,output_dim,n_filter,filter_size,dropout,PAD_IDX)"
      ],
      "execution_count": null,
      "outputs": []
    },
    {
      "cell_type": "code",
      "metadata": {
        "colab": {
          "base_uri": "https://localhost:8080/"
        },
        "id": "M_2RG8KMsf6U",
        "outputId": "9c185cd6-98b1-423d-dd54-c5be57c0edb7"
      },
      "source": [
        "model"
      ],
      "execution_count": null,
      "outputs": [
        {
          "output_type": "execute_result",
          "data": {
            "text/plain": [
              "CNN(\n",
              "  (embedding): Embedding(25002, 100, padding_idx=1)\n",
              "  (convs): ModuleList(\n",
              "    (0): Conv2d(1, 100, kernel_size=(2, 100), stride=(1, 1))\n",
              "    (1): Conv2d(1, 100, kernel_size=(3, 100), stride=(1, 1))\n",
              "    (2): Conv2d(1, 100, kernel_size=(4, 100), stride=(1, 1))\n",
              "  )\n",
              "  (fc): Linear(in_features=300, out_features=5, bias=True)\n",
              "  (dropout): Dropout(p=0.5, inplace=False)\n",
              ")"
            ]
          },
          "metadata": {
            "tags": []
          },
          "execution_count": 79
        }
      ]
    },
    {
      "cell_type": "code",
      "metadata": {
        "colab": {
          "base_uri": "https://localhost:8080/"
        },
        "id": "fDsGpcypsgnL",
        "outputId": "b5387cf9-d22f-4563-9434-8267262f0f38"
      },
      "source": [
        "for i in train_iterator:\n",
        "  txt=i.text\n",
        "  print(model(txt))\n",
        "  break"
      ],
      "execution_count": null,
      "outputs": [
        {
          "output_type": "stream",
          "text": [
            "tensor([[ 0.8455, -0.3125,  0.5106,  0.4141, -2.2318],\n",
            "        [-0.2418, -0.9268,  0.1501, -0.5692, -2.0717],\n",
            "        [-0.7502, -0.3452, -0.0845,  2.3658, -2.0979],\n",
            "        [ 0.5622,  0.4539, -0.8483,  1.1220, -2.0278],\n",
            "        [ 0.6459, -0.8759, -0.9832,  1.2236,  0.1686],\n",
            "        [-0.8726, -0.6120,  0.1146, -0.4009, -1.6033],\n",
            "        [-0.0183,  0.8172,  1.4335, -0.4170, -0.3065],\n",
            "        [-0.3086,  0.9753, -0.2562, -0.5305, -2.3628],\n",
            "        [-0.2682, -0.1718,  0.1450,  0.5972, -1.5889],\n",
            "        [-0.7427, -0.5444,  1.1546, -0.5443, -2.3384],\n",
            "        [-0.2791, -0.0228,  0.2173,  2.3554, -2.8607],\n",
            "        [-1.5650,  0.9309,  0.0828,  1.1966, -1.5249],\n",
            "        [-0.2376, -1.1564,  1.6057,  1.3830, -2.0793],\n",
            "        [-2.3915, -0.6164,  0.6787, -1.9380, -2.6051],\n",
            "        [-0.6366, -0.9833,  0.8152,  1.0139, -2.2346],\n",
            "        [-2.0453, -0.6666,  2.2154, -0.5470, -0.6414],\n",
            "        [ 0.4577, -0.0276,  1.0864,  1.1170, -2.2631],\n",
            "        [-3.0178, -0.2692,  0.3095,  0.8076, -0.4902],\n",
            "        [ 0.4891, -1.1503, -0.4336,  0.8997, -1.7842],\n",
            "        [-1.0983, -0.0969,  0.3027,  0.2668, -0.1050],\n",
            "        [-1.1106, -0.0666,  0.3101,  0.8078, -2.3615],\n",
            "        [ 0.0199, -3.0372, -2.0523,  2.2656, -2.2598],\n",
            "        [-0.8602,  1.6594,  0.1502,  0.8092, -0.9545],\n",
            "        [-0.5076,  0.2807,  2.1922, -0.5322, -0.8036],\n",
            "        [-1.6129, -1.3680,  0.3497,  0.2795, -0.4393],\n",
            "        [-1.6101, -1.1264, -0.9106,  2.0267, -1.6240],\n",
            "        [-0.2113,  1.4865, -0.3265,  0.1801,  0.9351],\n",
            "        [-0.3592,  2.0184, -0.0545,  0.8541, -1.5721],\n",
            "        [-3.9268, -0.3700, -0.9618,  0.0695, -0.7678],\n",
            "        [-2.4347, -0.9116,  0.1665,  0.6961, -0.9164],\n",
            "        [-0.4986,  1.2513, -0.2904,  1.4750, -0.5481],\n",
            "        [-0.8959,  0.5358, -0.0993, -0.2892, -2.1282],\n",
            "        [-0.5055, -0.9409,  0.0410,  0.7312, -0.8525],\n",
            "        [-0.3480, -1.8437,  0.3309,  0.8835, -1.3004],\n",
            "        [-2.6956,  0.5001,  0.6620, -1.8562, -1.3971],\n",
            "        [-2.6979,  0.8691,  0.3678,  1.9477, -0.4207],\n",
            "        [-0.4020,  0.1895, -0.9342,  1.1199, -2.8554],\n",
            "        [-1.8238, -0.6395, -1.9000,  1.5894, -2.5295],\n",
            "        [ 0.9111, -0.4623,  0.8562, -0.0743, -0.8848],\n",
            "        [-0.8524, -0.2941, -0.6175, -0.8092, -0.9171],\n",
            "        [-0.9859,  0.7685,  0.8008,  0.6967, -1.1900],\n",
            "        [-0.2674,  0.5532,  0.8987,  0.3924, -0.5182],\n",
            "        [ 0.1691, -0.5738, -1.3305, -1.1170, -2.1168],\n",
            "        [-1.0597,  0.2170,  0.7145,  0.2319, -1.6752],\n",
            "        [-2.5046, -1.5815,  1.5133, -1.2618, -0.9337],\n",
            "        [-1.9126, -0.3544, -0.4791, -0.6501, -1.3313],\n",
            "        [-0.1907,  0.7914, -1.6684,  0.4268, -1.1127],\n",
            "        [ 0.4835,  0.7447, -0.3926,  0.9124, -1.7968],\n",
            "        [ 0.0415, -1.1325,  0.8666, -0.9059, -1.4112],\n",
            "        [-1.5625,  0.1424,  0.9792,  0.5525, -2.2768],\n",
            "        [-1.2189, -1.0589, -1.3925,  2.0026, -1.9438],\n",
            "        [-0.1859, -0.7199,  0.1905,  1.9633, -3.5276],\n",
            "        [ 1.2180,  0.0809,  0.3319,  2.4097, -3.8069],\n",
            "        [ 0.8200, -1.0462,  1.7493,  1.0634, -3.5168],\n",
            "        [-0.4454,  0.4820,  0.1941, -0.8180, -1.4544],\n",
            "        [-1.1958,  0.6318,  0.6269, -1.2111, -1.7511],\n",
            "        [-1.0336,  0.0384,  0.2383,  0.4030, -0.6743],\n",
            "        [ 0.5572, -1.1185,  0.7991, -1.7734, -0.9825],\n",
            "        [-0.3652, -0.4172, -0.3287,  1.1436, -1.3780],\n",
            "        [-1.7634, -0.7416,  0.0766,  0.3065, -1.2905],\n",
            "        [-0.8161, -0.2181, -0.2876, -0.5132, -1.3903],\n",
            "        [-0.4625, -0.4284, -0.6453,  1.1241, -0.2170],\n",
            "        [-0.6866,  1.4258, -0.1352,  2.0934, -0.5049],\n",
            "        [-0.3950, -1.2873, -0.2768,  0.7137, -0.3370]],\n",
            "       grad_fn=<AddmmBackward>)\n"
          ],
          "name": "stdout"
        }
      ]
    },
    {
      "cell_type": "code",
      "metadata": {
        "colab": {
          "base_uri": "https://localhost:8080/"
        },
        "id": "M-GMq1rKsnpz",
        "outputId": "7fb2b988-9c11-4b6c-8e81-0bfb1c93bbb5"
      },
      "source": [
        "def count_parameters(model):\n",
        "    return sum(p.numel() for p in model.parameters() if p.requires_grad)\n",
        "\n",
        "print(f'The model has {count_parameters(model):,} trainable parameters')"
      ],
      "execution_count": null,
      "outputs": [
        {
          "output_type": "stream",
          "text": [
            "The model has 2,592,005 trainable parameters\n"
          ],
          "name": "stdout"
        }
      ]
    },
    {
      "cell_type": "code",
      "metadata": {
        "colab": {
          "base_uri": "https://localhost:8080/"
        },
        "id": "IG9r0oWVtaJa",
        "outputId": "151aa5b8-9690-4db6-ff70-54f24e54c3e5"
      },
      "source": [
        "\n",
        "pretrained_embeddings = TEXT.vocab.vectors\n",
        "\n",
        "model.embedding.weight.data.copy_(pretrained_embeddings)"
      ],
      "execution_count": null,
      "outputs": [
        {
          "output_type": "execute_result",
          "data": {
            "text/plain": [
              "tensor([[ 0.4176,  0.6554,  1.4659,  ..., -1.2013, -2.4477, -0.4971],\n",
              "        [-1.4233, -0.9832,  0.7436,  ..., -0.2335, -0.0075,  1.8779],\n",
              "        [-0.0382, -0.2449,  0.7281,  ..., -0.1459,  0.8278,  0.2706],\n",
              "        ...,\n",
              "        [-0.4314, -0.1521,  0.2078,  ..., -0.0066, -0.0789,  0.6983],\n",
              "        [-0.1778, -0.0117,  0.3881,  ..., -0.1235, -0.2461, -0.2537],\n",
              "        [ 0.3933,  0.4678, -0.4488,  ...,  0.3512,  0.0777,  0.2561]])"
            ]
          },
          "metadata": {
            "tags": []
          },
          "execution_count": 82
        }
      ]
    },
    {
      "cell_type": "code",
      "metadata": {
        "id": "oT1yH9Q6tc6C"
      },
      "source": [
        "UNK_IDX = TEXT.vocab.stoi[TEXT.unk_token]\n",
        "\n",
        "model.embedding.weight.data[UNK_IDX] = torch.zeros(embedding_dim)\n",
        "model.embedding.weight.data[PAD_IDX] = torch.zeros(embedding_dim)"
      ],
      "execution_count": null,
      "outputs": []
    },
    {
      "cell_type": "code",
      "metadata": {
        "id": "zOvBxr5Vtf4Z"
      },
      "source": [
        "import torch.optim as optim\n",
        "\n",
        "optimizer = optim.Adam(model.parameters())\n",
        "\n",
        "criterion = nn.CrossEntropyLoss()\n",
        "\n",
        "model = model.to(device)\n",
        "criterion = criterion.to(device)"
      ],
      "execution_count": null,
      "outputs": []
    },
    {
      "cell_type": "code",
      "metadata": {
        "id": "HldzfZUnt_HE"
      },
      "source": [
        "def categorical_accuracy(preds, y):\n",
        "    \"\"\"\n",
        "    Returns accuracy per batch, i.e. if you get 8/10 right, this returns 0.8, NOT 8\n",
        "    \"\"\"\n",
        "    top_pred = preds.argmax(1, keepdim = True)\n",
        "    correct = top_pred.eq(y.view_as(top_pred)).sum()\n",
        "    acc = correct.float() / y.shape[0]\n",
        "    return acc"
      ],
      "execution_count": null,
      "outputs": []
    },
    {
      "cell_type": "code",
      "metadata": {
        "id": "GbF58kHVuGRi"
      },
      "source": [
        "def train(model, iterator, optimizer, criterion):\n",
        "    \n",
        "    epoch_loss = 0\n",
        "    epoch_acc = 0\n",
        "    \n",
        "    model.train()\n",
        "    \n",
        "    for batch in iterator:\n",
        "        \n",
        "        optimizer.zero_grad()\n",
        "        \n",
        "        predictions = model(batch.text)\n",
        "        \n",
        "        loss = criterion(predictions, batch.label)\n",
        "        \n",
        "        acc = categorical_accuracy(predictions, batch.label)\n",
        "        \n",
        "        loss.backward()\n",
        "        \n",
        "        optimizer.step()\n",
        "        \n",
        "        epoch_loss += loss.item()\n",
        "        epoch_acc += acc.item()\n",
        "        \n",
        "    return epoch_loss / len(iterator), epoch_acc / len(iterator)"
      ],
      "execution_count": null,
      "outputs": []
    },
    {
      "cell_type": "code",
      "metadata": {
        "id": "vBRoY_-1uIp7"
      },
      "source": [
        "def evaluate(model, iterator, criterion):\n",
        "    \n",
        "    epoch_loss = 0\n",
        "    epoch_acc = 0\n",
        "    \n",
        "    model.eval()\n",
        "    \n",
        "    with torch.no_grad():\n",
        "    \n",
        "        for batch in iterator:\n",
        "\n",
        "            predictions = model(batch.text)\n",
        "            \n",
        "            loss = criterion(predictions, batch.label)\n",
        "            \n",
        "            acc = categorical_accuracy(predictions, batch.label)\n",
        "\n",
        "            epoch_loss += loss.item()\n",
        "            epoch_acc += acc.item()\n",
        "        \n",
        "    return epoch_loss / len(iterator), epoch_acc / len(iterator)"
      ],
      "execution_count": null,
      "outputs": []
    },
    {
      "cell_type": "code",
      "metadata": {
        "colab": {
          "base_uri": "https://localhost:8080/"
        },
        "id": "n4qGC2kmuLiz",
        "outputId": "86a375d1-62d7-4bb6-d7cd-88cf9d57e0ca"
      },
      "source": [
        "N_EPOCHS = 5\n",
        "\n",
        "best_valid_loss = float('inf')\n",
        "\n",
        "for epoch in range(N_EPOCHS):\n",
        "\n",
        "    # start_time = time.time()\n",
        "    \n",
        "    train_loss, train_acc = train(model, train_iterator, optimizer, criterion)\n",
        "    valid_loss, valid_acc = evaluate(model, valid_iterator, criterion)\n",
        "    \n",
        "    # end_time = time.time()\n",
        "\n",
        "    # epoch_mins, epoch_secs = epoch_time(start_time, end_time)\n",
        "    \n",
        "    if valid_loss < best_valid_loss:\n",
        "        best_valid_loss = valid_loss\n",
        "        torch.save(model.state_dict(), dirs+'Multi-class_Sentiment_Analysis.pt')\n",
        "    \n",
        "    # print(f'Epoch: {epoch+1:02} | Epoch Time: {epoch_mins}m {epoch_secs}s')\n",
        "    print(f'\\tTrain Loss: {train_loss:.3f} | Train Acc: {train_acc*100:.2f}%')\n",
        "    print(f'\\t Val. Loss: {valid_loss:.3f} |  Val. Acc: {valid_acc*100:.2f}%')"
      ],
      "execution_count": null,
      "outputs": [
        {
          "output_type": "stream",
          "text": [
            "\tTrain Loss: 1.392 | Train Acc: 43.80%\n",
            "\t Val. Loss: 0.922 |  Val. Acc: 88.99%\n",
            "\tTrain Loss: 0.747 | Train Acc: 82.34%\n",
            "\t Val. Loss: 0.432 |  Val. Acc: 96.73%\n",
            "\tTrain Loss: 0.362 | Train Acc: 93.07%\n",
            "\t Val. Loss: 0.224 |  Val. Acc: 97.02%\n",
            "\tTrain Loss: 0.209 | Train Acc: 95.81%\n",
            "\t Val. Loss: 0.149 |  Val. Acc: 97.44%\n",
            "\tTrain Loss: 0.146 | Train Acc: 96.13%\n",
            "\t Val. Loss: 0.120 |  Val. Acc: 97.73%\n"
          ],
          "name": "stdout"
        }
      ]
    },
    {
      "cell_type": "code",
      "metadata": {
        "id": "pMw3-oF0upUF"
      },
      "source": [
        ""
      ],
      "execution_count": null,
      "outputs": []
    },
    {
      "cell_type": "code",
      "metadata": {
        "id": "ymGh-lm6vUCL"
      },
      "source": [
        ""
      ],
      "execution_count": null,
      "outputs": []
    },
    {
      "cell_type": "code",
      "metadata": {
        "id": "WrMsVzoJvMUc"
      },
      "source": [
        "import spacy\n",
        "nlp = spacy.load('en_core_web_sm')\n",
        "\n",
        "def predict_class(model, sentence, min_len = 4):\n",
        "    model.eval()\n",
        "    tokenized = [tok.text for tok in nlp.tokenizer(sentence)]\n",
        "    if len(tokenized) < min_len:\n",
        "        tokenized += ['<pad>'] * (min_len - len(tokenized))\n",
        "    indexed = [TEXT.vocab.stoi[t] for t in tokenized]\n",
        "    tensor = torch.LongTensor(indexed).to(device)\n",
        "    tensor = tensor.unsqueeze(1)\n",
        "    preds = model(tensor)\n",
        "    max_preds = preds.argmax(dim = 1)\n",
        "    return max_preds.item()"
      ],
      "execution_count": null,
      "outputs": []
    },
    {
      "cell_type": "code",
      "metadata": {
        "colab": {
          "base_uri": "https://localhost:8080/"
        },
        "id": "b1bW1Kc4vMXS",
        "outputId": "b10b31cd-12e0-4e60-8be3-92fe6906e5a3"
      },
      "source": [
        "pred_class = predict_class(model, \"i love this film\")\n",
        "print(f'Predicted class is: {pred_class} = {LABEL.vocab.itos[pred_class]}')"
      ],
      "execution_count": null,
      "outputs": [
        {
          "output_type": "stream",
          "text": [
            "Predicted class is: 3 = entertainment\n"
          ],
          "name": "stdout"
        }
      ]
    },
    {
      "cell_type": "code",
      "metadata": {
        "colab": {
          "base_uri": "https://localhost:8080/"
        },
        "id": "QIqoZMGj0o5K",
        "outputId": "72f09806-2dad-4462-d84d-7f5a00df9105"
      },
      "source": [
        "pred_class = predict_class(model, \"i love playing cricket\")\n",
        "print(f'Predicted class is: {pred_class} = {LABEL.vocab.itos[pred_class]}')"
      ],
      "execution_count": null,
      "outputs": [
        {
          "output_type": "stream",
          "text": [
            "Predicted class is: 1 = sport\n"
          ],
          "name": "stdout"
        }
      ]
    },
    {
      "cell_type": "code",
      "metadata": {
        "colab": {
          "base_uri": "https://localhost:8080/"
        },
        "id": "k76CLef90yEw",
        "outputId": "e02819b3-3e4b-4149-d4a5-513aac7cef34"
      },
      "source": [
        "pred_class = predict_class(model, \"google search\")\n",
        "print(f'Predicted class is: {pred_class} = {LABEL.vocab.itos[pred_class]}')"
      ],
      "execution_count": null,
      "outputs": [
        {
          "output_type": "stream",
          "text": [
            "Predicted class is: 4 = tech\n"
          ],
          "name": "stdout"
        }
      ]
    },
    {
      "cell_type": "code",
      "metadata": {
        "colab": {
          "base_uri": "https://localhost:8080/"
        },
        "id": "8mqxixz90yMR",
        "outputId": "b4c4b9ca-491b-4efe-8ce7-830513b022c2"
      },
      "source": [
        "pred_class = predict_class(model, \"Sports is the ultimate destination for Sports fans from around the World\")\n",
        "print(f'Predicted class is: {pred_class} = {LABEL.vocab.itos[pred_class]}')"
      ],
      "execution_count": null,
      "outputs": [
        {
          "output_type": "stream",
          "text": [
            "Predicted class is: 1 = sport\n"
          ],
          "name": "stdout"
        }
      ]
    },
    {
      "cell_type": "code",
      "metadata": {
        "colab": {
          "base_uri": "https://localhost:8080/"
        },
        "id": "tI30qhyX1Hs9",
        "outputId": "480edb29-10fa-46b7-ed7e-9d52c463696c"
      },
      "source": [
        "pred_class = predict_class(model, \"market today, stock, economy news from India\")\n",
        "print(f'Predicted class is: {pred_class} = {LABEL.vocab.itos[pred_class]}')"
      ],
      "execution_count": null,
      "outputs": [
        {
          "output_type": "stream",
          "text": [
            "Predicted class is: 0 = business\n"
          ],
          "name": "stdout"
        }
      ]
    },
    {
      "cell_type": "code",
      "metadata": {
        "id": "iVMlR8rS1Hv2"
      },
      "source": [
        ""
      ],
      "execution_count": null,
      "outputs": []
    },
    {
      "cell_type": "code",
      "metadata": {
        "colab": {
          "base_uri": "https://localhost:8080/"
        },
        "id": "9nC7t6sf1d7J",
        "outputId": "3d17a417-c155-4b6d-f910-194bcabdc2cc"
      },
      "source": [
        "red_class = predict_class(model, \" stay connected with BloombergQuint. Be up to date with today's business news headlines, finance bulletin\")\n",
        "print(f'Predicted class is: {pred_class} = {LABEL.vocab.itos[pred_class]}')"
      ],
      "execution_count": null,
      "outputs": [
        {
          "output_type": "stream",
          "text": [
            "Predicted class is: 0 = business\n"
          ],
          "name": "stdout"
        }
      ]
    },
    {
      "cell_type": "code",
      "metadata": {
        "colab": {
          "base_uri": "https://localhost:8080/"
        },
        "id": "gbg6bjXN1d-a",
        "outputId": "a1a4bc29-a386-4d00-d08f-9332198898f6"
      },
      "source": [
        "pred_class = predict_class(model, \"The protests were held in Dum Dum, Central Avenue and Chetla areas of Kolkata, Canning in South 24 Parganas, Chinsurah in Hooghly, and Malda, besides\")\n",
        "print(f'Predicted class is: {pred_class} = {LABEL.vocab.itos[pred_class]}')"
      ],
      "execution_count": null,
      "outputs": [
        {
          "output_type": "stream",
          "text": [
            "Predicted class is: 2 = politics\n"
          ],
          "name": "stdout"
        }
      ]
    },
    {
      "cell_type": "code",
      "metadata": {
        "id": "x08yFsf61eAm"
      },
      "source": [
        ""
      ],
      "execution_count": null,
      "outputs": []
    },
    {
      "cell_type": "code",
      "metadata": {
        "colab": {
          "base_uri": "https://localhost:8080/"
        },
        "id": "V5XwPx8212Km",
        "outputId": "4d9132a3-fe36-42b8-e1c2-dc758e960e16"
      },
      "source": [
        "pred_class = predict_class(model, (\"The Family Man 2's Dhriti actor Ashlesha Thakur gets 'rishtas' in her DMs\".lower()))\n",
        "print(f'Predicted class is: {pred_class} = {LABEL.vocab.itos[pred_class]}')"
      ],
      "execution_count": null,
      "outputs": [
        {
          "output_type": "stream",
          "text": [
            "Predicted class is: 3 = entertainment\n"
          ],
          "name": "stdout"
        }
      ]
    },
    {
      "cell_type": "code",
      "metadata": {
        "id": "xQyUyX0v2TbO"
      },
      "source": [
        ""
      ],
      "execution_count": null,
      "outputs": []
    },
    {
      "cell_type": "code",
      "metadata": {
        "colab": {
          "base_uri": "https://localhost:8080/"
        },
        "id": "NtBAGGe02Ff-",
        "outputId": "0fbc6d5b-f05a-42b1-bcc9-0e2b9f8cc5e4"
      },
      "source": [
        "pred_class = predict_class(model, (\"PUBG Mobile World Invitational 2021 announced, there’s $3 million charity prize pool involved\").lower())\n",
        "print(f'Predicted class is: {pred_class} = {LABEL.vocab.itos[pred_class]}')"
      ],
      "execution_count": null,
      "outputs": [
        {
          "output_type": "stream",
          "text": [
            "Predicted class is: 1 = sport\n"
          ],
          "name": "stdout"
        }
      ]
    },
    {
      "cell_type": "code",
      "metadata": {
        "id": "rcqVw3C92Fiq"
      },
      "source": [
        ""
      ],
      "execution_count": null,
      "outputs": []
    },
    {
      "cell_type": "code",
      "metadata": {
        "colab": {
          "base_uri": "https://localhost:8080/"
        },
        "id": "MQQuzxlY0Phe",
        "outputId": "c9bb19a2-b6d3-4793-f242-43bd7696c624"
      },
      "source": [
        "LABEL.vocab.stoi"
      ],
      "execution_count": null,
      "outputs": [
        {
          "output_type": "execute_result",
          "data": {
            "text/plain": [
              "defaultdict(None,\n",
              "            {'business': 0,\n",
              "             'entertainment': 3,\n",
              "             'politics': 2,\n",
              "             'sport': 1,\n",
              "             'tech': 4})"
            ]
          },
          "metadata": {
            "tags": []
          },
          "execution_count": 96
        }
      ]
    },
    {
      "cell_type": "code",
      "metadata": {
        "id": "UoOwo2DG0jWk"
      },
      "source": [
        ""
      ],
      "execution_count": null,
      "outputs": []
    }
  ]
}