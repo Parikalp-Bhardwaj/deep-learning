{
  "nbformat": 4,
  "nbformat_minor": 0,
  "metadata": {
    "colab": {
      "name": "Sentiment_Analysis_Simple.ipynb",
      "provenance": [],
      "collapsed_sections": []
    },
    "kernelspec": {
      "name": "python3",
      "display_name": "Python 3"
    },
    "language_info": {
      "name": "python"
    }
  },
  "cells": [
    {
      "cell_type": "code",
      "metadata": {
        "id": "lV8LlMx5g49e"
      },
      "source": [
        "import torch\n",
        "import torch.nn as nn\n",
        "import os\n",
        "import pandas as pd\n",
        "import numpy as np\n",
        "from torchtext.legacy.data import BucketIterator,TabularDataset,Field,LabelField\n",
        "import spacy\n",
        "import nltk\n",
        "import torch.nn.functional as F\n",
        "from torchtext.data.utils import get_tokenizer\n",
        "import random"
      ],
      "execution_count": null,
      "outputs": []
    },
    {
      "cell_type": "code",
      "metadata": {
        "colab": {
          "base_uri": "https://localhost:8080/",
          "height": 206
        },
        "id": "EnuCLMgkinaX",
        "outputId": "953a385b-3792-4ab9-fb6b-c8c8e468015c"
      },
      "source": [
        "data=pd.read_csv(\"/content/drive/MyDrive/dataset/RNN_E-Commerce_review/RNN_Dataset.csv\")\n",
        "data.head()"
      ],
      "execution_count": null,
      "outputs": [
        {
          "output_type": "execute_result",
          "data": {
            "text/html": [
              "<div>\n",
              "<style scoped>\n",
              "    .dataframe tbody tr th:only-of-type {\n",
              "        vertical-align: middle;\n",
              "    }\n",
              "\n",
              "    .dataframe tbody tr th {\n",
              "        vertical-align: top;\n",
              "    }\n",
              "\n",
              "    .dataframe thead th {\n",
              "        text-align: right;\n",
              "    }\n",
              "</style>\n",
              "<table border=\"1\" class=\"dataframe\">\n",
              "  <thead>\n",
              "    <tr style=\"text-align: right;\">\n",
              "      <th></th>\n",
              "      <th>text</th>\n",
              "      <th>label</th>\n",
              "    </tr>\n",
              "  </thead>\n",
              "  <tbody>\n",
              "    <tr>\n",
              "      <th>0</th>\n",
              "      <td>absolutely wonderful silky and sexy and comfor...</td>\n",
              "      <td>1</td>\n",
              "    </tr>\n",
              "    <tr>\n",
              "      <th>1</th>\n",
              "      <td>love this dress it is sooo pretty i happened t...</td>\n",
              "      <td>1</td>\n",
              "    </tr>\n",
              "    <tr>\n",
              "      <th>2</th>\n",
              "      <td>i had such high hopes for this dress and reall...</td>\n",
              "      <td>0</td>\n",
              "    </tr>\n",
              "    <tr>\n",
              "      <th>3</th>\n",
              "      <td>i love love love this jumpsuit it is fun flirt...</td>\n",
              "      <td>1</td>\n",
              "    </tr>\n",
              "    <tr>\n",
              "      <th>4</th>\n",
              "      <td>this shirt is very flattering to all due to th...</td>\n",
              "      <td>1</td>\n",
              "    </tr>\n",
              "  </tbody>\n",
              "</table>\n",
              "</div>"
            ],
            "text/plain": [
              "                                                text  label\n",
              "0  absolutely wonderful silky and sexy and comfor...      1\n",
              "1  love this dress it is sooo pretty i happened t...      1\n",
              "2  i had such high hopes for this dress and reall...      0\n",
              "3  i love love love this jumpsuit it is fun flirt...      1\n",
              "4  this shirt is very flattering to all due to th...      1"
            ]
          },
          "metadata": {},
          "execution_count": 129
        }
      ]
    },
    {
      "cell_type": "code",
      "metadata": {
        "id": "SO2jvvTnkqJt"
      },
      "source": [
        "tokenizer=get_tokenizer(\"basic_english\")"
      ],
      "execution_count": null,
      "outputs": []
    },
    {
      "cell_type": "code",
      "metadata": {
        "id": "arrfXp0rll3T"
      },
      "source": [
        "TEXT = Field(tokenize = 'spacy',\n",
        "                  tokenizer_language = 'en_core_web_sm')\n",
        "\n",
        "LABEL = LabelField(dtype=torch.float)"
      ],
      "execution_count": null,
      "outputs": []
    },
    {
      "cell_type": "code",
      "metadata": {
        "id": "_ZsTN0vIl-Pg"
      },
      "source": [
        "FIELDS = [(\"text\",TEXT),(\"label\",LABEL)]"
      ],
      "execution_count": null,
      "outputs": []
    },
    {
      "cell_type": "code",
      "metadata": {
        "colab": {
          "base_uri": "https://localhost:8080/"
        },
        "id": "zVdexDCKmHZ4",
        "outputId": "cc634b33-deaa-418c-df49-64f92fc07c36"
      },
      "source": [
        "training_data = TabularDataset(path=\"/content/drive/MyDrive/dataset/RNN_E-Commerce_review/RNN_Dataset.csv\",format=\"csv\",fields=FIELDS,skip_header=True)\n",
        "print(vars(training_data[3]))"
      ],
      "execution_count": null,
      "outputs": [
        {
          "output_type": "stream",
          "name": "stdout",
          "text": [
            "{'text': ['i', 'love', 'love', 'love', 'this', 'jumpsuit', 'it', 'is', 'fun', 'flirty', 'and', 'fabulous', 'every', 'time', 'i', 'wear', 'it', 'i', 'get', 'nothing', 'but', 'great', 'compliments'], 'label': '1'}\n"
          ]
        }
      ]
    },
    {
      "cell_type": "code",
      "metadata": {
        "colab": {
          "base_uri": "https://localhost:8080/"
        },
        "id": "upuQRm9Ommh7",
        "outputId": "38f2bf9f-a627-430c-8c74-90b431051584"
      },
      "source": [
        "train_data,valid_data = training_data.split(split_ratio=0.7,random_state=random.seed(2020))\n",
        "print(len(train_data),len(valid_data))"
      ],
      "execution_count": null,
      "outputs": [
        {
          "output_type": "stream",
          "name": "stdout",
          "text": [
            "15849 6792\n"
          ]
        }
      ]
    },
    {
      "cell_type": "code",
      "metadata": {
        "colab": {
          "base_uri": "https://localhost:8080/"
        },
        "id": "JBKaqoKXnSZp",
        "outputId": "5d01488d-081d-4ae6-cd33-f1bf21f933b6"
      },
      "source": [
        "print(\"Full dataset size \",len(training_data))\n",
        "print(\"Training dataset size \",len(train_data))\n",
        "print(\"Testing dataset size \",len(valid_data))"
      ],
      "execution_count": null,
      "outputs": [
        {
          "output_type": "stream",
          "name": "stdout",
          "text": [
            "Full dataset size  22641\n",
            "Training dataset size  15849\n",
            "Testing dataset size  6792\n"
          ]
        }
      ]
    },
    {
      "cell_type": "code",
      "metadata": {
        "id": "X_iU-xaupC7B"
      },
      "source": [
        "MAX_VOCAB_SIZE = 25_000\n",
        "TEXT.build_vocab(training_data)\n",
        "LABEL.build_vocab(training_data)"
      ],
      "execution_count": null,
      "outputs": []
    },
    {
      "cell_type": "code",
      "metadata": {
        "colab": {
          "base_uri": "https://localhost:8080/"
        },
        "id": "UgoU5dUU1MGk",
        "outputId": "0bed1f25-53e2-4eb7-d091-721f31742b0e"
      },
      "source": [
        "print(f\"Unique tokens in TEXT vocabulary: {len(TEXT.vocab)}\")\n",
        "print(f\"Unique tokens in LABEL vocabulary: {len(LABEL.vocab)}\")"
      ],
      "execution_count": null,
      "outputs": [
        {
          "output_type": "stream",
          "name": "stdout",
          "text": [
            "Unique tokens in TEXT vocabulary: 14070\n",
            "Unique tokens in LABEL vocabulary: 2\n"
          ]
        }
      ]
    },
    {
      "cell_type": "code",
      "metadata": {
        "id": "dUP53uEV1quP"
      },
      "source": [
        ""
      ],
      "execution_count": null,
      "outputs": []
    },
    {
      "cell_type": "code",
      "metadata": {
        "colab": {
          "base_uri": "https://localhost:8080/"
        },
        "id": "IDM-oF3D1-Ui",
        "outputId": "e013ccf5-fb4c-4a90-bb7e-2a169411104a"
      },
      "source": [
        "print(TEXT.vocab.freqs.most_common(20))"
      ],
      "execution_count": null,
      "outputs": [
        {
          "output_type": "stream",
          "name": "stdout",
          "text": [
            "[('the', 76167), ('i', 67219), ('it', 49287), ('and', 49009), ('a', 43018), ('is', 38324), ('this', 25762), ('to', 24637), ('in', 20753), ('not', 18281), ('but', 16556), ('on', 15328), ('for', 14000), ('of', 13476), ('was', 12938), ('with', 12803), ('so', 12023), ('am', 11760), ('my', 11028), ('dress', 10567)]\n"
          ]
        }
      ]
    },
    {
      "cell_type": "code",
      "metadata": {
        "colab": {
          "base_uri": "https://localhost:8080/"
        },
        "id": "nmjGKEPW1-XC",
        "outputId": "6b84a3c3-de36-4d81-9a1d-f4a127811db2"
      },
      "source": [
        "print(TEXT.vocab.itos[:10])"
      ],
      "execution_count": null,
      "outputs": [
        {
          "output_type": "stream",
          "name": "stdout",
          "text": [
            "['<unk>', '<pad>', 'the', 'i', 'it', 'and', 'a', 'is', 'this', 'to']\n"
          ]
        }
      ]
    },
    {
      "cell_type": "code",
      "metadata": {
        "colab": {
          "base_uri": "https://localhost:8080/"
        },
        "id": "ejG8VNHH2mUu",
        "outputId": "6d44e4ee-80a3-4e00-e208-4e7a98efc430"
      },
      "source": [
        "print(LABEL.vocab.stoi)"
      ],
      "execution_count": null,
      "outputs": [
        {
          "output_type": "stream",
          "name": "stdout",
          "text": [
            "defaultdict(None, {'1': 0, '0': 1})\n"
          ]
        }
      ]
    },
    {
      "cell_type": "code",
      "metadata": {
        "id": "8dmjJFfl2p8-"
      },
      "source": [
        "BATCH_SIZE = 64\n",
        "\n",
        "device = torch.device('cuda' if torch.cuda.is_available() else 'cpu')\n",
        "\n",
        "train_iterator, valid_iterator= BucketIterator.splits(\n",
        "    (train_data, valid_data), \n",
        "    sort_key=lambda x:len(x.text),\n",
        "    sort_within_batch=False,\n",
        "    batch_size = BATCH_SIZE)"
      ],
      "execution_count": null,
      "outputs": []
    },
    {
      "cell_type": "code",
      "metadata": {
        "colab": {
          "base_uri": "https://localhost:8080/"
        },
        "id": "Vuf-yTys7YTW",
        "outputId": "57e68a84-79b3-4216-f556-ae747cf14878"
      },
      "source": [
        "text,_=next(iter(train_iterator))\n",
        "text.shape"
      ],
      "execution_count": null,
      "outputs": [
        {
          "output_type": "execute_result",
          "data": {
            "text/plain": [
              "torch.Size([109, 64])"
            ]
          },
          "metadata": {},
          "execution_count": 188
        }
      ]
    },
    {
      "cell_type": "code",
      "metadata": {
        "colab": {
          "base_uri": "https://localhost:8080/"
        },
        "id": "XTVSE6Od7hwQ",
        "outputId": "12b724fe-2e10-4832-de6b-8866c918514f"
      },
      "source": [
        "text2,_=next(iter(valid_iterator))\n",
        "text2.shape"
      ],
      "execution_count": null,
      "outputs": [
        {
          "output_type": "execute_result",
          "data": {
            "text/plain": [
              "torch.Size([9, 64])"
            ]
          },
          "metadata": {},
          "execution_count": 191
        }
      ]
    },
    {
      "cell_type": "code",
      "metadata": {
        "id": "ffe7l5ZVg8wD"
      },
      "source": [
        ""
      ],
      "execution_count": null,
      "outputs": []
    },
    {
      "cell_type": "code",
      "metadata": {
        "id": "GI8EW_h_29SW"
      },
      "source": [
        "class RNN(nn.Module):\n",
        "  def __init__(self,vocab_size,embedding_dim,hidden_dim,output_size):\n",
        "    super(RNN,self).__init__()\n",
        "\n",
        " \n",
        "    self.embedding = nn.Embedding(vocab_size,embedding_dim)\n",
        "    self.rnn = nn.RNN(embedding_dim,hidden_dim)\n",
        "    self.fc = nn.Linear(hidden_dim,output_dim)\n",
        "    self.dropout = nn.Dropout(p=0.3)\n",
        "\n",
        "\n",
        "  def forward(self,text):\n",
        "    # x =[sentence_length,batch_size]\n",
        "    x = self.dropout(self.embedding(text))\n",
        "    # x =[sentence_length,batch_size,embedding dim]\n",
        "    output,hidden = self.rnn(x)\n",
        "    assert torch.equal(output[-1,:,:],hidden.squeeze(0))\n",
        "    return self.fc(hidden.squeeze(0))\n"
      ],
      "execution_count": null,
      "outputs": []
    },
    {
      "cell_type": "code",
      "metadata": {
        "id": "wM4i4pD48mru"
      },
      "source": [
        "vocab_size = len(TEXT.vocab)\n",
        "embedding_dim = 100\n",
        "hidden_dim = 150\n",
        "output_dim = 1"
      ],
      "execution_count": null,
      "outputs": []
    },
    {
      "cell_type": "code",
      "metadata": {
        "id": "4fDWVWsl89s1"
      },
      "source": [
        "\n",
        "model=RNN(vocab_size,embedding_dim,hidden_dim,output_dim)"
      ],
      "execution_count": null,
      "outputs": []
    },
    {
      "cell_type": "code",
      "metadata": {
        "id": "fSkGTfmW9I6P"
      },
      "source": [
        "# for text,label in train_iterator:\n",
        "#   print(model(text),\"label \",label)\n",
        "#   break"
      ],
      "execution_count": null,
      "outputs": []
    },
    {
      "cell_type": "code",
      "metadata": {
        "id": "iqzxm7ku_er-"
      },
      "source": [
        "emb=nn.Embedding(1000,128)"
      ],
      "execution_count": null,
      "outputs": []
    },
    {
      "cell_type": "code",
      "metadata": {
        "colab": {
          "base_uri": "https://localhost:8080/"
        },
        "id": "tSreiIMsF2vD",
        "outputId": "f55bb822-804e-4b3e-8a0d-bc48f06460ed"
      },
      "source": [
        "emb(torch.LongTensor([3,4]))"
      ],
      "execution_count": null,
      "outputs": [
        {
          "output_type": "execute_result",
          "data": {
            "text/plain": [
              "tensor([[ 1.5901,  1.0236, -0.0419,  0.0341, -0.8468, -1.1274, -1.7975, -0.0831,\n",
              "         -0.4116,  0.0686,  0.4389,  0.3112,  0.1420, -0.1316,  1.7200, -0.2779,\n",
              "         -0.8220, -0.9431,  0.8283,  0.4614, -0.1204,  1.0759, -0.7698, -0.9323,\n",
              "         -0.6768,  0.8141,  0.2555, -1.0896,  0.9790,  0.6021, -1.2100,  0.2789,\n",
              "          0.7198, -1.0660,  0.3831,  0.6329,  1.1118, -0.4526, -0.7986, -1.0991,\n",
              "         -1.0717,  0.2905,  0.6722,  2.0561, -0.4112, -0.1748,  1.6049, -1.8833,\n",
              "          0.8247,  1.1390,  0.3200, -0.2319, -0.6911, -0.2879, -0.2936, -0.5025,\n",
              "          0.5543,  0.1409, -1.8505,  0.3478,  1.6374, -0.3293, -0.6548, -0.8412,\n",
              "         -0.3300,  2.0884,  0.1128,  1.6142, -0.1688,  0.1149,  1.0879,  1.0631,\n",
              "          0.2627,  0.3531, -1.5252,  0.7875,  0.9610,  0.3846, -0.7143,  0.1425,\n",
              "         -0.0856,  0.3615,  0.2744,  0.5631, -0.3674, -1.8275, -0.3024, -1.6035,\n",
              "          1.0152, -1.5461,  1.3092, -0.4289, -3.1407, -0.3735, -1.2941,  0.6659,\n",
              "         -1.0245,  0.3620,  1.0019, -0.3153, -0.4876,  0.6866, -1.1984,  0.4296,\n",
              "         -1.2141, -0.0380,  0.1376, -0.0725,  1.4297, -0.7284, -0.9419,  1.1593,\n",
              "         -0.7886,  1.3648, -0.8701, -0.3469,  1.8362,  0.1265, -1.2900, -1.4087,\n",
              "         -0.3876,  0.7637, -0.7904, -0.0282,  1.7503, -1.6430,  0.0835,  1.5719],\n",
              "        [ 0.2749,  0.0580,  0.3269, -0.6884,  0.1814,  0.0228,  1.0572,  1.1875,\n",
              "          0.9817, -1.5913, -0.7633, -0.0048, -0.6782,  0.5684,  2.4924, -1.6824,\n",
              "         -0.5835, -0.6167,  0.3284,  0.5856,  0.4835,  0.3936, -0.5761,  1.0001,\n",
              "         -0.3763, -1.9857,  0.1527, -0.7357, -1.0684,  0.0392,  0.1360,  1.4691,\n",
              "          0.7730, -0.1644,  0.2085,  0.4152,  1.1972,  0.1165,  0.6507,  1.1523,\n",
              "          0.5964,  0.6863,  0.9313, -1.4952,  0.7755, -0.9453, -0.1151, -0.4220,\n",
              "          0.0162, -0.7332, -0.1106, -2.3229, -0.2343,  0.3033, -2.7209, -1.5266,\n",
              "          0.8496,  1.6209, -1.1619,  0.4060, -1.8702,  0.2312, -1.1226, -0.8454,\n",
              "         -1.8615, -1.5477, -0.6114, -0.1425,  0.3316,  0.7332,  0.2243,  1.5345,\n",
              "          1.0050, -1.3495,  0.9209,  1.0339,  1.1829, -1.4826, -1.4708,  0.6393,\n",
              "         -0.3094, -1.9426, -0.6570, -0.1971, -0.1288,  0.0372, -0.4752,  0.2642,\n",
              "          0.5043, -0.1756,  0.3617,  0.2366,  1.3480, -0.6815, -1.2241,  0.1890,\n",
              "          0.3538,  0.6181,  0.4833, -1.0342,  1.6188,  0.3352, -1.3498,  0.5984,\n",
              "          0.8960,  0.1725,  2.0416, -0.1040, -0.9183, -0.8368,  0.2033, -1.7834,\n",
              "          0.1356,  0.2992, -1.1168, -1.3074,  1.3086,  0.4220,  0.8287, -1.5675,\n",
              "         -1.9507,  0.1179, -0.7098,  0.4306, -0.7306, -0.1357, -0.4222,  0.0467]],\n",
              "       grad_fn=<EmbeddingBackward0>)"
            ]
          },
          "metadata": {},
          "execution_count": 245
        }
      ]
    },
    {
      "cell_type": "code",
      "metadata": {
        "id": "EUwvZwe4F3d0"
      },
      "source": [
        ""
      ],
      "execution_count": null,
      "outputs": []
    },
    {
      "cell_type": "code",
      "metadata": {
        "id": "h3tMQv58cbsW"
      },
      "source": [
        "def count_parameters(model):\n",
        "  return sum(p.numel() for p in model.parameters() if p.requires_grad)"
      ],
      "execution_count": null,
      "outputs": []
    },
    {
      "cell_type": "code",
      "metadata": {
        "colab": {
          "base_uri": "https://localhost:8080/"
        },
        "id": "5mQp4cyrcbvM",
        "outputId": "7d61e577-0a8e-4bde-dc89-25f51e5a8117"
      },
      "source": [
        "print(f'The model has {count_parameters(model):,} trainable parameters')"
      ],
      "execution_count": null,
      "outputs": [
        {
          "output_type": "stream",
          "name": "stdout",
          "text": [
            "The model has 1,444,951 trainable parameters\n"
          ]
        }
      ]
    },
    {
      "cell_type": "code",
      "metadata": {
        "colab": {
          "base_uri": "https://localhost:8080/"
        },
        "id": "-o-cmFBIkYRl",
        "outputId": "54591d62-65c8-4f5a-a9bb-8817f534d0c9"
      },
      "source": [
        "1e-2"
      ],
      "execution_count": null,
      "outputs": [
        {
          "output_type": "execute_result",
          "data": {
            "text/plain": [
              "0.01"
            ]
          },
          "metadata": {},
          "execution_count": 248
        }
      ]
    },
    {
      "cell_type": "code",
      "metadata": {
        "id": "cqbEeK7Fcbxy"
      },
      "source": [
        "import torch.optim as optim\n",
        "\n",
        "optimizer = optim.SGD(model.parameters(), lr=1e-2)"
      ],
      "execution_count": null,
      "outputs": []
    },
    {
      "cell_type": "code",
      "metadata": {
        "id": "FbxAsf91d8vo"
      },
      "source": [
        "criterion = nn.BCEWithLogitsLoss()"
      ],
      "execution_count": null,
      "outputs": []
    },
    {
      "cell_type": "code",
      "metadata": {
        "id": "vvbFonoWd_FN"
      },
      "source": [
        "model = model.to(device)\n",
        "criterion = criterion.to(device)"
      ],
      "execution_count": null,
      "outputs": []
    },
    {
      "cell_type": "code",
      "metadata": {
        "id": "vQqkDvsdeD-t"
      },
      "source": [
        ""
      ],
      "execution_count": null,
      "outputs": []
    },
    {
      "cell_type": "code",
      "metadata": {
        "id": "V1EfHF07eERr"
      },
      "source": [
        "def binary_accuracy(preds, y):\n",
        "    \"\"\"\n",
        "    Returns accuracy per batch, i.e. if you get 8/10 right, this returns 0.8, NOT 8\n",
        "    \"\"\"\n",
        "\n",
        "    #round predictions to the closest integer\n",
        "    rounded_preds = torch.round(torch.sigmoid(preds))\n",
        "    correct = (rounded_preds == y).float() #convert into float for division \n",
        "    acc = correct.sum() / len(correct)\n",
        "    return acc"
      ],
      "execution_count": null,
      "outputs": []
    },
    {
      "cell_type": "code",
      "metadata": {
        "id": "nwT1G7k6eEVG"
      },
      "source": [
        "def train(model, iterator, optimizer, criterion):\n",
        "    \n",
        "    epoch_loss = 0\n",
        "    epoch_acc = 0\n",
        "    \n",
        "    model.train()\n",
        "    \n",
        "    for batch in iterator:\n",
        "        \n",
        "        optimizer.zero_grad()\n",
        "                \n",
        "        predictions = model(batch.text).squeeze(1)\n",
        "        \n",
        "        loss = criterion(predictions, batch.label)\n",
        "        \n",
        "        acc = binary_accuracy(predictions, batch.label)\n",
        "        \n",
        "        loss.backward()\n",
        "        \n",
        "        optimizer.step()\n",
        "        \n",
        "        epoch_loss += loss.item()\n",
        "        epoch_acc += acc.item()\n",
        "        \n",
        "    return epoch_loss / len(iterator), epoch_acc / len(iterator)"
      ],
      "execution_count": null,
      "outputs": []
    },
    {
      "cell_type": "code",
      "metadata": {
        "id": "wvfjQLjGeEY3"
      },
      "source": [
        "def evaluate(model, iterator, criterion):\n",
        "    \n",
        "    epoch_loss = 0\n",
        "    epoch_acc = 0\n",
        "    \n",
        "    model.eval()\n",
        "    \n",
        "    with torch.no_grad():\n",
        "    \n",
        "        for batch in iterator:\n",
        "\n",
        "            predictions = model(batch.text).squeeze(1)\n",
        "            \n",
        "            loss = criterion(predictions, batch.label)\n",
        "            \n",
        "            acc = binary_accuracy(predictions, batch.label)\n",
        "\n",
        "            epoch_loss += loss.item()\n",
        "            epoch_acc += acc.item()\n",
        "        \n",
        "    return epoch_loss / len(iterator), epoch_acc / len(iterator)"
      ],
      "execution_count": null,
      "outputs": []
    },
    {
      "cell_type": "code",
      "metadata": {
        "colab": {
          "base_uri": "https://localhost:8080/"
        },
        "id": "zbvrCgYTeUYT",
        "outputId": "a03f8ce9-4de8-4489-fbca-9fd36ea54859"
      },
      "source": [
        "N_EPOCHS = 20\n",
        "dirs=\"/content/drive/MyDrive/dataset/RNN_E-Commerce_review/\"\n",
        "best_valid_loss = float('inf')\n",
        "\n",
        "for epoch in range(N_EPOCHS):\n",
        "\n",
        "    train_loss, train_acc = train(model, train_iterator, optimizer, criterion)\n",
        "    valid_loss, valid_acc = evaluate(model, valid_iterator, criterion)\n",
        "    \n",
        "    \n",
        "\n",
        " \n",
        "    \n",
        "    if valid_loss < best_valid_loss:\n",
        "        best_valid_loss = valid_loss\n",
        "        torch.save(model.state_dict(), dirs+'tut1-model2.pt')\n",
        "    \n",
        "    # print(f'Epoch: {epoch+1:02} | Epoch Time: {epoch_mins}m {epoch_secs}s')\n",
        "    print(f'\\tTrain Loss: {train_loss:.3f} | Train Acc: {train_acc*100:.2f}%')\n",
        "    print(f'\\t Val. Loss: {valid_loss:.3f} |  Val. Acc: {valid_acc*100:.2f}%')"
      ],
      "execution_count": null,
      "outputs": [
        {
          "output_type": "stream",
          "name": "stdout",
          "text": [
            "\tTrain Loss: 0.484 | Train Acc: 81.16%\n",
            "\t Val. Loss: 0.604 |  Val. Acc: 63.99%\n",
            "\tTrain Loss: 0.479 | Train Acc: 81.37%\n",
            "\t Val. Loss: 0.596 |  Val. Acc: 66.41%\n",
            "\tTrain Loss: 0.478 | Train Acc: 81.50%\n",
            "\t Val. Loss: 0.587 |  Val. Acc: 69.16%\n",
            "\tTrain Loss: 0.478 | Train Acc: 81.52%\n",
            "\t Val. Loss: 0.585 |  Val. Acc: 71.58%\n",
            "\tTrain Loss: 0.477 | Train Acc: 81.58%\n",
            "\t Val. Loss: 0.576 |  Val. Acc: 74.24%\n",
            "\tTrain Loss: 0.477 | Train Acc: 81.73%\n",
            "\t Val. Loss: 0.567 |  Val. Acc: 76.46%\n",
            "\tTrain Loss: 0.477 | Train Acc: 81.69%\n",
            "\t Val. Loss: 0.563 |  Val. Acc: 77.77%\n",
            "\tTrain Loss: 0.476 | Train Acc: 81.92%\n",
            "\t Val. Loss: 0.557 |  Val. Acc: 78.94%\n",
            "\tTrain Loss: 0.475 | Train Acc: 81.96%\n",
            "\t Val. Loss: 0.553 |  Val. Acc: 79.78%\n",
            "\tTrain Loss: 0.474 | Train Acc: 81.96%\n",
            "\t Val. Loss: 0.548 |  Val. Acc: 80.30%\n",
            "\tTrain Loss: 0.474 | Train Acc: 81.97%\n",
            "\t Val. Loss: 0.544 |  Val. Acc: 80.56%\n",
            "\tTrain Loss: 0.474 | Train Acc: 82.02%\n",
            "\t Val. Loss: 0.541 |  Val. Acc: 80.87%\n",
            "\tTrain Loss: 0.475 | Train Acc: 82.00%\n",
            "\t Val. Loss: 0.537 |  Val. Acc: 81.03%\n",
            "\tTrain Loss: 0.474 | Train Acc: 82.04%\n",
            "\t Val. Loss: 0.536 |  Val. Acc: 81.06%\n",
            "\tTrain Loss: 0.474 | Train Acc: 82.01%\n",
            "\t Val. Loss: 0.532 |  Val. Acc: 81.18%\n",
            "\tTrain Loss: 0.475 | Train Acc: 82.02%\n",
            "\t Val. Loss: 0.531 |  Val. Acc: 81.31%\n",
            "\tTrain Loss: 0.474 | Train Acc: 82.05%\n",
            "\t Val. Loss: 0.526 |  Val. Acc: 81.35%\n",
            "\tTrain Loss: 0.474 | Train Acc: 82.03%\n",
            "\t Val. Loss: 0.522 |  Val. Acc: 81.37%\n",
            "\tTrain Loss: 0.474 | Train Acc: 82.02%\n",
            "\t Val. Loss: 0.521 |  Val. Acc: 81.40%\n",
            "\tTrain Loss: 0.473 | Train Acc: 82.03%\n",
            "\t Val. Loss: 0.520 |  Val. Acc: 81.44%\n"
          ]
        }
      ]
    },
    {
      "cell_type": "code",
      "metadata": {
        "id": "YkFtIBwlh0H6"
      },
      "source": [
        ""
      ],
      "execution_count": null,
      "outputs": []
    },
    {
      "cell_type": "code",
      "metadata": {
        "id": "9EG5bM3nh0LE"
      },
      "source": [
        ""
      ],
      "execution_count": null,
      "outputs": []
    },
    {
      "cell_type": "code",
      "metadata": {
        "id": "yqokYlU3h0Ni"
      },
      "source": [
        ""
      ],
      "execution_count": null,
      "outputs": []
    },
    {
      "cell_type": "code",
      "metadata": {
        "id": "36voPtb9h0QS"
      },
      "source": [
        "import spacy\n",
        "nlp = spacy.load('en_core_web_sm')\n",
        "\n",
        "def predict_sentiment(model, sentence):\n",
        "    model.eval()\n",
        "    tokenized = [tok.text for tok in nlp.tokenizer(sentence)]\n",
        "    indexed = [TEXT.vocab.stoi[t] for t in tokenized]\n",
        "    length = [len(indexed)]\n",
        "    tensor = torch.LongTensor(indexed).to(device)\n",
        "    tensor = tensor.unsqueeze(1)\n",
        "    prediction = torch.sigmoid(model(tensor))\n",
        "    return prediction.item()"
      ],
      "execution_count": null,
      "outputs": []
    },
    {
      "cell_type": "code",
      "metadata": {
        "colab": {
          "base_uri": "https://localhost:8080/"
        },
        "id": "cE-0CylEejxv",
        "outputId": "634a0b25-5943-4b9f-dd1b-a215e71e6e00"
      },
      "source": [
        "predict_sentiment(model,data.text[1])"
      ],
      "execution_count": null,
      "outputs": [
        {
          "output_type": "execute_result",
          "data": {
            "text/plain": [
              "0.4321616291999817"
            ]
          },
          "metadata": {},
          "execution_count": 262
        }
      ]
    },
    {
      "cell_type": "code",
      "metadata": {
        "id": "P_Lwm09rgJRu"
      },
      "source": [
        "a=data.text[22634],data.label[22634]"
      ],
      "execution_count": null,
      "outputs": []
    },
    {
      "cell_type": "code",
      "metadata": {
        "colab": {
          "base_uri": "https://localhost:8080/"
        },
        "id": "f3c9_YNFjnSl",
        "outputId": "7936264e-4f78-4042-c370-908ddd4009bf"
      },
      "source": [
        "a"
      ],
      "execution_count": null,
      "outputs": [
        {
          "output_type": "execute_result",
          "data": {
            "text/plain": [
              "('i was surprised at the positive reviews for this product its terrible it cuts you in a weird place to make you look wide the skirt is also not like the picture its darker and heavier the material is not great i had to return ',\n",
              " 0)"
            ]
          },
          "metadata": {},
          "execution_count": 259
        }
      ]
    },
    {
      "cell_type": "code",
      "metadata": {
        "colab": {
          "base_uri": "https://localhost:8080/",
          "height": 363
        },
        "id": "7asehyMLjrq4",
        "outputId": "5d8a46bb-cd6a-4a7e-feef-08507dd02930"
      },
      "source": [
        "data.tail(10)"
      ],
      "execution_count": null,
      "outputs": [
        {
          "output_type": "execute_result",
          "data": {
            "text/html": [
              "<div>\n",
              "<style scoped>\n",
              "    .dataframe tbody tr th:only-of-type {\n",
              "        vertical-align: middle;\n",
              "    }\n",
              "\n",
              "    .dataframe tbody tr th {\n",
              "        vertical-align: top;\n",
              "    }\n",
              "\n",
              "    .dataframe thead th {\n",
              "        text-align: right;\n",
              "    }\n",
              "</style>\n",
              "<table border=\"1\" class=\"dataframe\">\n",
              "  <thead>\n",
              "    <tr style=\"text-align: right;\">\n",
              "      <th></th>\n",
              "      <th>text</th>\n",
              "      <th>label</th>\n",
              "    </tr>\n",
              "  </thead>\n",
              "  <tbody>\n",
              "    <tr>\n",
              "      <th>22631</th>\n",
              "      <td>cute dress but not for me the waist is too hig...</td>\n",
              "      <td>1</td>\n",
              "    </tr>\n",
              "    <tr>\n",
              "      <th>22632</th>\n",
              "      <td>these bottoms are very cute but defiantly chee...</td>\n",
              "      <td>1</td>\n",
              "    </tr>\n",
              "    <tr>\n",
              "      <th>22633</th>\n",
              "      <td>i am so impressed with the beautiful color com...</td>\n",
              "      <td>1</td>\n",
              "    </tr>\n",
              "    <tr>\n",
              "      <th>22634</th>\n",
              "      <td>i was surprised at the positive reviews for th...</td>\n",
              "      <td>0</td>\n",
              "    </tr>\n",
              "    <tr>\n",
              "      <th>22635</th>\n",
              "      <td>so i was not sure about ordering this skirt be...</td>\n",
              "      <td>1</td>\n",
              "    </tr>\n",
              "    <tr>\n",
              "      <th>22636</th>\n",
              "      <td>i was very happy to snag this dress at such a ...</td>\n",
              "      <td>1</td>\n",
              "    </tr>\n",
              "    <tr>\n",
              "      <th>22637</th>\n",
              "      <td>it reminds me of maternity clothes soft stretc...</td>\n",
              "      <td>1</td>\n",
              "    </tr>\n",
              "    <tr>\n",
              "      <th>22638</th>\n",
              "      <td>this fit well but the top was very see through...</td>\n",
              "      <td>0</td>\n",
              "    </tr>\n",
              "    <tr>\n",
              "      <th>22639</th>\n",
              "      <td>i bought this dress for a wedding i have this ...</td>\n",
              "      <td>1</td>\n",
              "    </tr>\n",
              "    <tr>\n",
              "      <th>22640</th>\n",
              "      <td>this dress in a lovely platinum is feminine an...</td>\n",
              "      <td>1</td>\n",
              "    </tr>\n",
              "  </tbody>\n",
              "</table>\n",
              "</div>"
            ],
            "text/plain": [
              "                                                    text  label\n",
              "22631  cute dress but not for me the waist is too hig...      1\n",
              "22632  these bottoms are very cute but defiantly chee...      1\n",
              "22633  i am so impressed with the beautiful color com...      1\n",
              "22634  i was surprised at the positive reviews for th...      0\n",
              "22635  so i was not sure about ordering this skirt be...      1\n",
              "22636  i was very happy to snag this dress at such a ...      1\n",
              "22637  it reminds me of maternity clothes soft stretc...      1\n",
              "22638  this fit well but the top was very see through...      0\n",
              "22639  i bought this dress for a wedding i have this ...      1\n",
              "22640  this dress in a lovely platinum is feminine an...      1"
            ]
          },
          "metadata": {},
          "execution_count": 227
        }
      ]
    },
    {
      "cell_type": "code",
      "metadata": {
        "id": "8LbqlCGzj8_c"
      },
      "source": [
        ""
      ],
      "execution_count": null,
      "outputs": []
    }
  ]
}