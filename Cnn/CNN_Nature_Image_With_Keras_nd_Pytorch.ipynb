{
 "cells": [
  {
   "cell_type": "code",
   "execution_count": 1,
   "metadata": {},
   "outputs": [
    {
     "name": "stderr",
     "output_type": "stream",
     "text": [
      "Using TensorFlow backend.\n"
     ]
    }
   ],
   "source": [
    "import os\n",
    "import pandas as pd\n",
    "import numpy as np\n",
    "from PIL import Image\n",
    "import cv2\n",
    "from torchvision import transforms,datasets\n",
    "from glob import glob\n",
    "from tqdm import tqdm\n",
    "import matplotlib.pyplot as plt\n",
    "import torch\n",
    "import torch.nn as nn\n",
    "from sklearn.model_selection import train_test_split\n",
    "from keras.models import Sequential\n",
    "from keras.layers import Conv2D,Flatten,Dense,MaxPooling2D,Activation\n",
    "import torch.optim as optim\n",
    "from sklearn.preprocessing import LabelEncoder\n",
    "from keras.utils import to_categorical\n",
    "import torch.nn.functional as F"
   ]
  },
  {
   "cell_type": "code",
   "execution_count": 3,
   "metadata": {},
   "outputs": [
    {
     "data": {
      "text/plain": [
       "'C:/Users/PARIKALP/AppData/Local/Programs/Python/Scripts/Natural Images/data/natural_images/'"
      ]
     },
     "execution_count": 3,
     "metadata": {},
     "output_type": "execute_result"
    }
   ],
   "source": [
    "Dir=\"C:/Users/PARIKALP/AppData/Local/Programs/Python/Scripts/Natural Images/data/natural_images/\"\n",
    "Dir"
   ]
  },
  {
   "cell_type": "code",
   "execution_count": 4,
   "metadata": {},
   "outputs": [
    {
     "name": "stdout",
     "output_type": "stream",
     "text": [
      "Random heights:115 70\n",
      "Random Widths:297 287\n"
     ]
    },
    {
     "data": {
      "text/html": [
       "<div>\n",
       "<style scoped>\n",
       "    .dataframe tbody tr th:only-of-type {\n",
       "        vertical-align: middle;\n",
       "    }\n",
       "\n",
       "    .dataframe tbody tr th {\n",
       "        vertical-align: top;\n",
       "    }\n",
       "\n",
       "    .dataframe thead th {\n",
       "        text-align: right;\n",
       "    }\n",
       "</style>\n",
       "<table border=\"1\" class=\"dataframe\">\n",
       "  <thead>\n",
       "    <tr style=\"text-align: right;\">\n",
       "      <th></th>\n",
       "      <th>classes</th>\n",
       "      <th>number</th>\n",
       "      <th>dim</th>\n",
       "    </tr>\n",
       "  </thead>\n",
       "  <tbody>\n",
       "    <tr>\n",
       "      <th>0</th>\n",
       "      <td>airplane</td>\n",
       "      <td>727</td>\n",
       "      <td>3</td>\n",
       "    </tr>\n",
       "    <tr>\n",
       "      <th>1</th>\n",
       "      <td>car</td>\n",
       "      <td>968</td>\n",
       "      <td>3</td>\n",
       "    </tr>\n",
       "    <tr>\n",
       "      <th>2</th>\n",
       "      <td>cat</td>\n",
       "      <td>885</td>\n",
       "      <td>3</td>\n",
       "    </tr>\n",
       "    <tr>\n",
       "      <th>3</th>\n",
       "      <td>dog</td>\n",
       "      <td>702</td>\n",
       "      <td>3</td>\n",
       "    </tr>\n",
       "    <tr>\n",
       "      <th>4</th>\n",
       "      <td>flower</td>\n",
       "      <td>843</td>\n",
       "      <td>3</td>\n",
       "    </tr>\n",
       "    <tr>\n",
       "      <th>5</th>\n",
       "      <td>fruit</td>\n",
       "      <td>1000</td>\n",
       "      <td>3</td>\n",
       "    </tr>\n",
       "    <tr>\n",
       "      <th>6</th>\n",
       "      <td>motorbike</td>\n",
       "      <td>788</td>\n",
       "      <td>3</td>\n",
       "    </tr>\n",
       "    <tr>\n",
       "      <th>7</th>\n",
       "      <td>person</td>\n",
       "      <td>986</td>\n",
       "      <td>3</td>\n",
       "    </tr>\n",
       "  </tbody>\n",
       "</table>\n",
       "</div>"
      ],
      "text/plain": [
       "     classes  number  dim\n",
       "0   airplane     727    3\n",
       "1        car     968    3\n",
       "2        cat     885    3\n",
       "3        dog     702    3\n",
       "4     flower     843    3\n",
       "5      fruit    1000    3\n",
       "6  motorbike     788    3\n",
       "7     person     986    3"
      ]
     },
     "execution_count": 4,
     "metadata": {},
     "output_type": "execute_result"
    }
   ],
   "source": [
    "classes=[]\n",
    "img_classes=[]\n",
    "n_images=[]\n",
    "height=[]\n",
    "width=[]\n",
    "dim=[]\n",
    "for folder in os.listdir(Dir):\n",
    "    classes.append(folder)\n",
    "    img=os.listdir(\"C:/Users/PARIKALP/AppData/Local/Programs/Python/Scripts/Natural Images/data/natural_images/\"+folder)\n",
    "    n_images.append(len(img))\n",
    "    for i in img:\n",
    "        img_classes.append(folder)\n",
    "        img=np.array(Image.open(Dir+folder+\"/\"+i))\n",
    "        height.append(img.shape[0])\n",
    "        width.append(img.shape[1])\n",
    "    dim.append(img.shape[2])\n",
    "\n",
    "df=pd.DataFrame({\"classes\":classes,\n",
    "                \"number\":n_images,\n",
    "                 \"dim\":dim})\n",
    "\n",
    "print(\"Random heights:\" + str(height[10]), str(height[123]))\n",
    "print(\"Random Widths:\" + str(width[10]), str(width[123]))\n",
    "df"
   ]
  },
  {
   "cell_type": "code",
   "execution_count": 5,
   "metadata": {},
   "outputs": [
    {
     "ename": "NameError",
     "evalue": "name 'label' is not defined",
     "output_type": "error",
     "traceback": [
      "\u001b[1;31m---------------------------------------------------------------------------\u001b[0m",
      "\u001b[1;31mNameError\u001b[0m                                 Traceback (most recent call last)",
      "\u001b[1;32m<ipython-input-5-70d16cf6e4f0>\u001b[0m in \u001b[0;36m<module>\u001b[1;34m\u001b[0m\n\u001b[0;32m     10\u001b[0m         \u001b[0mimg_resize\u001b[0m\u001b[1;33m=\u001b[0m\u001b[0mcv2\u001b[0m\u001b[1;33m.\u001b[0m\u001b[0mresize\u001b[0m\u001b[1;33m(\u001b[0m\u001b[0mimg_c\u001b[0m\u001b[1;33m,\u001b[0m\u001b[1;33m(\u001b[0m\u001b[1;36m80\u001b[0m\u001b[1;33m,\u001b[0m\u001b[1;36m80\u001b[0m\u001b[1;33m)\u001b[0m\u001b[1;33m)\u001b[0m\u001b[1;33m\u001b[0m\u001b[1;33m\u001b[0m\u001b[0m\n\u001b[0;32m     11\u001b[0m         \u001b[0mX\u001b[0m\u001b[1;33m.\u001b[0m\u001b[0mappend\u001b[0m\u001b[1;33m(\u001b[0m\u001b[0mnp\u001b[0m\u001b[1;33m.\u001b[0m\u001b[0marray\u001b[0m\u001b[1;33m(\u001b[0m\u001b[0mimg_resize\u001b[0m\u001b[1;33m)\u001b[0m\u001b[1;33m)\u001b[0m\u001b[1;33m\u001b[0m\u001b[1;33m\u001b[0m\u001b[0m\n\u001b[1;32m---> 12\u001b[1;33m         \u001b[0mY\u001b[0m\u001b[1;33m.\u001b[0m\u001b[0mappend\u001b[0m\u001b[1;33m(\u001b[0m\u001b[0mlabel\u001b[0m\u001b[1;33m)\u001b[0m\u001b[1;33m\u001b[0m\u001b[1;33m\u001b[0m\u001b[0m\n\u001b[0m",
      "\u001b[1;31mNameError\u001b[0m: name 'label' is not defined"
     ]
    }
   ],
   "source": [
    "X=[]\n",
    "Y=[]\n",
    "for folder in (os.listdir(Dir)):\n",
    "#     print(folder)\n",
    "    path=\"C:/Users/PARIKALP/AppData/Local/Programs/Python/Scripts/Natural Images/data/natural_images/\"+folder+\"/\"     \n",
    "    folder_data=os.listdir(path)\n",
    "    for img in folder_data:\n",
    "        img=cv2.imread(path+img)\n",
    "        img_c=cv2.cvtColor(img,cv2.COLOR_BGR2RGB)\n",
    "        img_resize=cv2.resize(img_c,(80,80))\n",
    "        X.append(np.array(img_resize))\n",
    "        Y.append(label)"
   ]
  },
  {
   "cell_type": "code",
   "execution_count": 254,
   "metadata": {},
   "outputs": [
    {
     "name": "stdout",
     "output_type": "stream",
     "text": [
      "6899\n"
     ]
    }
   ],
   "source": [
    "su=0\n",
    "for i in df[\"number\"]:\n",
    "    su+=i\n",
    "print(su)"
   ]
  },
  {
   "cell_type": "code",
   "execution_count": 255,
   "metadata": {},
   "outputs": [],
   "source": [
    "X=np.array(X)\n",
    "Y=np.array(Y)"
   ]
  },
  {
   "cell_type": "code",
   "execution_count": 256,
   "metadata": {},
   "outputs": [
    {
     "data": {
      "text/plain": [
       "((6899, 80, 80, 3), (6899,))"
      ]
     },
     "execution_count": 256,
     "metadata": {},
     "output_type": "execute_result"
    }
   ],
   "source": [
    "X.shape,Y.shape"
   ]
  },
  {
   "cell_type": "code",
   "execution_count": 257,
   "metadata": {},
   "outputs": [],
   "source": [
    "X=X/X.max()"
   ]
  },
  {
   "cell_type": "code",
   "execution_count": 258,
   "metadata": {},
   "outputs": [],
   "source": [
    "y_encoder=LabelEncoder().fit_transform(Y)\n"
   ]
  },
  {
   "cell_type": "code",
   "execution_count": 259,
   "metadata": {},
   "outputs": [],
   "source": [
    "Y=to_categorical(y,8)"
   ]
  },
  {
   "cell_type": "code",
   "execution_count": 260,
   "metadata": {},
   "outputs": [
    {
     "data": {
      "text/plain": [
       "array([[1., 0., 0., ..., 0., 0., 0.],\n",
       "       [1., 0., 0., ..., 0., 0., 0.],\n",
       "       [1., 0., 0., ..., 0., 0., 0.],\n",
       "       ...,\n",
       "       [1., 0., 0., ..., 0., 0., 0.],\n",
       "       [1., 0., 0., ..., 0., 0., 0.],\n",
       "       [1., 0., 0., ..., 0., 0., 0.]], dtype=float32)"
      ]
     },
     "execution_count": 260,
     "metadata": {},
     "output_type": "execute_result"
    }
   ],
   "source": [
    "Y"
   ]
  },
  {
   "cell_type": "code",
   "execution_count": 261,
   "metadata": {},
   "outputs": [],
   "source": [
    "np.random.shuffle(X)\n",
    "np.random.shuffle(Y)"
   ]
  },
  {
   "cell_type": "code",
   "execution_count": 262,
   "metadata": {},
   "outputs": [],
   "source": [
    "r = np.arange(X.shape[0])\n",
    "np.random.seed(42)\n",
    "np.random.shuffle(r)\n",
    "X = X[r]\n",
    "Y = Y[r]"
   ]
  },
  {
   "cell_type": "code",
   "execution_count": 263,
   "metadata": {},
   "outputs": [],
   "source": [
    "train_x,test_x,train_y,test_y=train_test_split(X,Y,test_size=0.33)"
   ]
  },
  {
   "cell_type": "code",
   "execution_count": 264,
   "metadata": {},
   "outputs": [
    {
     "data": {
      "text/plain": [
       "((4622, 80, 80, 3), (2277, 80, 80, 3), (4622, 8), (2277, 8))"
      ]
     },
     "execution_count": 264,
     "metadata": {},
     "output_type": "execute_result"
    }
   ],
   "source": [
    "train_x.shape,test_x.shape,train_y.shape,test_y.shape"
   ]
  },
  {
   "cell_type": "code",
   "execution_count": 265,
   "metadata": {},
   "outputs": [
    {
     "data": {
      "text/plain": [
       "6899"
      ]
     },
     "execution_count": 265,
     "metadata": {},
     "output_type": "execute_result"
    }
   ],
   "source": [
    "len(y_categorical)"
   ]
  },
  {
   "cell_type": "code",
   "execution_count": 266,
   "metadata": {},
   "outputs": [
    {
     "data": {
      "text/plain": [
       "array([[1., 0., 0., ..., 0., 0., 0.],\n",
       "       [1., 0., 0., ..., 0., 0., 0.],\n",
       "       [1., 0., 0., ..., 0., 0., 0.],\n",
       "       ...,\n",
       "       [1., 0., 0., ..., 0., 0., 0.],\n",
       "       [1., 0., 0., ..., 0., 0., 0.],\n",
       "       [1., 0., 0., ..., 0., 0., 0.]], dtype=float32)"
      ]
     },
     "execution_count": 266,
     "metadata": {},
     "output_type": "execute_result"
    }
   ],
   "source": [
    "Y"
   ]
  },
  {
   "cell_type": "code",
   "execution_count": 267,
   "metadata": {},
   "outputs": [],
   "source": [
    "from keras import models, layers\n",
    "model = models.Sequential()\n",
    "model.add(layers.Conv2D(filters=32, kernel_size=(5,5), activation='relu', input_shape=train_x.shape[1:]))\n",
    "model.add(layers.MaxPool2D(pool_size=(2, 2)))\n",
    "model.add(layers.Conv2D(filters=64, kernel_size=(3, 3), activation='relu'))\n",
    "model.add(layers.MaxPool2D(pool_size=(2, 2)))\n",
    "model.add(layers.Dropout(rate=0.25))\n",
    "model.add(layers.Flatten())\n",
    "model.add(layers.Dense(256, activation='relu'))\n",
    "model.add(layers.Dropout(rate=0.5))\n",
    "model.add(layers.Dense(8, activation='softmax'))"
   ]
  },
  {
   "cell_type": "code",
   "execution_count": 268,
   "metadata": {},
   "outputs": [],
   "source": [
    "model.compile(\n",
    "    loss='categorical_crossentropy', \n",
    "    optimizer='adam', \n",
    "    metrics=['accuracy'])"
   ]
  },
  {
   "cell_type": "code",
   "execution_count": 269,
   "metadata": {},
   "outputs": [
    {
     "name": "stdout",
     "output_type": "stream",
     "text": [
      "Train on 3697 samples, validate on 925 samples\n",
      "Epoch 1/5\n",
      "3697/3697 [==============================] - 81s 22ms/step - loss: 0.0175 - accuracy: 0.9924 - val_loss: 0.0000e+00 - val_accuracy: 1.0000\n",
      "Epoch 2/5\n",
      "3697/3697 [==============================] - 72s 19ms/step - loss: 0.0000e+00 - accuracy: 1.0000 - val_loss: 0.0000e+00 - val_accuracy: 1.0000\n",
      "Epoch 3/5\n",
      "3697/3697 [==============================] - 73s 20ms/step - loss: 0.0000e+00 - accuracy: 1.0000 - val_loss: 0.0000e+00 - val_accuracy: 1.0000\n",
      "Epoch 4/5\n",
      "3697/3697 [==============================] - 75s 20ms/step - loss: 0.0000e+00 - accuracy: 1.0000 - val_loss: 0.0000e+00 - val_accuracy: 1.0000\n",
      "Epoch 5/5\n",
      "3697/3697 [==============================] - 66s 18ms/step - loss: 0.0000e+00 - accuracy: 1.0000 - val_loss: 0.0000e+00 - val_accuracy: 1.0000\n"
     ]
    }
   ],
   "source": [
    "history = model.fit(train_x, train_y, epochs=5, validation_split=0.2)"
   ]
  },
  {
   "cell_type": "code",
   "execution_count": 270,
   "metadata": {},
   "outputs": [
    {
     "data": {
      "image/png": "[encoded data removed]",
      "text/plain": [
       "<Figure size 432x288 with 1 Axes>"
      ]
     },
     "metadata": {
      "needs_background": "light"
     },
     "output_type": "display_data"
    }
   ],
   "source": [
    "plt.plot(history.history[\"accuracy\"],label=\"training_accuracy\")\n",
    "plt.plot(history.history[\"val_accuracy\"],label=\"val_accuracy\")\n",
    "plt.plot(history.history[\"loss\"],label='training loss')\n",
    "plt.plot(history.history['val_loss'], label='val loss')\n",
    "plt.title('Loss/accuracy')\n",
    "plt.xlabel('epochs')\n",
    "plt.ylabel('loss')\n",
    "plt.legend()\n",
    "plt.show()\n"
   ]
  },
  {
   "cell_type": "code",
   "execution_count": 250,
   "metadata": {},
   "outputs": [
    {
     "data": {
      "text/plain": [
       "array([[1., 0., 0., 0., 0., 0., 0., 0.],\n",
       "       [0., 1., 0., 0., 0., 0., 0., 0.],\n",
       "       [0., 0., 1., 0., 0., 0., 0., 0.],\n",
       "       [0., 0., 0., 1., 0., 0., 0., 0.],\n",
       "       [0., 0., 0., 0., 1., 0., 0., 0.],\n",
       "       [0., 0., 0., 0., 0., 1., 0., 0.],\n",
       "       [0., 0., 0., 0., 0., 0., 1., 0.],\n",
       "       [0., 0., 0., 0., 0., 0., 0., 1.]])"
      ]
     },
     "execution_count": 250,
     "metadata": {},
     "output_type": "execute_result"
    }
   ],
   "source": [
    "np.eye(8)"
   ]
  },
  {
   "cell_type": "code",
   "execution_count": null,
   "metadata": {},
   "outputs": [],
   "source": []
  },
  {
   "cell_type": "code",
   "execution_count": null,
   "metadata": {},
   "outputs": [],
   "source": []
  },
  {
   "cell_type": "code",
   "execution_count": null,
   "metadata": {},
   "outputs": [],
   "source": []
  },
  {
   "cell_type": "code",
   "execution_count": null,
   "metadata": {},
   "outputs": [],
   "source": []
  },
  {
   "cell_type": "code",
   "execution_count": null,
   "metadata": {},
   "outputs": [],
   "source": []
  },
  {
   "cell_type": "code",
   "execution_count": 315,
   "metadata": {},
   "outputs": [],
   "source": [
    "REBUILD_DATA = True\n",
    "class Natural_Image:\n",
    "    Img_size=70\n",
    "    airplane=\"C:/Users/PARIKALP/AppData/Local/Programs/Python/Scripts/Natural Images/data/natural_images/airplane\"\n",
    "    car=\"C:/Users/PARIKALP/AppData/Local/Programs/Python/Scripts/Natural Images/data/natural_images/car\"\n",
    "    cat=\"C:/Users/PARIKALP/AppData/Local/Programs/Python/Scripts/Natural Images/data/natural_images/cat\"\n",
    "    dog=\"C:/Users/PARIKALP/AppData/Local/Programs/Python/Scripts/Natural Images/data/natural_images/dog\"\n",
    "    flower=\"C:/Users/PARIKALP/AppData/Local/Programs/Python/Scripts/Natural Images/data/natural_images/flower\"\n",
    "    fruit=\"C:/Users/PARIKALP/AppData/Local/Programs/Python/Scripts/Natural Images/data/natural_images/fruit\"\n",
    "    motorbike=\"C:/Users/PARIKALP/AppData/Local/Programs/Python/Scripts/Natural Images/data/natural_images/motorbike\"\n",
    "    person=\"C:/Users/PARIKALP/AppData/Local/Programs/Python/Scripts/Natural Images/data/natural_images/person\"\n",
    "    \n",
    "    Label={airplane:0,car:1,cat:2,dog:3,flower:4,fruit:5,motorbike:6,person:7}\n",
    "    training_data=[]\n",
    "    airplanecount=0\n",
    "    carcount=0\n",
    "    catcount=0\n",
    "    dogcount=0\n",
    "    flowercount=0\n",
    "    fruitcount=0\n",
    "    motorbikecount=0\n",
    "    personcount=0\n",
    "    \n",
    "    def make_training(self):\n",
    "        for label in self.Label:\n",
    "            for f in os.listdir(label):\n",
    "                if \"jpg\" in f:\n",
    "                    path=os.path.join(label,f)\n",
    "                    img=cv2.imread(path,cv2.IMREAD_GRAYSCALE)\n",
    "                    img=cv2.resize(img,(self.Img_size,self.Img_size))\n",
    "                    self.training_data.append([np.array(img),np.eye(8)[self.Label[label]]])\n",
    "                    \n",
    "                    if label==self.airplane:\n",
    "                        self.airplanecount+=1\n",
    "                    elif label==self.car:\n",
    "                        self.carcount+=1\n",
    "                    elif label==self.cat:\n",
    "                        self.catcount+=1\n",
    "                    elif label==self.dog:\n",
    "                        self.dogcount+=1\n",
    "                    elif label==self.flower:\n",
    "                        self.flowercount+=1\n",
    "                    elif label==self.fruit:\n",
    "                        self.fruitcount+=1\n",
    "                    elif label==self.motorbike:\n",
    "                        self.motorbikecount+=1\n",
    "                    elif label==self.person:\n",
    "                        self.personcount+=1\n",
    "        \n",
    "        \n",
    "        np.random.shuffle(self.training_data)\n",
    "        np.save(\"tra_data2.npy\",self.training_data)\n",
    "        print('CATS:',natural_images.catcount)\n",
    "        print('DOGS:',natural_images.dogcount)\n",
    "        print('AIRPLANE:',natural_images.airplanecount)\n",
    "        print('FRUIT:',natural_images.fruitcount)\n",
    "        print('FLOWER:',natural_images.flowercount)\n",
    "        print('PERSON:',natural_images.personcount)\n",
    "        print('CAR:',natural_images.carcount)\n",
    "        print('MOTORBIKE:',natural_images.motorbikecount)"
   ]
  },
  {
   "cell_type": "code",
   "execution_count": 316,
   "metadata": {},
   "outputs": [
    {
     "name": "stdout",
     "output_type": "stream",
     "text": [
      "CATS: 885\n",
      "DOGS: 702\n",
      "AIRPLANE: 727\n",
      "FRUIT: 1000\n",
      "FLOWER: 843\n",
      "PERSON: 986\n",
      "CAR: 968\n",
      "MOTORBIKE: 788\n"
     ]
    }
   ],
   "source": [
    "if REBUILD_DATA:\n",
    "    natural_images=Natural_Image()\n",
    "    natural_images.make_training()"
   ]
  },
  {
   "cell_type": "code",
   "execution_count": 317,
   "metadata": {},
   "outputs": [],
   "source": [
    "training_data=np.load(\"tra_data2.npy\",allow_pickle=True)"
   ]
  },
  {
   "cell_type": "code",
   "execution_count": 319,
   "metadata": {},
   "outputs": [
    {
     "data": {
      "text/plain": [
       "6899"
      ]
     },
     "execution_count": 319,
     "metadata": {},
     "output_type": "execute_result"
    }
   ],
   "source": [
    "len(training_data)"
   ]
  },
  {
   "cell_type": "code",
   "execution_count": 321,
   "metadata": {},
   "outputs": [
    {
     "name": "stderr",
     "output_type": "stream",
     "text": [
      "c:\\users\\parikalp\\appdata\\local\\programs\\python\\lib\\site-packages\\matplotlib\\text.py:1150: FutureWarning: elementwise comparison failed; returning scalar instead, but in the future will perform elementwise comparison\n",
      "  if s != self._text:\n"
     ]
    },
    {
     "data": {
      "image/png": "[encoded data removed]",
      "text/plain": [
       "<Figure size 1152x936 with 9 Axes>"
      ]
     },
     "metadata": {
      "needs_background": "light"
     },
     "output_type": "display_data"
    }
   ],
   "source": [
    "plt.rcParams[\"figure.figsize\"]=[16,13]\n",
    "plt.figure(33)\n",
    "for i in range(331,340,1):\n",
    "    plt.subplot(i)\n",
    "    plt.imshow(training_data[i][0])\n",
    "    plt.title(training_data[i][1])"
   ]
  },
  {
   "cell_type": "code",
   "execution_count": 532,
   "metadata": {},
   "outputs": [],
   "source": [
    "X=torch.Tensor([i[0] for i in training_data]).view(-1,70,70)\n",
    "Y=torch.Tensor([i[1] for i in training_data])"
   ]
  },
  {
   "cell_type": "markdown",
   "metadata": {},
   "source": [
    "## X=X/X.max()"
   ]
  },
  {
   "cell_type": "code",
   "execution_count": 552,
   "metadata": {},
   "outputs": [],
   "source": [
    "class Net(nn.Module):\n",
    "    def __init__(self):\n",
    "        super().__init__()\n",
    "        self.conv1=nn.Conv2d(1,32,5)\n",
    "        self.relu1=nn.ReLU()\n",
    "        self.max1=nn.MaxPool2d(kernel_size=2)\n",
    "        \n",
    "        self.conv2=nn.Conv2d(32,64,5)\n",
    "        self.relu2=nn.ReLU()\n",
    "        self.max2=nn.MaxPool2d(kernel_size=2)\n",
    "        \n",
    "        self.conv3=nn.Conv2d(64,128,5)\n",
    "        self.relu3=nn.ReLU()\n",
    "        self.max3=nn.MaxPool2d(kernel_size=2)\n",
    "        \n",
    "        \n",
    "        self.fc1=nn.Linear(128*5*5,8)\n",
    "\n",
    "        \n",
    "    def forward(self,x):\n",
    "        out=self.conv1(x)\n",
    "        out=self.relu1(out)\n",
    "        out=self.max1(out)\n",
    "        \n",
    "        out=self.conv2(out)\n",
    "        out=self.relu2(out)\n",
    "        out=self.max2(out)\n",
    "        \n",
    "        out=self.conv3(out)\n",
    "        out=self.relu3(out)\n",
    "        out=self.max3(out)\n",
    "        \n",
    "        out=out.view(out.size(0),-1)\n",
    "        out=self.fc1(out)\n",
    "        return out"
   ]
  },
  {
   "cell_type": "code",
   "execution_count": 553,
   "metadata": {},
   "outputs": [],
   "source": [
    "model=Net()"
   ]
  },
  {
   "cell_type": "code",
   "execution_count": 554,
   "metadata": {},
   "outputs": [],
   "source": [
    "optimizer=optim.Adam(model.parameters(),lr=0.001)\n",
    "criterion=nn.MSELoss()"
   ]
  },
  {
   "cell_type": "code",
   "execution_count": 555,
   "metadata": {},
   "outputs": [],
   "source": [
    "val_PCL=0.2\n",
    "val_size=int(len(X)*val_PCL)"
   ]
  },
  {
   "cell_type": "code",
   "execution_count": 556,
   "metadata": {},
   "outputs": [
    {
     "data": {
      "text/plain": [
       "1379"
      ]
     },
     "execution_count": 556,
     "metadata": {},
     "output_type": "execute_result"
    }
   ],
   "source": [
    "val_size"
   ]
  },
  {
   "cell_type": "code",
   "execution_count": 557,
   "metadata": {},
   "outputs": [],
   "source": [
    "train_X = X[:-val_size]\n",
    "train_y = Y[:-val_size]\n",
    "test_X = X[-val_size:]\n",
    "test_y = Y[-val_size:]"
   ]
  },
  {
   "cell_type": "code",
   "execution_count": 558,
   "metadata": {},
   "outputs": [
    {
     "data": {
      "text/plain": [
       "(torch.Size([5520, 70, 70]),\n",
       " torch.Size([1379, 70, 70]),\n",
       " torch.Size([5520, 8]),\n",
       " torch.Size([1379, 8]))"
      ]
     },
     "execution_count": 558,
     "metadata": {},
     "output_type": "execute_result"
    }
   ],
   "source": [
    "train_X.shape,test_X.shape,train_y.shape,test_y.shape"
   ]
  },
  {
   "cell_type": "code",
   "execution_count": 559,
   "metadata": {},
   "outputs": [],
   "source": [
    "BATCH_SIZE = 200\n",
    "EPOCHS = 23"
   ]
  },
  {
   "cell_type": "code",
   "execution_count": 561,
   "metadata": {},
   "outputs": [
    {
     "name": "stderr",
     "output_type": "stream",
     "text": [
      "\n",
      "  0%|                                                                                           | 0/28 [00:00<?, ?it/s]\u001b[A\n",
      "  4%|██▉                                                                                | 1/28 [00:03<01:30,  3.35s/it]\u001b[A\n",
      "  7%|█████▉                                                                             | 2/28 [00:06<01:27,  3.37s/it]\u001b[A\n",
      " 11%|████████▉                                                                          | 3/28 [00:10<01:29,  3.59s/it]\u001b[A\n",
      " 14%|███████████▊                                                                       | 4/28 [00:14<01:23,  3.47s/it]\u001b[A\n",
      " 18%|██████████████▊                                                                    | 5/28 [00:17<01:18,  3.42s/it]\u001b[A\n",
      " 21%|█████████████████▊                                                                 | 6/28 [00:20<01:13,  3.34s/it]\u001b[A\n",
      " 25%|████████████████████▊                                                              | 7/28 [00:23<01:10,  3.35s/it]\u001b[A\n",
      " 29%|███████████████████████▋                                                           | 8/28 [00:27<01:06,  3.33s/it]\u001b[A\n",
      " 32%|██████████████████████████▋                                                        | 9/28 [00:30<01:01,  3.25s/it]\u001b[A\n",
      " 36%|█████████████████████████████▎                                                    | 10/28 [00:33<00:59,  3.30s/it]\u001b[A\n",
      " 39%|████████████████████████████████▏                                                 | 11/28 [00:36<00:54,  3.23s/it]\u001b[A\n",
      " 43%|███████████████████████████████████▏                                              | 12/28 [00:40<00:52,  3.25s/it]\u001b[A\n",
      " 46%|██████████████████████████████████████                                            | 13/28 [00:43<00:48,  3.22s/it]\u001b[A\n",
      " 50%|█████████████████████████████████████████                                         | 14/28 [00:46<00:44,  3.20s/it]\u001b[A\n",
      " 54%|███████████████████████████████████████████▉                                      | 15/28 [00:49<00:41,  3.23s/it]\u001b[A\n",
      " 57%|██████████████████████████████████████████████▊                                   | 16/28 [00:52<00:38,  3.18s/it]\u001b[A\n",
      " 61%|█████████████████████████████████████████████████▊                                | 17/28 [00:56<00:35,  3.23s/it]\u001b[A\n",
      " 64%|████████████████████████████████████████████████████▋                             | 18/28 [00:59<00:32,  3.21s/it]\u001b[A\n",
      " 68%|███████████████████████████████████████████████████████▋                          | 19/28 [01:02<00:28,  3.21s/it]\u001b[A\n",
      " 71%|██████████████████████████████████████████████████████████▌                       | 20/28 [01:05<00:26,  3.25s/it]\u001b[A\n",
      " 75%|█████████████████████████████████████████████████████████████▌                    | 21/28 [01:09<00:22,  3.26s/it]\u001b[A\n",
      " 79%|████████████████████████████████████████████████████████████████▍                 | 22/28 [01:12<00:19,  3.30s/it]\u001b[A\n",
      " 82%|███████████████████████████████████████████████████████████████████▎              | 23/28 [01:15<00:16,  3.27s/it]\u001b[A\n",
      " 86%|██████████████████████████████████████████████████████████████████████▎           | 24/28 [01:19<00:13,  3.30s/it]\u001b[A\n",
      " 89%|█████████████████████████████████████████████████████████████████████████▏        | 25/28 [01:22<00:09,  3.28s/it]\u001b[A\n",
      " 93%|████████████████████████████████████████████████████████████████████████████▏     | 26/28 [01:25<00:06,  3.29s/it]\u001b[A\n",
      " 96%|███████████████████████████████████████████████████████████████████████████████   | 27/28 [01:28<00:03,  3.32s/it]\u001b[A\n",
      "100%|██████████████████████████████████████████████████████████████████████████████████| 28/28 [01:30<00:00,  3.25s/it]\u001b[A\n",
      "\n",
      "  0%|                                                                                           | 0/28 [00:00<?, ?it/s]\u001b[A"
     ]
    },
    {
     "name": "stdout",
     "output_type": "stream",
     "text": [
      "Epoch: 0. Loss: 0.06917472183704376\n"
     ]
    },
    {
     "name": "stderr",
     "output_type": "stream",
     "text": [
      "\n",
      "  4%|██▉                                                                                | 1/28 [00:03<01:27,  3.24s/it]\u001b[A\n",
      "  7%|█████▉                                                                             | 2/28 [00:06<01:21,  3.15s/it]\u001b[A\n",
      " 11%|████████▉                                                                          | 3/28 [00:09<01:22,  3.29s/it]\u001b[A\n",
      " 14%|███████████▊                                                                       | 4/28 [00:13<01:18,  3.27s/it]\u001b[A\n",
      " 18%|██████████████▊                                                                    | 5/28 [00:16<01:17,  3.36s/it]\u001b[A\n",
      " 21%|█████████████████▊                                                                 | 6/28 [00:20<01:14,  3.38s/it]\u001b[A\n",
      " 25%|████████████████████▊                                                              | 7/28 [00:23<01:09,  3.30s/it]\u001b[A\n",
      " 29%|███████████████████████▋                                                           | 8/28 [00:26<01:07,  3.37s/it]\u001b[A\n",
      " 32%|██████████████████████████▋                                                        | 9/28 [00:29<01:02,  3.31s/it]\u001b[A\n",
      " 36%|█████████████████████████████▎                                                    | 10/28 [00:33<01:00,  3.35s/it]\u001b[A\n",
      " 39%|████████████████████████████████▏                                                 | 11/28 [00:36<00:56,  3.35s/it]\u001b[A\n",
      " 43%|███████████████████████████████████▏                                              | 12/28 [00:39<00:52,  3.31s/it]\u001b[A\n",
      " 46%|██████████████████████████████████████                                            | 13/28 [00:43<00:49,  3.32s/it]\u001b[A\n",
      " 50%|█████████████████████████████████████████                                         | 14/28 [00:46<00:45,  3.27s/it]\u001b[A\n",
      " 54%|███████████████████████████████████████████▉                                      | 15/28 [00:49<00:42,  3.31s/it]\u001b[A\n",
      " 57%|██████████████████████████████████████████████▊                                   | 16/28 [00:53<00:39,  3.31s/it]\u001b[A\n",
      " 61%|█████████████████████████████████████████████████▊                                | 17/28 [00:56<00:36,  3.30s/it]\u001b[A\n",
      " 64%|████████████████████████████████████████████████████▋                             | 18/28 [00:59<00:33,  3.33s/it]\u001b[A\n",
      " 68%|███████████████████████████████████████████████████████▋                          | 19/28 [01:02<00:29,  3.27s/it]\u001b[A\n",
      " 71%|██████████████████████████████████████████████████████████▌                       | 20/28 [01:06<00:26,  3.31s/it]\u001b[A\n",
      " 75%|█████████████████████████████████████████████████████████████▌                    | 21/28 [01:09<00:22,  3.25s/it]\u001b[A\n",
      " 79%|████████████████████████████████████████████████████████████████▍                 | 22/28 [01:12<00:19,  3.31s/it]\u001b[A\n",
      " 82%|███████████████████████████████████████████████████████████████████▎              | 23/28 [01:16<00:16,  3.37s/it]\u001b[A\n",
      " 86%|██████████████████████████████████████████████████████████████████████▎           | 24/28 [01:19<00:13,  3.31s/it]\u001b[A\n",
      " 89%|█████████████████████████████████████████████████████████████████████████▏        | 25/28 [01:22<00:09,  3.33s/it]\u001b[A\n",
      " 93%|████████████████████████████████████████████████████████████████████████████▏     | 26/28 [01:26<00:06,  3.27s/it]\u001b[A\n",
      " 96%|███████████████████████████████████████████████████████████████████████████████   | 27/28 [01:29<00:03,  3.32s/it]\u001b[A\n",
      "100%|██████████████████████████████████████████████████████████████████████████████████| 28/28 [01:31<00:00,  3.26s/it]\u001b[A\n",
      "\n",
      "  0%|                                                                                           | 0/28 [00:00<?, ?it/s]\u001b[A"
     ]
    },
    {
     "name": "stdout",
     "output_type": "stream",
     "text": [
      "Epoch: 1. Loss: 0.05669279024004936\n"
     ]
    },
    {
     "name": "stderr",
     "output_type": "stream",
     "text": [
      "\n",
      "  4%|██▉                                                                                | 1/28 [00:03<01:32,  3.43s/it]\u001b[A\n",
      "  7%|█████▉                                                                             | 2/28 [00:06<01:29,  3.43s/it]\u001b[A\n",
      " 11%|████████▉                                                                          | 3/28 [00:10<01:24,  3.38s/it]\u001b[A\n",
      " 14%|███████████▊                                                                       | 4/28 [00:13<01:22,  3.42s/it]\u001b[A\n",
      " 18%|██████████████▊                                                                    | 5/28 [00:16<01:16,  3.33s/it]\u001b[A\n",
      " 21%|█████████████████▊                                                                 | 6/28 [00:20<01:14,  3.37s/it]\u001b[A\n",
      " 25%|████████████████████▊                                                              | 7/28 [00:23<01:11,  3.39s/it]\u001b[A\n",
      " 29%|███████████████████████▋                                                           | 8/28 [00:26<01:06,  3.33s/it]\u001b[A\n",
      " 32%|██████████████████████████▋                                                        | 9/28 [00:30<01:04,  3.37s/it]\u001b[A\n",
      " 36%|█████████████████████████████▎                                                    | 10/28 [00:33<00:59,  3.29s/it]\u001b[A\n",
      " 39%|████████████████████████████████▏                                                 | 11/28 [00:36<00:57,  3.35s/it]\u001b[A\n",
      " 43%|███████████████████████████████████▏                                              | 12/28 [00:40<00:55,  3.44s/it]\u001b[A\n",
      " 46%|██████████████████████████████████████                                            | 13/28 [00:43<00:50,  3.40s/it]\u001b[A\n",
      " 50%|█████████████████████████████████████████                                         | 14/28 [00:47<00:47,  3.40s/it]\u001b[A\n",
      " 54%|███████████████████████████████████████████▉                                      | 15/28 [00:50<00:43,  3.32s/it]\u001b[A\n",
      " 57%|██████████████████████████████████████████████▊                                   | 16/28 [00:55<00:45,  3.79s/it]\u001b[A\n",
      " 61%|█████████████████████████████████████████████████▊                                | 17/28 [00:58<00:40,  3.68s/it]\u001b[A\n",
      " 64%|████████████████████████████████████████████████████▋                             | 18/28 [01:02<00:35,  3.56s/it]\u001b[A\n",
      " 68%|███████████████████████████████████████████████████████▋                          | 19/28 [01:05<00:32,  3.61s/it]\u001b[A\n",
      " 71%|██████████████████████████████████████████████████████████▌                       | 20/28 [01:09<00:28,  3.59s/it]\u001b[A\n",
      " 75%|█████████████████████████████████████████████████████████████▌                    | 21/28 [01:12<00:24,  3.47s/it]\u001b[A\n",
      " 79%|████████████████████████████████████████████████████████████████▍                 | 22/28 [01:17<00:23,  3.90s/it]\u001b[A\n",
      " 82%|███████████████████████████████████████████████████████████████████▎              | 23/28 [01:20<00:18,  3.76s/it]\u001b[A\n",
      " 86%|██████████████████████████████████████████████████████████████████████▎           | 24/28 [01:24<00:14,  3.63s/it]\u001b[A\n",
      " 89%|█████████████████████████████████████████████████████████████████████████▏        | 25/28 [01:27<00:10,  3.62s/it]\u001b[A\n",
      " 93%|████████████████████████████████████████████████████████████████████████████▏     | 26/28 [01:30<00:06,  3.49s/it]\u001b[A\n",
      " 96%|███████████████████████████████████████████████████████████████████████████████   | 27/28 [01:34<00:03,  3.49s/it]\u001b[A\n",
      "100%|██████████████████████████████████████████████████████████████████████████████████| 28/28 [01:36<00:00,  3.44s/it]\u001b[A\n",
      "\n",
      "  0%|                                                                                           | 0/28 [00:00<?, ?it/s]\u001b[A"
     ]
    },
    {
     "name": "stdout",
     "output_type": "stream",
     "text": [
      "Epoch: 2. Loss: 0.04920826852321625\n"
     ]
    },
    {
     "name": "stderr",
     "output_type": "stream",
     "text": [
      "\n",
      "  4%|██▉                                                                                | 1/28 [00:05<02:30,  5.58s/it]\u001b[A\n",
      "  7%|█████▉                                                                             | 2/28 [00:10<02:23,  5.51s/it]\u001b[A\n",
      " 11%|████████▉                                                                          | 3/28 [00:14<02:04,  5.00s/it]\u001b[A\n",
      " 14%|███████████▊                                                                       | 4/28 [00:17<01:47,  4.46s/it]\u001b[A\n",
      " 18%|██████████████▊                                                                    | 5/28 [00:21<01:34,  4.11s/it]\u001b[A\n",
      " 21%|█████████████████▊                                                                 | 6/28 [00:24<01:25,  3.86s/it]\u001b[A\n",
      " 25%|████████████████████▊                                                              | 7/28 [00:27<01:16,  3.67s/it]\u001b[A\n",
      " 29%|███████████████████████▋                                                           | 8/28 [00:31<01:11,  3.59s/it]\u001b[A\n",
      " 32%|██████████████████████████▋                                                        | 9/28 [00:34<01:05,  3.46s/it]\u001b[A\n",
      " 36%|█████████████████████████████▎                                                    | 10/28 [00:37<01:02,  3.46s/it]\u001b[A\n",
      " 39%|████████████████████████████████▏                                                 | 11/28 [00:41<00:58,  3.41s/it]\u001b[A\n",
      " 43%|███████████████████████████████████▏                                              | 12/28 [00:44<00:53,  3.37s/it]\u001b[A\n",
      " 46%|██████████████████████████████████████                                            | 13/28 [00:47<00:50,  3.38s/it]\u001b[A\n",
      " 50%|█████████████████████████████████████████                                         | 14/28 [00:50<00:46,  3.31s/it]\u001b[A\n",
      " 54%|███████████████████████████████████████████▉                                      | 15/28 [00:54<00:43,  3.32s/it]\u001b[A\n",
      " 57%|██████████████████████████████████████████████▊                                   | 16/28 [00:57<00:39,  3.28s/it]\u001b[A\n",
      " 61%|█████████████████████████████████████████████████▊                                | 17/28 [01:00<00:35,  3.26s/it]\u001b[A\n",
      " 64%|████████████████████████████████████████████████████▋                             | 18/28 [01:04<00:33,  3.34s/it]\u001b[A\n",
      " 68%|███████████████████████████████████████████████████████▋                          | 19/28 [01:07<00:29,  3.28s/it]\u001b[A\n",
      " 71%|██████████████████████████████████████████████████████████▌                       | 20/28 [01:12<00:29,  3.72s/it]\u001b[A\n",
      " 75%|█████████████████████████████████████████████████████████████▌                    | 21/28 [01:15<00:24,  3.56s/it]\u001b[A\n",
      " 79%|████████████████████████████████████████████████████████████████▍                 | 22/28 [01:18<00:20,  3.44s/it]\u001b[A\n",
      " 82%|███████████████████████████████████████████████████████████████████▎              | 23/28 [01:21<00:16,  3.39s/it]\u001b[A\n",
      " 86%|██████████████████████████████████████████████████████████████████████▎           | 24/28 [01:24<00:13,  3.31s/it]\u001b[A\n",
      " 89%|█████████████████████████████████████████████████████████████████████████▏        | 25/28 [01:28<00:10,  3.36s/it]\u001b[A\n",
      " 93%|████████████████████████████████████████████████████████████████████████████▏     | 26/28 [01:31<00:06,  3.31s/it]\u001b[A\n",
      " 96%|███████████████████████████████████████████████████████████████████████████████   | 27/28 [01:34<00:03,  3.29s/it]\u001b[A\n",
      "100%|██████████████████████████████████████████████████████████████████████████████████| 28/28 [01:36<00:00,  3.45s/it]\u001b[A\n",
      "\n",
      "  0%|                                                                                           | 0/28 [00:00<?, ?it/s]\u001b[A"
     ]
    },
    {
     "name": "stdout",
     "output_type": "stream",
     "text": [
      "Epoch: 3. Loss: 0.04469458758831024\n"
     ]
    },
    {
     "name": "stderr",
     "output_type": "stream",
     "text": [
      "\n",
      "  4%|██▉                                                                                | 1/28 [00:03<01:30,  3.35s/it]\u001b[A\n",
      "  7%|█████▉                                                                             | 2/28 [00:06<01:28,  3.39s/it]\u001b[A\n",
      " 11%|████████▉                                                                          | 3/28 [00:11<01:34,  3.77s/it]\u001b[A\n",
      " 14%|███████████▊                                                                       | 4/28 [00:14<01:26,  3.60s/it]\u001b[A\n",
      " 18%|██████████████▊                                                                    | 5/28 [00:19<01:33,  4.05s/it]\u001b[A\n",
      " 21%|█████████████████▊                                                                 | 6/28 [00:23<01:24,  3.82s/it]\u001b[A\n",
      " 25%|████████████████████▊                                                              | 7/28 [00:26<01:17,  3.67s/it]\u001b[A\n",
      " 29%|███████████████████████▋                                                           | 8/28 [00:31<01:20,  4.02s/it]\u001b[A\n",
      " 32%|██████████████████████████▋                                                        | 9/28 [00:34<01:10,  3.71s/it]\u001b[A\n",
      " 36%|█████████████████████████████▎                                                    | 10/28 [00:39<01:13,  4.06s/it]\u001b[A\n",
      " 39%|████████████████████████████████▏                                                 | 11/28 [00:42<01:05,  3.87s/it]\u001b[A\n",
      " 43%|███████████████████████████████████▏                                              | 12/28 [00:45<00:58,  3.65s/it]\u001b[A\n",
      " 46%|██████████████████████████████████████                                            | 13/28 [00:48<00:53,  3.55s/it]\u001b[A\n",
      " 50%|█████████████████████████████████████████                                         | 14/28 [00:52<00:48,  3.48s/it]\u001b[A\n",
      " 54%|███████████████████████████████████████████▉                                      | 15/28 [00:55<00:43,  3.38s/it]\u001b[A\n",
      " 57%|██████████████████████████████████████████████▊                                   | 16/28 [00:58<00:40,  3.41s/it]\u001b[A\n",
      " 61%|█████████████████████████████████████████████████▊                                | 17/28 [01:02<00:36,  3.32s/it]\u001b[A\n",
      " 64%|████████████████████████████████████████████████████▋                             | 18/28 [01:05<00:33,  3.35s/it]\u001b[A\n",
      " 68%|███████████████████████████████████████████████████████▋                          | 19/28 [01:08<00:29,  3.31s/it]\u001b[A\n",
      " 71%|██████████████████████████████████████████████████████████▌                       | 20/28 [01:11<00:26,  3.26s/it]\u001b[A\n",
      " 75%|█████████████████████████████████████████████████████████████▌                    | 21/28 [01:15<00:23,  3.29s/it]\u001b[A\n",
      " 79%|████████████████████████████████████████████████████████████████▍                 | 22/28 [01:18<00:19,  3.24s/it]\u001b[A\n",
      " 82%|███████████████████████████████████████████████████████████████████▎              | 23/28 [01:22<00:18,  3.67s/it]\u001b[A\n",
      " 86%|██████████████████████████████████████████████████████████████████████▎           | 24/28 [01:26<00:14,  3.55s/it]\u001b[A\n",
      " 89%|█████████████████████████████████████████████████████████████████████████▏        | 25/28 [01:29<00:10,  3.48s/it]\u001b[A\n",
      " 93%|████████████████████████████████████████████████████████████████████████████▏     | 26/28 [01:32<00:06,  3.43s/it]\u001b[A\n",
      " 96%|███████████████████████████████████████████████████████████████████████████████   | 27/28 [01:36<00:03,  3.36s/it]\u001b[A\n",
      "100%|██████████████████████████████████████████████████████████████████████████████████| 28/28 [01:38<00:00,  3.50s/it]\u001b[A\n",
      "\n",
      "  0%|                                                                                           | 0/28 [00:00<?, ?it/s]\u001b[A"
     ]
    },
    {
     "name": "stdout",
     "output_type": "stream",
     "text": [
      "Epoch: 4. Loss: 0.04135071113705635\n"
     ]
    },
    {
     "name": "stderr",
     "output_type": "stream",
     "text": [
      "\n",
      "  4%|██▉                                                                                | 1/28 [00:03<01:28,  3.29s/it]\u001b[A\n",
      "  7%|█████▉                                                                             | 2/28 [00:06<01:24,  3.26s/it]\u001b[A\n",
      " 11%|████████▉                                                                          | 3/28 [00:09<01:21,  3.25s/it]\u001b[A\n",
      " 14%|███████████▊                                                                       | 4/28 [00:12<01:17,  3.22s/it]\u001b[A\n",
      " 18%|██████████████▊                                                                    | 5/28 [00:16<01:14,  3.24s/it]\u001b[A\n",
      " 21%|█████████████████▊                                                                 | 6/28 [00:20<01:20,  3.64s/it]\u001b[A\n",
      " 25%|████████████████████▊                                                              | 7/28 [00:23<01:13,  3.49s/it]\u001b[A\n",
      " 29%|███████████████████████▋                                                           | 8/28 [00:27<01:08,  3.44s/it]\u001b[A\n",
      " 32%|██████████████████████████▋                                                        | 9/28 [00:30<01:03,  3.32s/it]\u001b[A\n",
      " 36%|█████████████████████████████▎                                                    | 10/28 [00:33<00:59,  3.31s/it]\u001b[A\n",
      " 39%|████████████████████████████████▏                                                 | 11/28 [00:36<00:55,  3.28s/it]\u001b[A\n",
      " 43%|███████████████████████████████████▏                                              | 12/28 [00:41<00:58,  3.64s/it]\u001b[A\n",
      " 46%|██████████████████████████████████████                                            | 13/28 [00:44<00:52,  3.53s/it]\u001b[A\n",
      " 50%|█████████████████████████████████████████                                         | 14/28 [00:47<00:47,  3.41s/it]\u001b[A\n",
      " 54%|███████████████████████████████████████████▉                                      | 15/28 [00:50<00:43,  3.35s/it]\u001b[A\n",
      " 57%|██████████████████████████████████████████████▊                                   | 16/28 [00:55<00:44,  3.74s/it]\u001b[A\n",
      " 61%|█████████████████████████████████████████████████▊                                | 17/28 [00:58<00:39,  3.57s/it]\u001b[A\n",
      " 64%|████████████████████████████████████████████████████▋                             | 18/28 [01:01<00:34,  3.44s/it]\u001b[A\n",
      " 68%|███████████████████████████████████████████████████████▋                          | 19/28 [01:05<00:30,  3.39s/it]\u001b[A\n",
      " 71%|██████████████████████████████████████████████████████████▌                       | 20/28 [01:08<00:26,  3.32s/it]\u001b[A\n",
      " 75%|█████████████████████████████████████████████████████████████▌                    | 21/28 [01:11<00:23,  3.30s/it]\u001b[A\n",
      " 79%|████████████████████████████████████████████████████████████████▍                 | 22/28 [01:14<00:19,  3.23s/it]\u001b[A\n",
      " 82%|███████████████████████████████████████████████████████████████████▎              | 23/28 [01:17<00:16,  3.24s/it]\u001b[A\n",
      " 86%|██████████████████████████████████████████████████████████████████████▎           | 24/28 [01:20<00:12,  3.23s/it]\u001b[A\n",
      " 89%|█████████████████████████████████████████████████████████████████████████▏        | 25/28 [01:24<00:09,  3.21s/it]\u001b[A\n",
      " 93%|████████████████████████████████████████████████████████████████████████████▏     | 26/28 [01:27<00:06,  3.23s/it]\u001b[A\n",
      " 96%|███████████████████████████████████████████████████████████████████████████████   | 27/28 [01:30<00:03,  3.18s/it]\u001b[A\n",
      "100%|██████████████████████████████████████████████████████████████████████████████████| 28/28 [01:34<00:00,  3.36s/it]\u001b[A\n",
      "\n",
      "  0%|                                                                                           | 0/28 [00:00<?, ?it/s]\u001b[A"
     ]
    },
    {
     "name": "stdout",
     "output_type": "stream",
     "text": [
      "Epoch: 5. Loss: 0.03840971365571022\n"
     ]
    },
    {
     "name": "stderr",
     "output_type": "stream",
     "text": [
      "\n",
      "  4%|██▉                                                                                | 1/28 [00:03<01:31,  3.38s/it]\u001b[A\n",
      "  7%|█████▉                                                                             | 2/28 [00:06<01:25,  3.31s/it]\u001b[A\n",
      " 11%|████████▉                                                                          | 3/28 [00:11<01:33,  3.74s/it]\u001b[A\n",
      " 14%|███████████▊                                                                       | 4/28 [00:14<01:25,  3.55s/it]\u001b[A\n",
      " 18%|██████████████▊                                                                    | 5/28 [00:17<01:20,  3.50s/it]\u001b[A\n",
      " 21%|█████████████████▊                                                                 | 6/28 [00:21<01:15,  3.42s/it]\u001b[A\n",
      " 25%|████████████████████▊                                                              | 7/28 [00:24<01:09,  3.32s/it]\u001b[A\n",
      " 29%|███████████████████████▋                                                           | 8/28 [00:28<01:15,  3.76s/it]\u001b[A\n",
      " 32%|██████████████████████████▋                                                        | 9/28 [00:32<01:08,  3.60s/it]\u001b[A\n",
      " 36%|█████████████████████████████▎                                                    | 10/28 [00:35<01:02,  3.47s/it]\u001b[A\n",
      " 39%|████████████████████████████████▏                                                 | 11/28 [00:38<00:57,  3.40s/it]\u001b[A\n",
      " 43%|███████████████████████████████████▏                                              | 12/28 [00:41<00:52,  3.30s/it]\u001b[A\n",
      " 46%|██████████████████████████████████████                                            | 13/28 [00:46<00:55,  3.69s/it]\u001b[A\n",
      " 50%|█████████████████████████████████████████                                         | 14/28 [00:49<00:50,  3.58s/it]\u001b[A\n",
      " 54%|███████████████████████████████████████████▉                                      | 15/28 [00:52<00:44,  3.45s/it]\u001b[A\n",
      " 57%|██████████████████████████████████████████████▊                                   | 16/28 [00:55<00:40,  3.40s/it]\u001b[A\n",
      " 61%|█████████████████████████████████████████████████▊                                | 17/28 [00:59<00:36,  3.33s/it]\u001b[A\n",
      " 64%|████████████████████████████████████████████████████▋                             | 18/28 [01:02<00:32,  3.28s/it]\u001b[A\n",
      " 68%|███████████████████████████████████████████████████████▋                          | 19/28 [01:07<00:33,  3.72s/it]\u001b[A\n",
      " 71%|██████████████████████████████████████████████████████████▌                       | 20/28 [01:10<00:28,  3.55s/it]\u001b[A\n",
      " 75%|█████████████████████████████████████████████████████████████▌                    | 21/28 [01:13<00:24,  3.47s/it]\u001b[A\n",
      " 79%|████████████████████████████████████████████████████████████████▍                 | 22/28 [01:16<00:20,  3.36s/it]\u001b[A\n",
      " 82%|███████████████████████████████████████████████████████████████████▎              | 23/28 [01:19<00:16,  3.33s/it]\u001b[A\n",
      " 86%|██████████████████████████████████████████████████████████████████████▎           | 24/28 [01:24<00:14,  3.74s/it]\u001b[A\n",
      " 89%|█████████████████████████████████████████████████████████████████████████▏        | 25/28 [01:27<00:10,  3.56s/it]\u001b[A\n",
      " 93%|████████████████████████████████████████████████████████████████████████████▏     | 26/28 [01:30<00:06,  3.48s/it]\u001b[A\n",
      " 96%|███████████████████████████████████████████████████████████████████████████████   | 27/28 [01:34<00:03,  3.41s/it]\u001b[A\n",
      "100%|██████████████████████████████████████████████████████████████████████████████████| 28/28 [01:36<00:00,  3.43s/it]\u001b[A\n",
      "\n",
      "  0%|                                                                                           | 0/28 [00:00<?, ?it/s]\u001b[A"
     ]
    },
    {
     "name": "stdout",
     "output_type": "stream",
     "text": [
      "Epoch: 6. Loss: 0.03620178624987602\n"
     ]
    },
    {
     "name": "stderr",
     "output_type": "stream",
     "text": [
      "\n",
      "  4%|██▉                                                                                | 1/28 [00:03<01:28,  3.28s/it]\u001b[A\n",
      "  7%|█████▉                                                                             | 2/28 [00:06<01:23,  3.23s/it]\u001b[A\n",
      " 11%|████████▉                                                                          | 3/28 [00:09<01:20,  3.22s/it]\u001b[A\n",
      " 14%|███████████▊                                                                       | 4/28 [00:14<01:27,  3.66s/it]\u001b[A\n",
      " 18%|██████████████▊                                                                    | 5/28 [00:18<01:29,  3.91s/it]\u001b[A\n",
      " 21%|█████████████████▊                                                                 | 6/28 [00:22<01:21,  3.73s/it]\u001b[A\n",
      " 25%|████████████████████▊                                                              | 7/28 [00:25<01:15,  3.60s/it]\u001b[A\n",
      " 29%|███████████████████████▋                                                           | 8/28 [00:28<01:09,  3.46s/it]\u001b[A\n",
      " 32%|██████████████████████████▋                                                        | 9/28 [00:33<01:13,  3.86s/it]\u001b[A\n",
      " 36%|█████████████████████████████▎                                                    | 10/28 [00:36<01:06,  3.68s/it]\u001b[A\n",
      " 39%|████████████████████████████████▏                                                 | 11/28 [00:39<00:59,  3.52s/it]\u001b[A\n",
      " 43%|███████████████████████████████████▏                                              | 12/28 [00:42<00:54,  3.43s/it]\u001b[A\n",
      " 46%|██████████████████████████████████████                                            | 13/28 [00:46<00:50,  3.35s/it]\u001b[A\n",
      " 50%|█████████████████████████████████████████                                         | 14/28 [00:50<00:52,  3.74s/it]\u001b[A\n",
      " 54%|███████████████████████████████████████████▉                                      | 15/28 [00:55<00:51,  3.97s/it]\u001b[A\n",
      " 57%|██████████████████████████████████████████████▊                                   | 16/28 [00:58<00:44,  3.70s/it]\u001b[A\n",
      " 61%|█████████████████████████████████████████████████▊                                | 17/28 [01:01<00:40,  3.65s/it]\u001b[A\n",
      " 64%|████████████████████████████████████████████████████▋                             | 18/28 [01:05<00:35,  3.59s/it]\u001b[A\n",
      " 68%|███████████████████████████████████████████████████████▋                          | 19/28 [01:08<00:31,  3.52s/it]\u001b[A\n",
      " 71%|██████████████████████████████████████████████████████████▌                       | 20/28 [01:11<00:27,  3.43s/it]\u001b[A\n",
      " 75%|█████████████████████████████████████████████████████████████▌                    | 21/28 [01:15<00:23,  3.36s/it]\u001b[A\n",
      " 79%|████████████████████████████████████████████████████████████████▍                 | 22/28 [01:19<00:22,  3.78s/it]\u001b[A\n",
      " 82%|███████████████████████████████████████████████████████████████████▎              | 23/28 [01:23<00:18,  3.62s/it]\u001b[A\n",
      " 86%|██████████████████████████████████████████████████████████████████████▎           | 24/28 [01:27<00:15,  3.95s/it]\u001b[A\n",
      " 89%|█████████████████████████████████████████████████████████████████████████▏        | 25/28 [01:32<00:12,  4.16s/it]\u001b[A\n",
      " 93%|████████████████████████████████████████████████████████████████████████████▏     | 26/28 [01:35<00:07,  3.87s/it]\u001b[A\n",
      " 96%|███████████████████████████████████████████████████████████████████████████████   | 27/28 [01:40<00:04,  4.10s/it]\u001b[A\n",
      "100%|██████████████████████████████████████████████████████████████████████████████████| 28/28 [01:42<00:00,  3.65s/it]\u001b[A\n",
      "\n",
      "  0%|                                                                                           | 0/28 [00:00<?, ?it/s]\u001b[A"
     ]
    },
    {
     "name": "stdout",
     "output_type": "stream",
     "text": [
      "Epoch: 7. Loss: 0.03443988040089607\n"
     ]
    },
    {
     "name": "stderr",
     "output_type": "stream",
     "text": [
      "\n",
      "  4%|██▉                                                                                | 1/28 [00:03<01:29,  3.32s/it]\u001b[A\n",
      "  7%|█████▉                                                                             | 2/28 [00:06<01:25,  3.28s/it]\u001b[A\n",
      " 11%|████████▉                                                                          | 3/28 [00:10<01:30,  3.64s/it]\u001b[A\n",
      " 14%|███████████▊                                                                       | 4/28 [00:15<01:34,  3.94s/it]\u001b[A\n",
      " 18%|██████████████▊                                                                    | 5/28 [00:18<01:25,  3.71s/it]\u001b[A\n",
      " 21%|█████████████████▊                                                                 | 6/28 [00:23<01:27,  3.97s/it]\u001b[A\n",
      " 25%|████████████████████▊                                                              | 7/28 [00:26<01:17,  3.69s/it]\u001b[A\n",
      " 29%|███████████████████████▋                                                           | 8/28 [00:29<01:11,  3.57s/it]\u001b[A\n",
      " 32%|██████████████████████████▋                                                        | 9/28 [00:32<01:05,  3.44s/it]\u001b[A\n",
      " 36%|█████████████████████████████▎                                                    | 10/28 [00:37<01:08,  3.80s/it]\u001b[A\n",
      " 39%|████████████████████████████████▏                                                 | 11/28 [00:42<01:08,  4.03s/it]\u001b[A\n",
      " 43%|███████████████████████████████████▏                                              | 12/28 [00:45<01:01,  3.81s/it]\u001b[A\n",
      " 46%|██████████████████████████████████████                                            | 13/28 [00:48<00:53,  3.59s/it]\u001b[A\n",
      " 50%|█████████████████████████████████████████                                         | 14/28 [00:51<00:49,  3.51s/it]\u001b[A\n",
      " 54%|███████████████████████████████████████████▉                                      | 15/28 [00:54<00:44,  3.40s/it]\u001b[A\n",
      " 57%|██████████████████████████████████████████████▊                                   | 16/28 [00:58<00:40,  3.33s/it]\u001b[A\n",
      " 61%|█████████████████████████████████████████████████▊                                | 17/28 [01:01<00:36,  3.28s/it]\u001b[A\n",
      " 64%|████████████████████████████████████████████████████▋                             | 18/28 [01:04<00:32,  3.23s/it]\u001b[A\n",
      " 68%|███████████████████████████████████████████████████████▋                          | 19/28 [01:09<00:33,  3.72s/it]\u001b[A\n",
      " 71%|██████████████████████████████████████████████████████████▌                       | 20/28 [01:12<00:28,  3.54s/it]\u001b[A\n",
      " 75%|█████████████████████████████████████████████████████████████▌                    | 21/28 [01:17<00:27,  3.90s/it]\u001b[A\n",
      " 79%|████████████████████████████████████████████████████████████████▍                 | 22/28 [01:20<00:21,  3.66s/it]\u001b[A\n",
      " 82%|███████████████████████████████████████████████████████████████████▎              | 23/28 [01:23<00:17,  3.42s/it]\u001b[A\n",
      " 86%|██████████████████████████████████████████████████████████████████████▎           | 24/28 [01:26<00:13,  3.30s/it]\u001b[A\n",
      " 89%|█████████████████████████████████████████████████████████████████████████▏        | 25/28 [01:30<00:10,  3.62s/it]\u001b[A\n",
      " 93%|████████████████████████████████████████████████████████████████████████████▏     | 26/28 [01:33<00:06,  3.39s/it]\u001b[A\n",
      " 96%|███████████████████████████████████████████████████████████████████████████████   | 27/28 [01:36<00:03,  3.28s/it]\u001b[A\n",
      "100%|██████████████████████████████████████████████████████████████████████████████████| 28/28 [01:38<00:00,  3.50s/it]\u001b[A\n",
      "\n",
      "  0%|                                                                                           | 0/28 [00:00<?, ?it/s]\u001b[A"
     ]
    },
    {
     "name": "stdout",
     "output_type": "stream",
     "text": [
      "Epoch: 8. Loss: 0.03288488835096359\n"
     ]
    },
    {
     "name": "stderr",
     "output_type": "stream",
     "text": [
      "\n",
      "  4%|██▉                                                                                | 1/28 [00:02<01:18,  2.90s/it]\u001b[A\n",
      "  7%|█████▉                                                                             | 2/28 [00:05<01:15,  2.89s/it]\u001b[A\n",
      " 11%|████████▉                                                                          | 3/28 [00:08<01:11,  2.88s/it]\u001b[A\n",
      " 14%|███████████▊                                                                       | 4/28 [00:11<01:09,  2.88s/it]\u001b[A\n",
      " 18%|██████████████▊                                                                    | 5/28 [00:15<01:15,  3.29s/it]\u001b[A\n",
      " 21%|█████████████████▊                                                                 | 6/28 [00:18<01:09,  3.14s/it]\u001b[A\n",
      " 25%|████████████████████▊                                                              | 7/28 [00:21<01:03,  3.05s/it]\u001b[A\n",
      " 29%|███████████████████████▋                                                           | 8/28 [00:24<01:00,  3.00s/it]\u001b[A\n",
      " 32%|██████████████████████████▋                                                        | 9/28 [00:27<00:55,  2.93s/it]\u001b[A\n",
      " 36%|█████████████████████████████▎                                                    | 10/28 [00:29<00:52,  2.91s/it]\u001b[A\n",
      " 39%|████████████████████████████████▏                                                 | 11/28 [00:32<00:49,  2.93s/it]\u001b[A\n",
      " 43%|███████████████████████████████████▏                                              | 12/28 [00:36<00:52,  3.28s/it]\u001b[A\n",
      " 46%|██████████████████████████████████████                                            | 13/28 [00:39<00:47,  3.15s/it]\u001b[A\n",
      " 50%|█████████████████████████████████████████                                         | 14/28 [00:42<00:43,  3.11s/it]\u001b[A\n",
      " 54%|███████████████████████████████████████████▉                                      | 15/28 [00:47<00:44,  3.45s/it]\u001b[A\n",
      " 57%|██████████████████████████████████████████████▊                                   | 16/28 [00:49<00:39,  3.29s/it]\u001b[A\n",
      " 61%|█████████████████████████████████████████████████▊                                | 17/28 [00:52<00:34,  3.17s/it]\u001b[A\n",
      " 64%|████████████████████████████████████████████████████▋                             | 18/28 [00:55<00:31,  3.11s/it]\u001b[A\n",
      " 68%|███████████████████████████████████████████████████████▋                          | 19/28 [00:58<00:27,  3.07s/it]\u001b[A\n",
      " 71%|██████████████████████████████████████████████████████████▌                       | 20/28 [01:01<00:23,  3.00s/it]\u001b[A\n",
      " 75%|█████████████████████████████████████████████████████████████▌                    | 21/28 [01:06<00:23,  3.40s/it]\u001b[A\n",
      " 79%|████████████████████████████████████████████████████████████████▍                 | 22/28 [01:08<00:19,  3.24s/it]\u001b[A\n",
      " 82%|███████████████████████████████████████████████████████████████████▎              | 23/28 [01:11<00:15,  3.18s/it]\u001b[A\n",
      " 86%|██████████████████████████████████████████████████████████████████████▎           | 24/28 [01:14<00:12,  3.09s/it]\u001b[A\n",
      " 89%|█████████████████████████████████████████████████████████████████████████▏        | 25/28 [01:19<00:10,  3.51s/it]\u001b[A\n",
      " 93%|████████████████████████████████████████████████████████████████████████████▏     | 26/28 [01:22<00:07,  3.51s/it]\u001b[A\n",
      " 96%|███████████████████████████████████████████████████████████████████████████████   | 27/28 [01:26<00:03,  3.45s/it]\u001b[A\n",
      "100%|██████████████████████████████████████████████████████████████████████████████████| 28/28 [01:28<00:00,  3.16s/it]\u001b[A\n",
      "\n",
      "  0%|                                                                                           | 0/28 [00:00<?, ?it/s]\u001b[A"
     ]
    },
    {
     "name": "stdout",
     "output_type": "stream",
     "text": [
      "Epoch: 9. Loss: 0.031439829617738724\n"
     ]
    },
    {
     "name": "stderr",
     "output_type": "stream",
     "text": [
      "\n",
      "  4%|██▉                                                                                | 1/28 [00:06<03:06,  6.89s/it]\u001b[A\n",
      "  7%|█████▉                                                                             | 2/28 [00:10<02:34,  5.95s/it]\u001b[A\n",
      " 11%|████████▉                                                                          | 3/28 [00:15<02:22,  5.70s/it]\u001b[A\n",
      " 14%|███████████▊                                                                       | 4/28 [00:20<02:12,  5.50s/it]\u001b[A\n",
      " 18%|██████████████▊                                                                    | 5/28 [00:23<01:50,  4.80s/it]\u001b[A\n",
      " 21%|█████████████████▊                                                                 | 6/28 [00:27<01:35,  4.35s/it]\u001b[A\n",
      " 25%|████████████████████▊                                                              | 7/28 [00:30<01:24,  4.01s/it]\u001b[A\n",
      " 29%|███████████████████████▋                                                           | 8/28 [00:33<01:15,  3.79s/it]\u001b[A\n",
      " 32%|██████████████████████████▋                                                        | 9/28 [00:36<01:08,  3.62s/it]\u001b[A\n",
      " 36%|█████████████████████████████▎                                                    | 10/28 [00:40<01:02,  3.49s/it]\u001b[A\n",
      " 39%|████████████████████████████████▏                                                 | 11/28 [00:44<01:05,  3.88s/it]\u001b[A\n",
      " 43%|███████████████████████████████████▏                                              | 12/28 [00:48<00:58,  3.66s/it]\u001b[A\n",
      " 46%|██████████████████████████████████████                                            | 13/28 [00:51<00:52,  3.51s/it]\u001b[A\n",
      " 50%|█████████████████████████████████████████                                         | 14/28 [00:54<00:48,  3.44s/it]\u001b[A\n",
      " 54%|███████████████████████████████████████████▉                                      | 15/28 [00:57<00:43,  3.36s/it]\u001b[A\n",
      " 57%|██████████████████████████████████████████████▊                                   | 16/28 [01:02<00:45,  3.75s/it]\u001b[A\n",
      " 61%|█████████████████████████████████████████████████▊                                | 17/28 [01:07<00:44,  4.01s/it]\u001b[A\n",
      " 64%|████████████████████████████████████████████████████▋                             | 18/28 [01:10<00:37,  3.77s/it]\u001b[A\n",
      " 68%|███████████████████████████████████████████████████████▋                          | 19/28 [01:14<00:36,  4.02s/it]\u001b[A\n",
      " 71%|██████████████████████████████████████████████████████████▌                       | 20/28 [01:17<00:29,  3.75s/it]\u001b[A\n",
      " 75%|█████████████████████████████████████████████████████████████▌                    | 21/28 [01:21<00:25,  3.67s/it]\u001b[A\n",
      " 79%|████████████████████████████████████████████████████████████████▍                 | 22/28 [01:24<00:21,  3.58s/it]\u001b[A\n",
      " 82%|███████████████████████████████████████████████████████████████████▎              | 23/28 [01:28<00:17,  3.48s/it]\u001b[A\n",
      " 86%|██████████████████████████████████████████████████████████████████████▎           | 24/28 [01:31<00:13,  3.46s/it]\u001b[A\n",
      " 89%|█████████████████████████████████████████████████████████████████████████▏        | 25/28 [01:34<00:10,  3.43s/it]\u001b[A\n",
      " 93%|████████████████████████████████████████████████████████████████████████████▏     | 26/28 [01:38<00:06,  3.36s/it]\u001b[A\n",
      " 96%|███████████████████████████████████████████████████████████████████████████████   | 27/28 [01:41<00:03,  3.31s/it]\u001b[A\n",
      "100%|██████████████████████████████████████████████████████████████████████████████████| 28/28 [01:43<00:00,  3.69s/it]\u001b[A\n",
      "\n",
      "  0%|                                                                                           | 0/28 [00:00<?, ?it/s]\u001b[A"
     ]
    },
    {
     "name": "stdout",
     "output_type": "stream",
     "text": [
      "Epoch: 10. Loss: 0.03018798492848873\n"
     ]
    },
    {
     "name": "stderr",
     "output_type": "stream",
     "text": [
      "\n",
      "  4%|██▉                                                                                | 1/28 [00:03<01:25,  3.16s/it]\u001b[A\n",
      "  7%|█████▉                                                                             | 2/28 [00:06<01:22,  3.18s/it]\u001b[A\n",
      " 11%|████████▉                                                                          | 3/28 [00:11<01:30,  3.63s/it]\u001b[A\n",
      " 14%|███████████▊                                                                       | 4/28 [00:15<01:33,  3.89s/it]\u001b[A\n",
      " 18%|██████████████▊                                                                    | 5/28 [00:18<01:23,  3.64s/it]\u001b[A\n",
      " 21%|█████████████████▊                                                                 | 6/28 [00:21<01:17,  3.54s/it]\u001b[A\n",
      " 25%|████████████████████▊                                                              | 7/28 [00:25<01:12,  3.43s/it]\u001b[A\n",
      " 29%|███████████████████████▋                                                           | 8/28 [00:29<01:16,  3.85s/it]\u001b[A\n",
      " 32%|██████████████████████████▋                                                        | 9/28 [00:34<01:18,  4.15s/it]\u001b[A\n",
      " 36%|█████████████████████████████▎                                                    | 10/28 [00:37<01:09,  3.85s/it]\u001b[A\n",
      " 39%|████████████████████████████████▏                                                 | 11/28 [00:41<01:02,  3.65s/it]\u001b[A\n",
      " 43%|███████████████████████████████████▏                                              | 12/28 [00:44<00:56,  3.53s/it]\u001b[A\n",
      " 46%|██████████████████████████████████████                                            | 13/28 [00:47<00:51,  3.40s/it]\u001b[A\n",
      " 50%|█████████████████████████████████████████                                         | 14/28 [00:50<00:47,  3.38s/it]\u001b[A\n",
      " 54%|███████████████████████████████████████████▉                                      | 15/28 [00:55<00:48,  3.75s/it]\u001b[A\n",
      " 57%|██████████████████████████████████████████████▊                                   | 16/28 [00:58<00:42,  3.53s/it]\u001b[A\n",
      " 61%|█████████████████████████████████████████████████▊                                | 17/28 [01:01<00:38,  3.48s/it]\u001b[A\n",
      " 64%|████████████████████████████████████████████████████▋                             | 18/28 [01:06<00:37,  3.79s/it]\u001b[A\n",
      " 68%|███████████████████████████████████████████████████████▋                          | 19/28 [01:10<00:35,  3.90s/it]\u001b[A\n",
      " 71%|██████████████████████████████████████████████████████████▌                       | 20/28 [01:14<00:30,  3.84s/it]\u001b[A\n",
      " 75%|█████████████████████████████████████████████████████████████▌                    | 21/28 [01:17<00:25,  3.57s/it]\u001b[A\n",
      " 79%|████████████████████████████████████████████████████████████████▍                 | 22/28 [01:20<00:20,  3.45s/it]\u001b[A\n",
      " 82%|███████████████████████████████████████████████████████████████████▎              | 23/28 [01:24<00:18,  3.72s/it]\u001b[A\n",
      " 86%|██████████████████████████████████████████████████████████████████████▎           | 24/28 [01:27<00:14,  3.56s/it]\u001b[A\n",
      " 89%|█████████████████████████████████████████████████████████████████████████▏        | 25/28 [01:31<00:10,  3.47s/it]\u001b[A\n",
      " 93%|████████████████████████████████████████████████████████████████████████████▏     | 26/28 [01:34<00:06,  3.40s/it]\u001b[A\n",
      " 96%|███████████████████████████████████████████████████████████████████████████████   | 27/28 [01:37<00:03,  3.31s/it]\u001b[A\n",
      "100%|██████████████████████████████████████████████████████████████████████████████████| 28/28 [01:39<00:00,  3.55s/it]\u001b[A\n",
      "\n",
      "  0%|                                                                                           | 0/28 [00:00<?, ?it/s]\u001b[A"
     ]
    },
    {
     "name": "stdout",
     "output_type": "stream",
     "text": [
      "Epoch: 11. Loss: 0.02876700833439827\n"
     ]
    },
    {
     "name": "stderr",
     "output_type": "stream",
     "text": [
      "\n",
      "  4%|██▉                                                                                | 1/28 [00:03<01:26,  3.22s/it]\u001b[A\n",
      "  7%|█████▉                                                                             | 2/28 [00:06<01:24,  3.25s/it]\u001b[A\n",
      " 11%|████████▉                                                                          | 3/28 [00:11<01:32,  3.70s/it]\u001b[A\n",
      " 14%|███████████▊                                                                       | 4/28 [00:15<01:35,  3.99s/it]\u001b[A\n",
      " 18%|██████████████▊                                                                    | 5/28 [00:19<01:26,  3.76s/it]\u001b[A\n",
      " 21%|█████████████████▊                                                                 | 6/28 [00:22<01:20,  3.64s/it]\u001b[A\n",
      " 25%|████████████████████▊                                                              | 7/28 [00:25<01:13,  3.52s/it]\u001b[A\n",
      " 29%|███████████████████████▋                                                           | 8/28 [00:29<01:08,  3.45s/it]\u001b[A\n",
      " 32%|██████████████████████████▋                                                        | 9/28 [00:32<01:04,  3.38s/it]\u001b[A\n",
      " 36%|█████████████████████████████▎                                                    | 10/28 [00:36<01:08,  3.78s/it]\u001b[A\n",
      " 39%|████████████████████████████████▏                                                 | 11/28 [00:40<01:01,  3.62s/it]\u001b[A\n",
      " 43%|███████████████████████████████████▏                                              | 12/28 [00:45<01:03,  3.97s/it]\u001b[A\n",
      " 46%|██████████████████████████████████████                                            | 13/28 [00:48<00:56,  3.74s/it]\u001b[A\n",
      " 50%|█████████████████████████████████████████                                         | 14/28 [00:51<00:50,  3.62s/it]\u001b[A\n",
      " 54%|███████████████████████████████████████████▉                                      | 15/28 [00:56<00:52,  4.01s/it]\u001b[A\n",
      " 57%|██████████████████████████████████████████████▊                                   | 16/28 [00:59<00:45,  3.76s/it]\u001b[A\n",
      " 61%|█████████████████████████████████████████████████▊                                | 17/28 [01:04<00:44,  4.01s/it]\u001b[A\n",
      " 64%|████████████████████████████████████████████████████▋                             | 18/28 [01:07<00:37,  3.73s/it]\u001b[A\n",
      " 68%|███████████████████████████████████████████████████████▋                          | 19/28 [01:11<00:35,  3.99s/it]\u001b[A\n",
      " 71%|██████████████████████████████████████████████████████████▌                       | 20/28 [01:15<00:29,  3.74s/it]\u001b[A\n",
      " 75%|█████████████████████████████████████████████████████████████▌                    | 21/28 [01:18<00:24,  3.56s/it]\u001b[A\n",
      " 79%|████████████████████████████████████████████████████████████████▍                 | 22/28 [01:21<00:20,  3.46s/it]\u001b[A\n",
      " 82%|███████████████████████████████████████████████████████████████████▎              | 23/28 [01:25<00:18,  3.76s/it]\u001b[A\n",
      " 86%|██████████████████████████████████████████████████████████████████████▎           | 24/28 [01:29<00:14,  3.63s/it]\u001b[A\n",
      " 89%|█████████████████████████████████████████████████████████████████████████▏        | 25/28 [01:32<00:10,  3.52s/it]\u001b[A\n",
      " 93%|████████████████████████████████████████████████████████████████████████████▏     | 26/28 [01:35<00:06,  3.40s/it]\u001b[A\n",
      " 96%|███████████████████████████████████████████████████████████████████████████████   | 27/28 [01:38<00:03,  3.38s/it]\u001b[A\n",
      "100%|██████████████████████████████████████████████████████████████████████████████████| 28/28 [01:40<00:00,  3.60s/it]\u001b[A\n",
      "\n",
      "  0%|                                                                                           | 0/28 [00:00<?, ?it/s]\u001b[A"
     ]
    },
    {
     "name": "stdout",
     "output_type": "stream",
     "text": [
      "Epoch: 12. Loss: 0.02744564600288868\n"
     ]
    },
    {
     "name": "stderr",
     "output_type": "stream",
     "text": [
      "\n",
      "  4%|██▉                                                                                | 1/28 [00:04<02:06,  4.67s/it]\u001b[A\n",
      "  7%|█████▉                                                                             | 2/28 [00:07<01:50,  4.24s/it]\u001b[A\n",
      " 11%|████████▉                                                                          | 3/28 [00:16<02:16,  5.45s/it]\u001b[A\n"
     ]
    },
    {
     "ename": "KeyboardInterrupt",
     "evalue": "",
     "output_type": "error",
     "traceback": [
      "\u001b[1;31m---------------------------------------------------------------------------\u001b[0m",
      "\u001b[1;31mKeyboardInterrupt\u001b[0m                         Traceback (most recent call last)",
      "\u001b[1;32m<ipython-input-561-7f255f9e0c91>\u001b[0m in \u001b[0;36m<module>\u001b[1;34m\u001b[0m\n\u001b[0;32m      9\u001b[0m \u001b[1;33m\u001b[0m\u001b[0m\n\u001b[0;32m     10\u001b[0m         \u001b[0mloss\u001b[0m \u001b[1;33m=\u001b[0m \u001b[0mcriterion\u001b[0m\u001b[1;33m(\u001b[0m\u001b[0moutputs\u001b[0m\u001b[1;33m,\u001b[0m \u001b[0mbatch_Y\u001b[0m\u001b[1;33m)\u001b[0m\u001b[1;33m\u001b[0m\u001b[1;33m\u001b[0m\u001b[0m\n\u001b[1;32m---> 11\u001b[1;33m         \u001b[0mloss\u001b[0m\u001b[1;33m.\u001b[0m\u001b[0mbackward\u001b[0m\u001b[1;33m(\u001b[0m\u001b[1;33m)\u001b[0m\u001b[1;33m\u001b[0m\u001b[1;33m\u001b[0m\u001b[0m\n\u001b[0m\u001b[0;32m     12\u001b[0m         \u001b[0moptimizer\u001b[0m\u001b[1;33m.\u001b[0m\u001b[0mstep\u001b[0m\u001b[1;33m(\u001b[0m\u001b[1;33m)\u001b[0m    \u001b[1;31m# Does the update\u001b[0m\u001b[1;33m\u001b[0m\u001b[1;33m\u001b[0m\u001b[0m\n\u001b[0;32m     13\u001b[0m \u001b[1;33m\u001b[0m\u001b[0m\n",
      "\u001b[1;32mc:\\users\\parikalp\\appdata\\local\\programs\\python\\lib\\site-packages\\torch\\tensor.py\u001b[0m in \u001b[0;36mbackward\u001b[1;34m(self, gradient, retain_graph, create_graph)\u001b[0m\n\u001b[0;32m    116\u001b[0m                 \u001b[0mproducts\u001b[0m\u001b[1;33m.\u001b[0m \u001b[0mDefaults\u001b[0m \u001b[0mto\u001b[0m\u001b[0;31m \u001b[0m\u001b[0;31m`\u001b[0m\u001b[0;31m`\u001b[0m\u001b[1;32mFalse\u001b[0m\u001b[0;31m`\u001b[0m\u001b[0;31m`\u001b[0m\u001b[1;33m.\u001b[0m\u001b[1;33m\u001b[0m\u001b[1;33m\u001b[0m\u001b[0m\n\u001b[0;32m    117\u001b[0m         \"\"\"\n\u001b[1;32m--> 118\u001b[1;33m         \u001b[0mtorch\u001b[0m\u001b[1;33m.\u001b[0m\u001b[0mautograd\u001b[0m\u001b[1;33m.\u001b[0m\u001b[0mbackward\u001b[0m\u001b[1;33m(\u001b[0m\u001b[0mself\u001b[0m\u001b[1;33m,\u001b[0m \u001b[0mgradient\u001b[0m\u001b[1;33m,\u001b[0m \u001b[0mretain_graph\u001b[0m\u001b[1;33m,\u001b[0m \u001b[0mcreate_graph\u001b[0m\u001b[1;33m)\u001b[0m\u001b[1;33m\u001b[0m\u001b[1;33m\u001b[0m\u001b[0m\n\u001b[0m\u001b[0;32m    119\u001b[0m \u001b[1;33m\u001b[0m\u001b[0m\n\u001b[0;32m    120\u001b[0m     \u001b[1;32mdef\u001b[0m \u001b[0mregister_hook\u001b[0m\u001b[1;33m(\u001b[0m\u001b[0mself\u001b[0m\u001b[1;33m,\u001b[0m \u001b[0mhook\u001b[0m\u001b[1;33m)\u001b[0m\u001b[1;33m:\u001b[0m\u001b[1;33m\u001b[0m\u001b[1;33m\u001b[0m\u001b[0m\n",
      "\u001b[1;32mc:\\users\\parikalp\\appdata\\local\\programs\\python\\lib\\site-packages\\torch\\autograd\\__init__.py\u001b[0m in \u001b[0;36mbackward\u001b[1;34m(tensors, grad_tensors, retain_graph, create_graph, grad_variables)\u001b[0m\n\u001b[0;32m     91\u001b[0m     Variable._execution_engine.run_backward(\n\u001b[0;32m     92\u001b[0m         \u001b[0mtensors\u001b[0m\u001b[1;33m,\u001b[0m \u001b[0mgrad_tensors\u001b[0m\u001b[1;33m,\u001b[0m \u001b[0mretain_graph\u001b[0m\u001b[1;33m,\u001b[0m \u001b[0mcreate_graph\u001b[0m\u001b[1;33m,\u001b[0m\u001b[1;33m\u001b[0m\u001b[1;33m\u001b[0m\u001b[0m\n\u001b[1;32m---> 93\u001b[1;33m         allow_unreachable=True)  # allow_unreachable flag\n\u001b[0m\u001b[0;32m     94\u001b[0m \u001b[1;33m\u001b[0m\u001b[0m\n\u001b[0;32m     95\u001b[0m \u001b[1;33m\u001b[0m\u001b[0m\n",
      "\u001b[1;31mKeyboardInterrupt\u001b[0m: "
     ]
    }
   ],
   "source": [
    "for epoch in range(EPOCHS):\n",
    "    for i in tqdm(range(0, len(train_X), BATCH_SIZE)):\n",
    "        batch_X=train_X[i:i+BATCH_SIZE].view(-1, 1, 70, 70)\n",
    "        batch_Y=train_y[i:i+BATCH_SIZE]\n",
    "        \n",
    "        model.zero_grad()\n",
    "        \n",
    "        outputs=model(batch_X)\n",
    "    \n",
    "        loss = criterion(outputs, batch_Y)\n",
    "        loss.backward()\n",
    "        optimizer.step()    # Does the update\n",
    "\n",
    "    print(f\"Epoch: {epoch}. Loss: {loss.data}\")"
   ]
  },
  {
   "cell_type": "code",
   "execution_count": null,
   "metadata": {},
   "outputs": [],
   "source": []
  },
  {
   "cell_type": "code",
   "execution_count": 8,
   "metadata": {},
   "outputs": [],
   "source": [
    "data=\"./Natural Images/data/natural_images/\""
   ]
  },
  {
   "cell_type": "code",
   "execution_count": 9,
   "metadata": {},
   "outputs": [],
   "source": [
    "data_transform=transforms.Compose([transforms.Resize((32,32)),transforms.ToTensor(),\n",
    "                                  transforms.Normalize((0.5,0.5,0.5),(0.5,0.5,0.5))])"
   ]
  },
  {
   "cell_type": "code",
   "execution_count": 16,
   "metadata": {},
   "outputs": [],
   "source": [
    "from torchvision.datasets import ImageFolder\n",
    "import glob"
   ]
  },
  {
   "cell_type": "code",
   "execution_count": 11,
   "metadata": {},
   "outputs": [],
   "source": [
    "img_dataset=ImageFolder(root=data,transform=data_transform)"
   ]
  },
  {
   "cell_type": "code",
   "execution_count": 14,
   "metadata": {},
   "outputs": [
    {
     "data": {
      "text/plain": [
       "['airplane', 'car', 'cat', 'dog', 'flower', 'fruit', 'motorbike', 'person']"
      ]
     },
     "execution_count": 14,
     "metadata": {},
     "output_type": "execute_result"
    }
   ],
   "source": [
    "os.listdir(data)"
   ]
  },
  {
   "cell_type": "code",
   "execution_count": 18,
   "metadata": {},
   "outputs": [],
   "source": [
    "airplane=glob.glob(data+\"airplane/*.jpg\")\n",
    "car=glob.glob(data+\"car/*.jpg\")\n",
    "cat=glob.glob(data+\"cat/*.jpg\")\n",
    "dog=glob.glob(data+\"dog/*.jpg\")\n",
    "flower=glob.glob(data+\"flower/*.jpg\")\n",
    "fruit=glob.glob(data+\"fruit/*.jpg\")\n",
    "motorbike=glob.glob(data+\"motobike/*.jpg\")\n",
    "person=glob.glob(data+\"person/*.jpg\")"
   ]
  },
  {
   "cell_type": "code",
   "execution_count": 20,
   "metadata": {},
   "outputs": [],
   "source": [
    "face=airplane+car+cat+dog+flower+fruit+motorbike+person"
   ]
  },
  {
   "cell_type": "code",
   "execution_count": 21,
   "metadata": {},
   "outputs": [
    {
     "data": {
      "text/plain": [
       "6111"
      ]
     },
     "execution_count": 21,
     "metadata": {},
     "output_type": "execute_result"
    }
   ],
   "source": [
    "len(face)"
   ]
  },
  {
   "cell_type": "code",
   "execution_count": null,
   "metadata": {},
   "outputs": [],
   "source": []
  }
 ],
 "metadata": {
  "kernelspec": {
   "display_name": "Python 3",
   "language": "python",
   "name": "python3"
  },
  "language_info": {
   "codemirror_mode": {
    "name": "ipython",
    "version": 3
   },
   "file_extension": ".py",
   "mimetype": "text/x-python",
   "name": "python",
   "nbconvert_exporter": "python",
   "pygments_lexer": "ipython3",
   "version": "3.7.4"
  }
 },
 "nbformat": 4,
 "nbformat_minor": 2
}
