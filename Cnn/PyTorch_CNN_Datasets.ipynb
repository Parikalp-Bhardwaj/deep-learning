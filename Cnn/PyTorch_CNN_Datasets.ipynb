{
 "cells": [
  {
   "cell_type": "code",
   "execution_count": 17,
   "metadata": {},
   "outputs": [],
   "source": [
    "import torch\n",
    "import numpy as np\n",
    "import torch.nn as nn\n",
    "from torchvision import transforms\n",
    "import torchvision\n",
    "import torch.nn.functional as F\n",
    "import torch.optim as optim"
   ]
  },
  {
   "cell_type": "code",
   "execution_count": 3,
   "metadata": {},
   "outputs": [],
   "source": [
    "transform=transforms.Compose([transforms.ToTensor(),transforms.Normalize((0.5,0.5,0.5),(0.5,0.5,0.5))])\n",
    "bs=8"
   ]
  },
  {
   "cell_type": "code",
   "execution_count": 4,
   "metadata": {},
   "outputs": [
    {
     "name": "stdout",
     "output_type": "stream",
     "text": [
      "Files already downloaded and verified\n"
     ]
    }
   ],
   "source": [
    "train=torchvision.datasets.CIFAR10(root=\"./Pytorch_Datasets\",train=True,download=True,transform=transform)\n",
    "train_loader=torch.utils.data.DataLoader(train,batch_size=bs,shuffle=True,num_workers=2)\n",
    "test=torchvision.datasets.CIFAR10(root=\"./Pytorch_Datasets\",train=False,download=False,transform=transform)\n",
    "testloader = torch.utils.data.DataLoader(train, batch_size = bs, shuffle = False, num_workers = 2)\n",
    "\n",
    "classes = ('plane', 'car', 'bird', 'cat',\n",
    "           'deer', 'dog', 'frog', 'horse', 'ship', 'truck')"
   ]
  },
  {
   "cell_type": "code",
   "execution_count": 10,
   "metadata": {},
   "outputs": [
    {
     "data": {
      "text/plain": [
       "Conv2d(2, 6, kernel_size=(5, 5), stride=(2, 2), padding=(2, 2))"
      ]
     },
     "execution_count": 10,
     "metadata": {},
     "output_type": "execute_result"
    }
   ],
   "source": [
    "m=nn.Conv2d(in_channels=2,out_channels=6,kernel_size=5,stride=2,padding=2)\n",
    "# input = torch.ones(1,3, 5,5)\n",
    "# output = m(input)\n",
    "m"
   ]
  },
  {
   "cell_type": "code",
   "execution_count": 8,
   "metadata": {},
   "outputs": [],
   "source": [
    "m = nn.Conv2d(3,4, 2, stride=2)\n",
    "# non-square kernels and unequal stride and with padding\n",
    "#m = nn.Conv2d(16, 33, (3, 5), stride=(2, 1), padding=(4, 2))\n",
    "# non-square kernels and unequal stride and with padding and dilation\n",
    "#m = nn.Conv2d(16, 33, (3, 5), stride=(2, 1), padding=(4, 2), dilation=(3, 1))\n",
    "input = torch.ones(1,3, 5,5)\n",
    "output = m(input)\n"
   ]
  },
  {
   "cell_type": "code",
   "execution_count": 9,
   "metadata": {},
   "outputs": [
    {
     "data": {
      "text/plain": [
       "tensor([[[[-0.1243, -0.1243],\n",
       "          [-0.1243, -0.1243]],\n",
       "\n",
       "         [[-0.3509, -0.3509],\n",
       "          [-0.3509, -0.3509]],\n",
       "\n",
       "         [[ 1.0723,  1.0723],\n",
       "          [ 1.0723,  1.0723]],\n",
       "\n",
       "         [[ 0.5944,  0.5944],\n",
       "          [ 0.5944,  0.5944]]]], grad_fn=<ThnnConv2DBackward>)"
      ]
     },
     "execution_count": 9,
     "metadata": {},
     "output_type": "execute_result"
    }
   ],
   "source": [
    "output"
   ]
  },
  {
   "cell_type": "code",
   "execution_count": 14,
   "metadata": {},
   "outputs": [
    {
     "data": {
      "text/plain": [
       "(<torch.utils.data.dataloader.DataLoader at 0x26f7804ac48>,\n",
       " <torch.utils.data.dataloader.DataLoader at 0x26f774a4f08>,\n",
       " <torchvision.datasets.cifar.CIFAR10 at 0x26f78071608>,\n",
       " <torchvision.datasets.cifar.CIFAR10 at 0x26f78071ac8>)"
      ]
     },
     "execution_count": 14,
     "metadata": {},
     "output_type": "execute_result"
    }
   ],
   "source": [
    "train_loader,testloader,train,test"
   ]
  },
  {
   "cell_type": "code",
   "execution_count": 38,
   "metadata": {},
   "outputs": [],
   "source": [
    "class Net(nn.Module):\n",
    "    def __init__(self):\n",
    "        super(Net,self).__init__()\n",
    "        self.conv1=nn.Conv2d(in_channels=3,out_channels=6,kernel_size=5)\n",
    "        self.max1=nn.MaxPool2d(2,2)\n",
    "        self.relu1=nn.ReLU()\n",
    "        self.conv2=nn.Conv2d(in_channels=6,out_channels=16,kernel_size=5)\n",
    "        self.max2=nn.MaxPool2d(2,2)\n",
    "        self.relu2=nn.ReLU()\n",
    "        self.fc1 = nn.Linear(16*5*5, 120)\n",
    "        self.fc2 = nn.Linear(120, 84)\n",
    "        self.fc3 = nn.Linear(84,10) \n",
    "        \n",
    "    def forward(self,x):\n",
    "        out=self.conv1(x)\n",
    "        out=self.max1(out)\n",
    "        out=self.relu1(out)\n",
    "        out=self.conv2(out)\n",
    "        out=self.max2(out)\n",
    "        out=self.relu2(out)\n",
    "        \n",
    "        out=out.view(-1, 16 *5*5)\n",
    "        out=self.fc1(out)\n",
    "        out=self.fc2(out)\n",
    "        out=self.fc3(out)\n",
    "        return out\n",
    "    \n",
    "net=Net()"
   ]
  },
  {
   "cell_type": "code",
   "execution_count": 25,
   "metadata": {},
   "outputs": [
    {
     "name": "stdout",
     "output_type": "stream",
     "text": [
      "Net(\n",
      "  (conv1): Conv2d(3, 6, kernel_size=(5, 5), stride=(1, 1))\n",
      "  (pool): MaxPool2d(kernel_size=2, stride=2, padding=0, dilation=1, ceil_mode=False)\n",
      "  (conv2): Conv2d(6, 16, kernel_size=(5, 5), stride=(1, 1))\n",
      "  (fc1): Linear(in_features=400, out_features=120, bias=True)\n",
      "  (fc2): Linear(in_features=120, out_features=84, bias=True)\n",
      "  (fc3): Linear(in_features=84, out_features=10, bias=True)\n",
      ")\n"
     ]
    }
   ],
   "source": [
    "class Net(nn.Module):\n",
    "    def __init__(self):\n",
    "        super(Net, self).__init__()\\\n",
    "        #The init section of the class creates the layers needed for the NN\n",
    "        self.conv1 = nn.Conv2d(3,6,5) #in channels, out channels, kernel size\n",
    "        self.pool = nn.MaxPool2d(2,2)\n",
    "        self.conv2 = nn.Conv2d(6,16,5)\n",
    "        self.fc1 = nn.Linear(16*5*5, 120)\n",
    "        self.fc2 = nn.Linear(120, 84)\n",
    "        self.fc3 = nn.Linear(84,10) #Final layer here is linear prediction of each categories. Typically we'd use a softmax instead\n",
    "        \n",
    "    def forward(self, x):\n",
    "        #Create the foreward method to step through each of the layers created above\n",
    "        #Note that the output of each layer is the input to the next layer\n",
    "        x = self.pool(F.relu(self.conv1(x)))\n",
    "        x = self.pool(F.relu(self.conv2(x)))\n",
    "        x = x.view(-1, 16 *5*5)\n",
    "        x = F.relu(self.fc1(x))\n",
    "        x = F.relu(self.fc2(x))\n",
    "        x = self.fc3(x)\n",
    "        return x\n",
    "    \n",
    "net = Net()\n",
    "print(net)"
   ]
  },
  {
   "cell_type": "code",
   "execution_count": 39,
   "metadata": {},
   "outputs": [],
   "source": [
    "crit = nn.CrossEntropyLoss()\n",
    "opt = optim.SGD(net.parameters(), lr= 0.0001, momentum = 0.9)"
   ]
  },
  {
   "cell_type": "code",
   "execution_count": 40,
   "metadata": {},
   "outputs": [
    {
     "name": "stdout",
     "output_type": "stream",
     "text": [
      "[1,  2000] loss: 2.303\n",
      "[1,  4000] loss: 2.296\n",
      "[1,  6000] loss: 2.273\n",
      "[2,  2000] loss: 2.190\n",
      "[2,  4000] loss: 2.031\n",
      "[2,  6000] loss: 1.918\n",
      "[3,  2000] loss: 1.831\n",
      "[3,  4000] loss: 1.773\n",
      "[3,  6000] loss: 1.717\n",
      "[4,  2000] loss: 1.674\n",
      "[4,  4000] loss: 1.649\n",
      "[4,  6000] loss: 1.618\n",
      "Finished Training\n"
     ]
    }
   ],
   "source": [
    "for epoch in range(4):\n",
    "    running_loss=0.0\n",
    "    for i,data in enumerate(train_loader,0):\n",
    "        image,label=data\n",
    "         #zero out the parameter gradients\n",
    "        opt.zero_grad()\n",
    "        #Automatically perform forward step\n",
    "        output=net(image)\n",
    "         #Calculate Loss Function\n",
    "        loss=crit(output,label)\n",
    "        #TAke the derivative of the loss function\n",
    "        loss.backward()\n",
    "         #opt.step takes the new gradients calculated in .backward multiplies by learning rate, then updates net parameters\n",
    "        opt.step()\n",
    "        running_loss += loss.item()\n",
    "        \n",
    "        if i % 2000 == 1999:\n",
    "            print('[%d, %5d] loss: %.3f' % (epoch +1, i+1, running_loss/2000))\n",
    "            running_loss = 0.0\n",
    "print('Finished Training')"
   ]
  },
  {
   "cell_type": "code",
   "execution_count": null,
   "metadata": {},
   "outputs": [],
   "source": []
  }
 ],
 "metadata": {
  "kernelspec": {
   "display_name": "Python 3",
   "language": "python",
   "name": "python3"
  },
  "language_info": {
   "codemirror_mode": {
    "name": "ipython",
    "version": 3
   },
   "file_extension": ".py",
   "mimetype": "text/x-python",
   "name": "python",
   "nbconvert_exporter": "python",
   "pygments_lexer": "ipython3",
   "version": "3.7.4"
  }
 },
 "nbformat": 4,
 "nbformat_minor": 2
}
