{
 "cells": [
  {
   "cell_type": "code",
   "execution_count": 217,
   "metadata": {},
   "outputs": [],
   "source": [
    "import pandas as pd\n",
    "import numpy as np\n",
    "import os\n",
    "import torch\n",
    "import torch.nn as nn\n",
    "import torch\n",
    "from sklearn.preprocessing import MinMaxScaler,StandardScaler\n",
    "import torch.nn.functional as F"
   ]
  },
  {
   "cell_type": "code",
   "execution_count": 218,
   "metadata": {},
   "outputs": [],
   "source": [
    "from sklearn.model_selection import train_test_split\n",
    "from torch.autograd import Variable"
   ]
  },
  {
   "cell_type": "code",
   "execution_count": 221,
   "metadata": {},
   "outputs": [
    {
     "data": {
      "text/html": [
       "<div>\n",
       "<style scoped>\n",
       "    .dataframe tbody tr th:only-of-type {\n",
       "        vertical-align: middle;\n",
       "    }\n",
       "\n",
       "    .dataframe tbody tr th {\n",
       "        vertical-align: top;\n",
       "    }\n",
       "\n",
       "    .dataframe thead th {\n",
       "        text-align: right;\n",
       "    }\n",
       "</style>\n",
       "<table border=\"1\" class=\"dataframe\">\n",
       "  <thead>\n",
       "    <tr style=\"text-align: right;\">\n",
       "      <th></th>\n",
       "      <th>Pregnancies</th>\n",
       "      <th>Glucose</th>\n",
       "      <th>BloodPressure</th>\n",
       "      <th>SkinThickness</th>\n",
       "      <th>Insulin</th>\n",
       "      <th>BMI</th>\n",
       "      <th>DiabetesPedigreeFunction</th>\n",
       "      <th>Age</th>\n",
       "      <th>Outcome</th>\n",
       "    </tr>\n",
       "  </thead>\n",
       "  <tbody>\n",
       "    <tr>\n",
       "      <th>0</th>\n",
       "      <td>6</td>\n",
       "      <td>148</td>\n",
       "      <td>72</td>\n",
       "      <td>35</td>\n",
       "      <td>0</td>\n",
       "      <td>33.6</td>\n",
       "      <td>0.627</td>\n",
       "      <td>50</td>\n",
       "      <td>1</td>\n",
       "    </tr>\n",
       "    <tr>\n",
       "      <th>1</th>\n",
       "      <td>1</td>\n",
       "      <td>85</td>\n",
       "      <td>66</td>\n",
       "      <td>29</td>\n",
       "      <td>0</td>\n",
       "      <td>26.6</td>\n",
       "      <td>0.351</td>\n",
       "      <td>31</td>\n",
       "      <td>0</td>\n",
       "    </tr>\n",
       "    <tr>\n",
       "      <th>2</th>\n",
       "      <td>8</td>\n",
       "      <td>183</td>\n",
       "      <td>64</td>\n",
       "      <td>0</td>\n",
       "      <td>0</td>\n",
       "      <td>23.3</td>\n",
       "      <td>0.672</td>\n",
       "      <td>32</td>\n",
       "      <td>1</td>\n",
       "    </tr>\n",
       "    <tr>\n",
       "      <th>3</th>\n",
       "      <td>1</td>\n",
       "      <td>89</td>\n",
       "      <td>66</td>\n",
       "      <td>23</td>\n",
       "      <td>94</td>\n",
       "      <td>28.1</td>\n",
       "      <td>0.167</td>\n",
       "      <td>21</td>\n",
       "      <td>0</td>\n",
       "    </tr>\n",
       "    <tr>\n",
       "      <th>4</th>\n",
       "      <td>0</td>\n",
       "      <td>137</td>\n",
       "      <td>40</td>\n",
       "      <td>35</td>\n",
       "      <td>168</td>\n",
       "      <td>43.1</td>\n",
       "      <td>2.288</td>\n",
       "      <td>33</td>\n",
       "      <td>1</td>\n",
       "    </tr>\n",
       "  </tbody>\n",
       "</table>\n",
       "</div>"
      ],
      "text/plain": [
       "   Pregnancies  Glucose  BloodPressure  SkinThickness  Insulin   BMI  \\\n",
       "0            6      148             72             35        0  33.6   \n",
       "1            1       85             66             29        0  26.6   \n",
       "2            8      183             64              0        0  23.3   \n",
       "3            1       89             66             23       94  28.1   \n",
       "4            0      137             40             35      168  43.1   \n",
       "\n",
       "   DiabetesPedigreeFunction  Age  Outcome  \n",
       "0                     0.627   50        1  \n",
       "1                     0.351   31        0  \n",
       "2                     0.672   32        1  \n",
       "3                     0.167   21        0  \n",
       "4                     2.288   33        1  "
      ]
     },
     "execution_count": 221,
     "metadata": {},
     "output_type": "execute_result"
    }
   ],
   "source": [
    "data=pd.read_csv(\"diabetes.csv\")\n",
    "data.head()"
   ]
  },
  {
   "cell_type": "code",
   "execution_count": 222,
   "metadata": {},
   "outputs": [
    {
     "data": {
      "text/plain": [
       "<bound method DataFrame.sum of      Pregnancies  Glucose  BloodPressure  SkinThickness  Insulin    BMI  \\\n",
       "0          False    False          False          False    False  False   \n",
       "1          False    False          False          False    False  False   \n",
       "2          False    False          False          False    False  False   \n",
       "3          False    False          False          False    False  False   \n",
       "4          False    False          False          False    False  False   \n",
       "..           ...      ...            ...            ...      ...    ...   \n",
       "763        False    False          False          False    False  False   \n",
       "764        False    False          False          False    False  False   \n",
       "765        False    False          False          False    False  False   \n",
       "766        False    False          False          False    False  False   \n",
       "767        False    False          False          False    False  False   \n",
       "\n",
       "     DiabetesPedigreeFunction    Age  Outcome  \n",
       "0                       False  False    False  \n",
       "1                       False  False    False  \n",
       "2                       False  False    False  \n",
       "3                       False  False    False  \n",
       "4                       False  False    False  \n",
       "..                        ...    ...      ...  \n",
       "763                     False  False    False  \n",
       "764                     False  False    False  \n",
       "765                     False  False    False  \n",
       "766                     False  False    False  \n",
       "767                     False  False    False  \n",
       "\n",
       "[768 rows x 9 columns]>"
      ]
     },
     "execution_count": 222,
     "metadata": {},
     "output_type": "execute_result"
    }
   ],
   "source": [
    "data.isnull().sum\n"
   ]
  },
  {
   "cell_type": "code",
   "execution_count": 225,
   "metadata": {},
   "outputs": [
    {
     "data": {
      "text/plain": [
       "array([1, 0], dtype=int64)"
      ]
     },
     "execution_count": 225,
     "metadata": {},
     "output_type": "execute_result"
    }
   ],
   "source": [
    "data[\"Outcome\"].unique()"
   ]
  },
  {
   "cell_type": "code",
   "execution_count": 226,
   "metadata": {},
   "outputs": [],
   "source": [
    "data = data.sample(frac=1, random_state=42).reset_index(drop=True)"
   ]
  },
  {
   "cell_type": "code",
   "execution_count": 227,
   "metadata": {},
   "outputs": [],
   "source": [
    "x=data.drop(\"Outcome\",axis=1)"
   ]
  },
  {
   "cell_type": "code",
   "execution_count": 228,
   "metadata": {},
   "outputs": [],
   "source": [
    "sc=StandardScaler()\n",
    "x=sc.fit_transform(x)"
   ]
  },
  {
   "cell_type": "code",
   "execution_count": null,
   "metadata": {},
   "outputs": [],
   "source": []
  },
  {
   "cell_type": "code",
   "execution_count": 229,
   "metadata": {},
   "outputs": [],
   "source": [
    "y=data[\"Outcome\"].values"
   ]
  },
  {
   "cell_type": "code",
   "execution_count": 230,
   "metadata": {},
   "outputs": [
    {
     "ename": "AttributeError",
     "evalue": "'numpy.ndarray' object has no attribute 'values'",
     "output_type": "error",
     "traceback": [
      "\u001b[1;31m---------------------------------------------------------------------------\u001b[0m",
      "\u001b[1;31mAttributeError\u001b[0m                            Traceback (most recent call last)",
      "\u001b[1;32m<ipython-input-230-42c41fe352fe>\u001b[0m in \u001b[0;36m<module>\u001b[1;34m\u001b[0m\n\u001b[1;32m----> 1\u001b[1;33m \u001b[0mx\u001b[0m\u001b[1;33m=\u001b[0m\u001b[0mx\u001b[0m\u001b[1;33m.\u001b[0m\u001b[0mvalues\u001b[0m\u001b[1;33m\u001b[0m\u001b[1;33m\u001b[0m\u001b[0m\n\u001b[0m",
      "\u001b[1;31mAttributeError\u001b[0m: 'numpy.ndarray' object has no attribute 'values'"
     ]
    }
   ],
   "source": [
    "x=x.values"
   ]
  },
  {
   "cell_type": "code",
   "execution_count": 231,
   "metadata": {},
   "outputs": [],
   "source": [
    "x=torch.from_numpy(x)\n",
    "y=torch.from_numpy(y).view(-1,1)"
   ]
  },
  {
   "cell_type": "code",
   "execution_count": 232,
   "metadata": {},
   "outputs": [
    {
     "data": {
      "text/plain": [
       "(torch.Size([768, 8]), torch.Size([768, 1]))"
      ]
     },
     "execution_count": 232,
     "metadata": {},
     "output_type": "execute_result"
    }
   ],
   "source": [
    "x.shape,y.shape"
   ]
  },
  {
   "cell_type": "code",
   "execution_count": 233,
   "metadata": {},
   "outputs": [],
   "source": [
    "X_train,X_test,y_train,y_test=train_test_split(x,y,test_size=0.3,random_state=0)"
   ]
  },
  {
   "cell_type": "code",
   "execution_count": 234,
   "metadata": {},
   "outputs": [
    {
     "data": {
      "text/plain": [
       "torch.Size([537, 8])"
      ]
     },
     "execution_count": 234,
     "metadata": {},
     "output_type": "execute_result"
    }
   ],
   "source": [
    "X_train.shape"
   ]
  },
  {
   "cell_type": "code",
   "execution_count": 251,
   "metadata": {},
   "outputs": [],
   "source": [
    "class ANN(nn.Module):\n",
    "    def __init__(self):\n",
    "        super(ANN,self).__init__()\n",
    "        self.l1 = torch.nn.Linear(8,6)\n",
    "        self.l2 = torch.nn.Linear(6,4)\n",
    "        self.l3 = torch.nn.Linear(4,2)\n",
    "        self.l4 = torch.nn.Linear(2,1)\n",
    "        \n",
    "        self.sigmoid = torch.nn.Sigmoid()\n",
    "    \n",
    "    def forward(self, x):\n",
    "        out1 = self.sigmoid(self.l1(x))\n",
    "        out2 = self.sigmoid(self.l2(out1))\n",
    "        out3 = self.sigmoid(self.l3(out2))\n",
    "        y_pred = self.sigmoid(self.l4(out3))\n",
    "        return y_pred\n",
    "    \n",
    "model = ANN()"
   ]
  },
  {
   "cell_type": "code",
   "execution_count": 252,
   "metadata": {},
   "outputs": [],
   "source": [
    "model=ANN()"
   ]
  },
  {
   "cell_type": "code",
   "execution_count": 253,
   "metadata": {},
   "outputs": [],
   "source": [
    "loss_fn=nn.MSELoss()\n",
    "optimizer=torch.optim.SGD(model.parameters(),lr=0.01)"
   ]
  },
  {
   "cell_type": "code",
   "execution_count": 254,
   "metadata": {},
   "outputs": [],
   "source": [
    "train=torch.utils.data.TensorDataset(X_train,y_train)\n",
    "test=torch.utils.data.TensorDataset(X_test,y_test)"
   ]
  },
  {
   "cell_type": "code",
   "execution_count": 255,
   "metadata": {},
   "outputs": [],
   "source": [
    "train_loader=torch.utils.data.DataLoader(train,batch_size=3,shuffle=True)\n",
    "test_loader=torch.utils.data.DataLoader(test,batch_size=3,shuffle=True)"
   ]
  },
  {
   "cell_type": "code",
   "execution_count": 256,
   "metadata": {},
   "outputs": [
    {
     "name": "stdout",
     "output_type": "stream",
     "text": [
      "Epoch: 1 \tTraining Loss: 0.2336\t Acc: 64.00%\n",
      "Epoch: 2 \tTraining Loss: 0.2315\t Acc: 64.00%\n",
      "Epoch: 3 \tTraining Loss: 0.2303\t Acc: 64.00%\n",
      "Epoch: 4 \tTraining Loss: 0.2297\t Acc: 64.00%\n",
      "Epoch: 5 \tTraining Loss: 0.2293\t Acc: 64.00%\n",
      "Epoch: 6 \tTraining Loss: 0.2291\t Acc: 64.00%\n",
      "Epoch: 7 \tTraining Loss: 0.2290\t Acc: 64.00%\n",
      "Epoch: 8 \tTraining Loss: 0.2289\t Acc: 64.00%\n",
      "Epoch: 9 \tTraining Loss: 0.2289\t Acc: 64.00%\n",
      "Epoch: 10 \tTraining Loss: 0.2288\t Acc: 64.00%\n",
      "Epoch: 11 \tTraining Loss: 0.2288\t Acc: 64.00%\n",
      "Epoch: 12 \tTraining Loss: 0.2288\t Acc: 64.00%\n",
      "Epoch: 13 \tTraining Loss: 0.2288\t Acc: 64.00%\n",
      "Epoch: 14 \tTraining Loss: 0.2288\t Acc: 64.00%\n",
      "Epoch: 15 \tTraining Loss: 0.2288\t Acc: 64.00%\n",
      "Epoch: 16 \tTraining Loss: 0.2288\t Acc: 64.00%\n",
      "Epoch: 17 \tTraining Loss: 0.2288\t Acc: 64.00%\n",
      "Epoch: 18 \tTraining Loss: 0.2288\t Acc: 64.00%\n",
      "Epoch: 19 \tTraining Loss: 0.2288\t Acc: 64.00%\n",
      "Epoch: 20 \tTraining Loss: 0.2288\t Acc: 64.00%\n",
      "Epoch: 21 \tTraining Loss: 0.2288\t Acc: 64.00%\n",
      "Epoch: 22 \tTraining Loss: 0.2288\t Acc: 64.00%\n",
      "Epoch: 23 \tTraining Loss: 0.2288\t Acc: 64.00%\n",
      "Epoch: 24 \tTraining Loss: 0.2288\t Acc: 64.00%\n",
      "Epoch: 25 \tTraining Loss: 0.2288\t Acc: 64.00%\n",
      "Epoch: 26 \tTraining Loss: 0.2288\t Acc: 64.00%\n",
      "Epoch: 27 \tTraining Loss: 0.2288\t Acc: 64.00%\n",
      "Epoch: 28 \tTraining Loss: 0.2288\t Acc: 64.00%\n",
      "Epoch: 29 \tTraining Loss: 0.2288\t Acc: 64.00%\n",
      "Epoch: 30 \tTraining Loss: 0.2288\t Acc: 64.00%\n",
      "Epoch: 31 \tTraining Loss: 0.2288\t Acc: 64.00%\n",
      "Epoch: 32 \tTraining Loss: 0.2288\t Acc: 64.00%\n",
      "Epoch: 33 \tTraining Loss: 0.2288\t Acc: 64.00%\n",
      "Epoch: 34 \tTraining Loss: 0.2288\t Acc: 64.00%\n",
      "Epoch: 35 \tTraining Loss: 0.2288\t Acc: 64.00%\n",
      "Epoch: 36 \tTraining Loss: 0.2288\t Acc: 64.00%\n",
      "Epoch: 37 \tTraining Loss: 0.2288\t Acc: 64.00%\n",
      "Epoch: 38 \tTraining Loss: 0.2288\t Acc: 64.00%\n",
      "Epoch: 39 \tTraining Loss: 0.2288\t Acc: 64.00%\n",
      "Epoch: 40 \tTraining Loss: 0.2288\t Acc: 64.00%\n",
      "Epoch: 41 \tTraining Loss: 0.2288\t Acc: 64.00%\n",
      "Epoch: 42 \tTraining Loss: 0.2288\t Acc: 64.00%\n",
      "Epoch: 43 \tTraining Loss: 0.2288\t Acc: 64.00%\n",
      "Epoch: 44 \tTraining Loss: 0.2288\t Acc: 64.00%\n",
      "Epoch: 45 \tTraining Loss: 0.2288\t Acc: 64.00%\n",
      "Epoch: 46 \tTraining Loss: 0.2288\t Acc: 64.00%\n",
      "Epoch: 47 \tTraining Loss: 0.2288\t Acc: 64.00%\n",
      "Epoch: 48 \tTraining Loss: 0.2288\t Acc: 64.00%\n",
      "Epoch: 49 \tTraining Loss: 0.2288\t Acc: 64.00%\n",
      "Epoch: 50 \tTraining Loss: 0.2288\t Acc: 64.00%\n",
      "Epoch: 51 \tTraining Loss: 0.2288\t Acc: 64.00%\n",
      "Epoch: 52 \tTraining Loss: 0.2288\t Acc: 64.00%\n",
      "Epoch: 53 \tTraining Loss: 0.2288\t Acc: 64.00%\n",
      "Epoch: 54 \tTraining Loss: 0.2288\t Acc: 64.00%\n",
      "Epoch: 55 \tTraining Loss: 0.2288\t Acc: 64.00%\n",
      "Epoch: 56 \tTraining Loss: 0.2288\t Acc: 64.00%\n",
      "Epoch: 57 \tTraining Loss: 0.2288\t Acc: 64.00%\n",
      "Epoch: 58 \tTraining Loss: 0.2288\t Acc: 64.00%\n",
      "Epoch: 59 \tTraining Loss: 0.2288\t Acc: 64.00%\n",
      "Epoch: 60 \tTraining Loss: 0.2288\t Acc: 64.00%\n",
      "Epoch: 61 \tTraining Loss: 0.2288\t Acc: 64.00%\n",
      "Epoch: 62 \tTraining Loss: 0.2288\t Acc: 64.00%\n",
      "Epoch: 63 \tTraining Loss: 0.2288\t Acc: 64.00%\n",
      "Epoch: 64 \tTraining Loss: 0.2288\t Acc: 64.00%\n",
      "Epoch: 65 \tTraining Loss: 0.2288\t Acc: 64.00%\n",
      "Epoch: 66 \tTraining Loss: 0.2288\t Acc: 64.00%\n",
      "Epoch: 67 \tTraining Loss: 0.2288\t Acc: 64.00%\n",
      "Epoch: 68 \tTraining Loss: 0.2288\t Acc: 64.00%\n",
      "Epoch: 69 \tTraining Loss: 0.2288\t Acc: 64.00%\n",
      "Epoch: 70 \tTraining Loss: 0.2288\t Acc: 64.00%\n",
      "Epoch: 71 \tTraining Loss: 0.2288\t Acc: 64.00%\n",
      "Epoch: 72 \tTraining Loss: 0.2288\t Acc: 64.00%\n",
      "Epoch: 73 \tTraining Loss: 0.2288\t Acc: 64.00%\n",
      "Epoch: 74 \tTraining Loss: 0.2288\t Acc: 64.00%\n",
      "Epoch: 75 \tTraining Loss: 0.2288\t Acc: 64.00%\n",
      "Epoch: 76 \tTraining Loss: 0.2288\t Acc: 64.00%\n",
      "Epoch: 77 \tTraining Loss: 0.2288\t Acc: 64.00%\n",
      "Epoch: 78 \tTraining Loss: 0.2288\t Acc: 64.00%\n",
      "Epoch: 79 \tTraining Loss: 0.2288\t Acc: 64.00%\n",
      "Epoch: 80 \tTraining Loss: 0.2288\t Acc: 64.00%\n",
      "Epoch: 81 \tTraining Loss: 0.2288\t Acc: 64.00%\n",
      "Epoch: 82 \tTraining Loss: 0.2288\t Acc: 64.00%\n",
      "Epoch: 83 \tTraining Loss: 0.2287\t Acc: 64.00%\n",
      "Epoch: 84 \tTraining Loss: 0.2288\t Acc: 64.00%\n",
      "Epoch: 85 \tTraining Loss: 0.2288\t Acc: 64.00%\n",
      "Epoch: 86 \tTraining Loss: 0.2288\t Acc: 64.00%\n",
      "Epoch: 87 \tTraining Loss: 0.2288\t Acc: 64.00%\n",
      "Epoch: 88 \tTraining Loss: 0.2288\t Acc: 64.00%\n",
      "Epoch: 89 \tTraining Loss: 0.2288\t Acc: 64.00%\n",
      "Epoch: 90 \tTraining Loss: 0.2288\t Acc: 64.00%\n",
      "Epoch: 91 \tTraining Loss: 0.2288\t Acc: 64.00%\n",
      "Epoch: 92 \tTraining Loss: 0.2288\t Acc: 64.00%\n",
      "Epoch: 93 \tTraining Loss: 0.2288\t Acc: 64.00%\n",
      "Epoch: 94 \tTraining Loss: 0.2288\t Acc: 64.00%\n",
      "Epoch: 95 \tTraining Loss: 0.2288\t Acc: 64.00%\n",
      "Epoch: 96 \tTraining Loss: 0.2288\t Acc: 64.00%\n",
      "Epoch: 97 \tTraining Loss: 0.2288\t Acc: 64.00%\n",
      "Epoch: 98 \tTraining Loss: 0.2288\t Acc: 64.00%\n",
      "Epoch: 99 \tTraining Loss: 0.2288\t Acc: 64.00%\n",
      "Epoch: 100 \tTraining Loss: 0.2288\t Acc: 64.00%\n"
     ]
    }
   ],
   "source": [
    "epochs = 100\n",
    "\n",
    "# Some lists to keep track of loss and accuracy during each epoch\n",
    "epoch_list = []\n",
    "train_loss_list = []\n",
    "val_loss_list = []\n",
    "train_acc_list = []\n",
    "val_acc_list = []\n",
    "\n",
    "# Set the training mode ON -> Activate Dropout Layers\n",
    "model.train() # prepare model for training\n",
    "\n",
    "for epoch in range(epochs):\n",
    "    # monitor training loss\n",
    "    train_loss = 0.0\n",
    "    val_loss = 0.0\n",
    "    \n",
    "    ###################\n",
    "    # train the model #\n",
    "    ###################\n",
    "    \n",
    "    # Calculate Accuracy         \n",
    "    correct = 0\n",
    "    total = 0\n",
    "    for data,target in train_loader:\n",
    "#         data=data.view(data.size(0),-1).float()\n",
    "        data = Variable(data).float()\n",
    "        target = Variable(target).type(torch.FloatTensor)\n",
    "        #print(\"Target = \",target[0].item())\n",
    "        # clear the gradients of all optimized variables\n",
    "        optimizer.zero_grad()\n",
    "        # forward pass: compute predicted outputs by passing inputs to the model\n",
    "        output = model(data)\n",
    "        predicted = (torch.round(output.data[0]))\n",
    "        # Total number of labels\n",
    "        total += len(target)\n",
    "        # Total correct predictions\n",
    "        correct += (predicted == target).sum()\n",
    "\n",
    "        # calculate the loss\n",
    "        loss = loss_fn(output, target)\n",
    "        # backward pass: compute gradient of the loss with respect to model parameters\n",
    "        loss.backward()\n",
    "        # perform a single optimization step (parameter update)\n",
    "        optimizer.step()\n",
    "        # update running training loss\n",
    "        train_loss += loss.item()*data.size(0)\n",
    "\n",
    "    # calculate average training loss over an epoch\n",
    "    train_loss = train_loss/len(train_loader.dataset)\n",
    "    \n",
    "    # Avg Accuracy\n",
    "    accuracy = 100 * correct / float(total)\n",
    "    # Put them in their list\n",
    "    train_acc_list.append(accuracy)\n",
    "    train_loss_list.append(train_loss)\n",
    "    print('Epoch: {} \\tTraining Loss: {:.4f}\\t Acc: {:.2f}%'.format(\n",
    "        epoch+1, \n",
    "        train_loss,\n",
    "        accuracy\n",
    "        ))\n",
    "    # Move to next epoch\n",
    "    epoch_list.append(epoch + 1)"
   ]
  },
  {
   "cell_type": "code",
   "execution_count": null,
   "metadata": {},
   "outputs": [],
   "source": []
  },
  {
   "cell_type": "code",
   "execution_count": null,
   "metadata": {},
   "outputs": [],
   "source": []
  },
  {
   "cell_type": "code",
   "execution_count": null,
   "metadata": {},
   "outputs": [],
   "source": []
  }
 ],
 "metadata": {
  "kernelspec": {
   "display_name": "Python 3",
   "language": "python",
   "name": "python3"
  },
  "language_info": {
   "codemirror_mode": {
    "name": "ipython",
    "version": 3
   },
   "file_extension": ".py",
   "mimetype": "text/x-python",
   "name": "python",
   "nbconvert_exporter": "python",
   "pygments_lexer": "ipython3",
   "version": "3.7.4"
  }
 },
 "nbformat": 4,
 "nbformat_minor": 2
}
