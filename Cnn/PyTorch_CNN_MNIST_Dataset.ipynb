{
 "cells": [
  {
   "cell_type": "code",
   "execution_count": 10,
   "metadata": {},
   "outputs": [],
   "source": [
    "import torch\n",
    "from torch.autograd import Variable\n",
    "import torch.nn as nn\n",
    "import numpy as np\n",
    "import torchvision.transforms as transforms\n",
    "import torchvision.datasets as Datasets"
   ]
  },
  {
   "cell_type": "code",
   "execution_count": 11,
   "metadata": {},
   "outputs": [],
   "source": [
    "train_data=Datasets.MNIST(root=\"./Pytorch_Datasets\",\n",
    "                         train=True,\n",
    "                         transform=transforms.ToTensor(),\n",
    "                         download=True)\n",
    "\n",
    "test_data=Datasets.MNIST(root=\"./Pytorch_Datasets\",\n",
    "                        train=False,\n",
    "                        transform=transforms.ToTensor())"
   ]
  },
  {
   "cell_type": "code",
   "execution_count": 14,
   "metadata": {},
   "outputs": [
    {
     "name": "stdout",
     "output_type": "stream",
     "text": [
      "torch.Size([60000, 28, 28])\n"
     ]
    }
   ],
   "source": [
    "print(train_data.train_data.size())"
   ]
  },
  {
   "cell_type": "code",
   "execution_count": 15,
   "metadata": {},
   "outputs": [
    {
     "name": "stdout",
     "output_type": "stream",
     "text": [
      "torch.Size([60000])\n"
     ]
    }
   ],
   "source": [
    "print(train_data.train_labels.size())"
   ]
  },
  {
   "cell_type": "code",
   "execution_count": 23,
   "metadata": {},
   "outputs": [
    {
     "data": {
      "text/plain": [
       "<torchvision.datasets.mnist.MNIST at 0x148860e0708>"
      ]
     },
     "execution_count": 23,
     "metadata": {},
     "output_type": "execute_result"
    }
   ],
   "source": [
    "train_data"
   ]
  },
  {
   "cell_type": "code",
   "execution_count": 41,
   "metadata": {},
   "outputs": [
    {
     "data": {
      "text/plain": [
       "5"
      ]
     },
     "execution_count": 41,
     "metadata": {},
     "output_type": "execute_result"
    }
   ],
   "source": [
    "batch_size=100\n",
    "n_iter=3000\n",
    "num_epoch=int(n_iter/ (len(train_data)/batch_size))\n",
    "num_epoch"
   ]
  },
  {
   "cell_type": "code",
   "execution_count": 26,
   "metadata": {},
   "outputs": [],
   "source": [
    "train_loader=torch.utils.data.DataLoader(dataset=train_data,\n",
    "                                        batch_size=batch_size,\n",
    "                                        shuffle=True)\n",
    "\n",
    "test_loader=torch.utils.data.DataLoader(dataset=test_data,\n",
    "                                      batch_size=batch_size,\n",
    "                                      shuffle=False)"
   ]
  },
  {
   "cell_type": "code",
   "execution_count": 47,
   "metadata": {
    "scrolled": true
   },
   "outputs": [],
   "source": [
    "class CNN_MODEL(nn.Module):\n",
    "    def __init__(self):\n",
    "        super(CNN_MODEL,self).__init__()\n",
    "        self.cnn1=nn.Conv2d(in_channels=1,out_channels=16,kernel_size=5,stride=1,padding=2)\n",
    "        self.relu1=nn.ReLU()\n",
    "        self.max1=nn.MaxPool2d(kernel_size=2)\n",
    "            \n",
    "        self.cnn2=nn.Conv2d(in_channels=16,out_channels=32,kernel_size=5,stride=1,padding=2)\n",
    "        self.relu2=nn.ReLU()\n",
    "        self.max2=nn.MaxPool2d(kernel_size=2)\n",
    "            \n",
    "        self.fc1=nn.Linear(32*7*7,10)\n",
    "            \n",
    "    def forward(self,x):\n",
    "        out=self.cnn1(x)\n",
    "        out=self.relu1(out)\n",
    "        out=self.max1(out)\n",
    "        \n",
    "        out=self.cnn2(out)\n",
    "        out=self.relu2(out)\n",
    "        out=self.max2(out)\n",
    "        \n",
    "        out=out.view(out.size(0),-1)\n",
    "        out=self.fc1(out)\n",
    "        return out"
   ]
  },
  {
   "cell_type": "code",
   "execution_count": 48,
   "metadata": {},
   "outputs": [],
   "source": [
    "model=CNN_MODEL()"
   ]
  },
  {
   "cell_type": "code",
   "execution_count": 49,
   "metadata": {},
   "outputs": [],
   "source": [
    "criterion=nn.CrossEntropyLoss()\n",
    "optimizer=torch.optim.SGD(model.parameters(),lr=0.01)"
   ]
  },
  {
   "cell_type": "code",
   "execution_count": 52,
   "metadata": {},
   "outputs": [
    {
     "name": "stdout",
     "output_type": "stream",
     "text": [
      "Iteraion : 500 , Loss : 0.4960155487060547 , Accuracy : 88\n",
      "Iteraion : 1000 , Loss : 0.3730434775352478 , Accuracy : 93\n",
      "Iteraion : 1500 , Loss : 0.18867279589176178 , Accuracy : 94\n",
      "Iteraion : 2000 , Loss : 0.1493353694677353 , Accuracy : 95\n",
      "Iteraion : 2500 , Loss : 0.08119308203458786 , Accuracy : 96\n",
      "Iteraion : 3000 , Loss : 0.1609896868467331 , Accuracy : 96\n"
     ]
    }
   ],
   "source": [
    "iter=0\n",
    "for epoch in range(num_epoch):\n",
    "    for i,(image,label) in enumerate(train_loader):\n",
    "        image=Variable(image)\n",
    "        label=Variable(label)\n",
    "        \n",
    "        optimizer.zero_grad()\n",
    "        \n",
    "        output=model(image)\n",
    "        \n",
    "        loss=criterion(output,label)\n",
    "        \n",
    "        loss.backward()\n",
    "        \n",
    "        optimizer.step()\n",
    "        \n",
    "        iter+=1\n",
    "        if iter%500==0:\n",
    "            correct=0\n",
    "            \n",
    "            total=0\n",
    "            \n",
    "            for image,label in test_loader:\n",
    "            \n",
    "                image=Variable(image)\n",
    "            \n",
    "                output=model(image)\n",
    "            \n",
    "                _,prediction=torch.max(output.data,1)\n",
    "            \n",
    "                total+=label.size(0)\n",
    "            \n",
    "                correct+= (prediction == label).sum()\n",
    "            \n",
    "            accuracy=100*correct/total\n",
    "        \n",
    "            print(\"Iteraion : {} , Loss : {} , Accuracy : {}\".format(iter,loss.data,accuracy))\n",
    "        "
   ]
  },
  {
   "cell_type": "code",
   "execution_count": null,
   "metadata": {},
   "outputs": [],
   "source": []
  },
  {
   "cell_type": "code",
   "execution_count": null,
   "metadata": {},
   "outputs": [],
   "source": []
  },
  {
   "cell_type": "code",
   "execution_count": null,
   "metadata": {},
   "outputs": [],
   "source": []
  }
 ],
 "metadata": {
  "kernelspec": {
   "display_name": "Python 3",
   "language": "python",
   "name": "python3"
  },
  "language_info": {
   "codemirror_mode": {
    "name": "ipython",
    "version": 3
   },
   "file_extension": ".py",
   "mimetype": "text/x-python",
   "name": "python",
   "nbconvert_exporter": "python",
   "pygments_lexer": "ipython3",
   "version": "3.7.4"
  }
 },
 "nbformat": 4,
 "nbformat_minor": 2
}
