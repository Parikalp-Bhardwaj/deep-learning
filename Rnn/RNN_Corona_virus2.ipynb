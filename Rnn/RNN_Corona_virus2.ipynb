{
  "nbformat": 4,
  "nbformat_minor": 0,
  "metadata": {
    "colab": {
      "name": "RNN_Corona_virus2.ipynb",
      "provenance": [],
      "collapsed_sections": []
    },
    "kernelspec": {
      "name": "python3",
      "display_name": "Python 3"
    },
    "language_info": {
      "name": "python"
    }
  },
  "cells": [
    {
      "cell_type": "code",
      "metadata": {
        "id": "F8qaCvtj6eko"
      },
      "source": [
        "import pandas as pd\n",
        "import numpy as np\n",
        "import os\n",
        "import matplotlib.pyplot as plt\n",
        "import torchtext\n",
        "import torch\n",
        "import torch.nn as nn\n",
        "import torchvision.transforms as transforms\n",
        "import random\n",
        "import numpy as np\n",
        "from torchtext.legacy.data import Field,LabelField,TabularDataset,BucketIterator\n",
        "import re\n",
        "# from unidecode import unidecode\n",
        "# import contractions\n",
        "import spacy\n",
        "import seaborn as sns\n",
        "from torchtext.data.utils import get_tokenizer\n",
        "from torchtext.legacy.data import BucketIterator,Field,LabelField,TabularDataset\n",
        "from torch.autograd import Variable\n",
        "import torch.nn.functional as F"
      ],
      "execution_count": null,
      "outputs": []
    },
    {
      "cell_type": "code",
      "metadata": {
        "id": "i_l3sNgL6hx_"
      },
      "source": [
        "dirs=\"/content/drive/MyDrive/dataset/Corona_virus_nlp/\""
      ],
      "execution_count": null,
      "outputs": []
    },
    {
      "cell_type": "code",
      "metadata": {
        "colab": {
          "base_uri": "https://localhost:8080/",
          "height": 204
        },
        "id": "5lmMoQQQ6n1U",
        "outputId": "2c0a33bb-7f9b-4609-9fba-69cb1e6d519a"
      },
      "source": [
        "data=pd.read_csv(\"/content/drive/MyDrive/dataset/Corona_virus_nlp/Corona_Virus_Nlp/Rnn_data.csv\")\n",
        "data.head()"
      ],
      "execution_count": null,
      "outputs": [
        {
          "output_type": "execute_result",
          "data": {
            "text/html": [
              "<div>\n",
              "<style scoped>\n",
              "    .dataframe tbody tr th:only-of-type {\n",
              "        vertical-align: middle;\n",
              "    }\n",
              "\n",
              "    .dataframe tbody tr th {\n",
              "        vertical-align: top;\n",
              "    }\n",
              "\n",
              "    .dataframe thead th {\n",
              "        text-align: right;\n",
              "    }\n",
              "</style>\n",
              "<table border=\"1\" class=\"dataframe\">\n",
              "  <thead>\n",
              "    <tr style=\"text-align: right;\">\n",
              "      <th></th>\n",
              "      <th>Sentiment</th>\n",
              "      <th>Text</th>\n",
              "    </tr>\n",
              "  </thead>\n",
              "  <tbody>\n",
              "    <tr>\n",
              "      <th>0</th>\n",
              "      <td>1</td>\n",
              "      <td>advice talk to your neighbours family to excha...</td>\n",
              "    </tr>\n",
              "    <tr>\n",
              "      <th>1</th>\n",
              "      <td>1</td>\n",
              "      <td>coronavirus australia woolworths to give elder...</td>\n",
              "    </tr>\n",
              "    <tr>\n",
              "      <th>2</th>\n",
              "      <td>1</td>\n",
              "      <td>my food stock is not the only one which is emp...</td>\n",
              "    </tr>\n",
              "    <tr>\n",
              "      <th>3</th>\n",
              "      <td>0</td>\n",
              "      <td>me   ready to go at supermarket during the   c...</td>\n",
              "    </tr>\n",
              "    <tr>\n",
              "      <th>4</th>\n",
              "      <td>1</td>\n",
              "      <td>as news of the regionas first confirmed covid1...</td>\n",
              "    </tr>\n",
              "  </tbody>\n",
              "</table>\n",
              "</div>"
            ],
            "text/plain": [
              "   Sentiment                                               Text\n",
              "0          1  advice talk to your neighbours family to excha...\n",
              "1          1  coronavirus australia woolworths to give elder...\n",
              "2          1  my food stock is not the only one which is emp...\n",
              "3          0  me   ready to go at supermarket during the   c...\n",
              "4          1  as news of the regionas first confirmed covid1..."
            ]
          },
          "metadata": {
            "tags": []
          },
          "execution_count": 5
        }
      ]
    },
    {
      "cell_type": "code",
      "metadata": {
        "id": "tE2Q5ol56rZU"
      },
      "source": [
        "tokenizer=get_tokenizer(\"basic_english\")"
      ],
      "execution_count": null,
      "outputs": []
    },
    {
      "cell_type": "code",
      "metadata": {
        "id": "8ydoC0ue7AOL"
      },
      "source": [
        "Text=Field(tokenize=tokenizer,lower=True,include_lengths=True)\n",
        "Label=LabelField(dtype=torch.float)"
      ],
      "execution_count": null,
      "outputs": []
    },
    {
      "cell_type": "code",
      "metadata": {
        "colab": {
          "base_uri": "https://localhost:8080/"
        },
        "id": "rAEu3Ycg7B4b",
        "outputId": "bdc3d435-9cff-48d2-c541-a8a98ea3a493"
      },
      "source": [
        "field=[(\"label\",Label),(\"text\",Text)]\n",
        "field"
      ],
      "execution_count": null,
      "outputs": [
        {
          "output_type": "execute_result",
          "data": {
            "text/plain": [
              "[('label', <torchtext.legacy.data.field.LabelField at 0x7f8a5e9de810>),\n",
              " ('text', <torchtext.legacy.data.field.Field at 0x7f8a50ff49d0>)]"
            ]
          },
          "metadata": {
            "tags": []
          },
          "execution_count": 8
        }
      ]
    },
    {
      "cell_type": "code",
      "metadata": {
        "colab": {
          "base_uri": "https://localhost:8080/"
        },
        "id": "HWlDFgyB7CH-",
        "outputId": "720d8d04-607d-446e-e4ea-c13fe223eb3b"
      },
      "source": [
        "training_data=TabularDataset(path=\"/content/drive/MyDrive/dataset/Corona_virus_nlp/Corona_Virus_Nlp/Rnn_data.csv\",format=\"csv\",\n",
        "                             skip_header=True,fields=field)\n",
        "\n",
        "print(vars(training_data[3]))"
      ],
      "execution_count": null,
      "outputs": [
        {
          "output_type": "stream",
          "text": [
            "{'label': '0', 'text': ['me', 'ready', 'to', 'go', 'at', 'supermarket', 'during', 'the', 'covid19', 'outbreak', 'not', 'because', 'i', 'am', 'paranoid', 'but', 'because', 'my', 'food', 'stock', 'is', 'litteraly', 'empty', 'the', 'coronavirus', 'is', 'a', 'serious', 'thing', 'but', 'please', 'do', 'not', 'panic', 'it', 'causes', 'shortage', 'coronavirusfrance', 'restezchezvous', 'stayathome', 'confinement']}\n"
          ],
          "name": "stdout"
        }
      ]
    },
    {
      "cell_type": "code",
      "metadata": {
        "id": "3TjZ0zMW7CK1"
      },
      "source": [
        "train_data,valid_data=training_data.split(split_ratio=0.7,random_state=random.seed(2020))"
      ],
      "execution_count": null,
      "outputs": []
    },
    {
      "cell_type": "code",
      "metadata": {
        "id": "90sED1rw7COZ"
      },
      "source": [
        "MAX_VOCAB_SIZE = 25_000\n",
        "Text.build_vocab(train_data,max_size = MAX_VOCAB_SIZE,vectors = \"glove.6B.100d\",unk_init = torch.Tensor.normal_)\n",
        "Label.build_vocab(train_data)"
      ],
      "execution_count": null,
      "outputs": []
    },
    {
      "cell_type": "code",
      "metadata": {
        "id": "_CF_R8UiaQfs"
      },
      "source": [
        "device = torch.device('cuda' if torch.cuda.is_available() else 'cpu')"
      ],
      "execution_count": null,
      "outputs": []
    },
    {
      "cell_type": "code",
      "metadata": {
        "id": "LwtTT-p47CRa"
      },
      "source": [
        "train_iter,valid_iter=BucketIterator.splits((train_data,valid_data),\n",
        "                                    sort_key=lambda x:len(x.text),\n",
        "                                    batch_size=64,\n",
        "                                    sort_within_batch=True,\n",
        "                                    device=device)"
      ],
      "execution_count": null,
      "outputs": []
    },
    {
      "cell_type": "code",
      "metadata": {
        "colab": {
          "base_uri": "https://localhost:8080/"
        },
        "id": "qih38fqD7CUM",
        "outputId": "c8da95af-01ba-46d1-c765-833984bc4781"
      },
      "source": [
        "for i in train_iter:\n",
        "  print(i.text)\n",
        "  break"
      ],
      "execution_count": null,
      "outputs": [
        {
          "output_type": "stream",
          "text": [
            "(tensor([[ 1963,    14,  2081,  ...,    14,     7,  1587],\n",
            "        [   23,  2142,    52,  ...,    98,  7580,  6554],\n",
            "        [ 1307,     3,  2073,  ...,    83,   681,     3],\n",
            "        ...,\n",
            "        [ 1933,  5237,     6,  ...,    71,   173,   172],\n",
            "        [  106,  1470,   830,  ...,   114,    48,     5],\n",
            "        [ 1733,  6647, 10610,  ...,   457,    96,   262]]), tensor([33, 33, 33, 33, 33, 33, 33, 33, 33, 33, 33, 33, 33, 33, 33, 33, 33, 33,\n",
            "        33, 33, 33, 33, 33, 33, 33, 33, 33, 33, 33, 33, 33, 33, 33, 33, 33, 33,\n",
            "        33, 33, 33, 33, 33, 33, 33, 33, 33, 33, 33, 33, 33, 33, 33, 33, 33, 33,\n",
            "        33, 33, 33, 33, 33, 33, 33, 33, 33, 33]))\n"
          ],
          "name": "stdout"
        }
      ]
    },
    {
      "cell_type": "code",
      "metadata": {
        "colab": {
          "base_uri": "https://localhost:8080/"
        },
        "id": "UAq7JOeuPeU-",
        "outputId": "0882fef2-a2be-4196-c8b7-6cf4239ebf19"
      },
      "source": [
        "Text.vocab.stoi[Text.pad_token]"
      ],
      "execution_count": null,
      "outputs": [
        {
          "output_type": "execute_result",
          "data": {
            "text/plain": [
              "1"
            ]
          },
          "metadata": {
            "tags": []
          },
          "execution_count": 15
        }
      ]
    },
    {
      "cell_type": "code",
      "metadata": {
        "colab": {
          "base_uri": "https://localhost:8080/",
          "height": 35
        },
        "id": "zd4EzJxhCIx4",
        "outputId": "14d43b99-7b8a-4330-9d3e-63ec52a36159"
      },
      "source": [
        "Text.pad_token"
      ],
      "execution_count": null,
      "outputs": [
        {
          "output_type": "execute_result",
          "data": {
            "application/vnd.google.colaboratory.intrinsic+json": {
              "type": "string"
            },
            "text/plain": [
              "'<pad>'"
            ]
          },
          "metadata": {
            "tags": []
          },
          "execution_count": 46
        }
      ]
    },
    {
      "cell_type": "code",
      "metadata": {
        "id": "bPiHBrBO7MZo"
      },
      "source": [
        "class LSTM(nn.Module):\n",
        "  def __init__(self,vocab_size,embedding_dim,hidden_dim,output_layer,n_layer,dropout,pad_idx):\n",
        "    super(LSTM,self).__init__()\n",
        "    self.n_layer=n_layer\n",
        "    self.hidden_dim=hidden_dim\n",
        "    self.dropout=nn.Dropout(dropout)\n",
        "\n",
        "\n",
        "        \n",
        "    self.embedding = nn.Embedding(vocab_size, embedding_dim, padding_idx = pad_idx)\n",
        "        \n",
        "    self.lstm = nn.LSTM(embedding_dim, \n",
        "                           hidden_dim, \n",
        "                           num_layers=n_layers, \n",
        "                           bidirectional=True, \n",
        "                           dropout=dropout)\n",
        "        \n",
        "    self.fc = nn.Linear(hidden_dim * 2, output_dim)\n",
        "        \n",
        "    self.dropout = nn.Dropout(dropout)\n",
        "    # self.sigmoid=nn.Sigmoid()\n",
        "\n",
        "  # def init_hidden(self,batch_size):\n",
        "  #   return (torch.autograd.Variable(torch.zeros(self.n_layer*2,batch_size,self.hidden_dim)),\n",
        "  #           torch.autograd.Variable(torch.zeros(self.n_layer*2,batch_size,self.hidden_dim)))\n",
        "    \n",
        "\n",
        "  def forward(self,text,text_len):\n",
        "    for i, _ in enumerate(text_len):\n",
        "        if text_len[i] == 0:\n",
        "          text_len[i] = 1\n",
        "    #text [batch_size,text_len]\n",
        "    #text_len=[text_len]\n",
        "    # batch_size=text.size(0)\n",
        "    x=self.dropout(self.embedding(text))\n",
        "\n",
        "    # h0,c0=self.init_hidden(batch_size)\n",
        "    pack_packed_sequence=nn.utils.rnn.pack_padded_sequence(x,text_len)\n",
        "\n",
        "    packed_output,(hidden,cell)=self.lstm(pack_packed_sequence)\n",
        "    #unpack sequence\n",
        "    output, output_lengths = nn.utils.rnn.pad_packed_sequence(packed_output)\n",
        "    hidden =self.dropout(torch.cat((hidden[-2,:,:], hidden[-1,:,:]), dim = 1))\n",
        "    # hidden=hidden[:, -1, :]\n",
        "    # hidden=torch.tanh(hidden)\n",
        "\n",
        "\n",
        "    fc=self.fc(hidden)\n",
        "\n",
        "    # fc2=self.linear2(fc)\n",
        "\n",
        "    # dense_output=self.sigmoid(fc2)\n",
        "\n",
        "    return fc"
      ],
      "execution_count": null,
      "outputs": []
    },
    {
      "cell_type": "code",
      "metadata": {
        "colab": {
          "base_uri": "https://localhost:8080/"
        },
        "id": "075UgYTc7VCD",
        "outputId": "e94da4e4-6d6d-4aca-f8b1-4687c9268986"
      },
      "source": [
        "vocab_size=len(Text.vocab)\n",
        "embedding_dim=100\n",
        "hidden_dim=256\n",
        "n_layers=2\n",
        "output_dim=1\n",
        "dropout=0.5\n",
        "pad_token=Text.vocab.stoi[Text.pad_token]\n",
        "model=LSTM(vocab_size,embedding_dim,hidden_dim,output_dim,n_layers,dropout,pad_token)\n",
        "model"
      ],
      "execution_count": null,
      "outputs": [
        {
          "output_type": "execute_result",
          "data": {
            "text/plain": [
              "LSTM(\n",
              "  (dropout): Dropout(p=0.5, inplace=False)\n",
              "  (embedding): Embedding(25002, 100, padding_idx=1)\n",
              "  (lstm): LSTM(100, 256, num_layers=2, dropout=0.5, bidirectional=True)\n",
              "  (fc): Linear(in_features=512, out_features=1, bias=True)\n",
              ")"
            ]
          },
          "metadata": {
            "tags": []
          },
          "execution_count": 17
        }
      ]
    },
    {
      "cell_type": "code",
      "metadata": {
        "colab": {
          "base_uri": "https://localhost:8080/"
        },
        "id": "msQuf_AX7Xbj",
        "outputId": "12534fa0-c15e-4f4e-88f2-b1668af2d3d3"
      },
      "source": [
        "for data in train_iter:\n",
        "  text,text_len=data.text\n",
        "  print(model(text,text_len))\n",
        "  break"
      ],
      "execution_count": null,
      "outputs": [
        {
          "output_type": "stream",
          "text": [
            "tensor([[ 0.0288],\n",
            "        [-0.0139],\n",
            "        [ 0.0549],\n",
            "        [ 0.0248],\n",
            "        [ 0.0304],\n",
            "        [-0.0227],\n",
            "        [ 0.0919],\n",
            "        [ 0.0483],\n",
            "        [-0.0346],\n",
            "        [ 0.0412],\n",
            "        [-0.0336],\n",
            "        [-0.0681],\n",
            "        [ 0.0179],\n",
            "        [-0.0227],\n",
            "        [-0.0088],\n",
            "        [ 0.0134],\n",
            "        [-0.0124],\n",
            "        [ 0.0569],\n",
            "        [-0.0264],\n",
            "        [ 0.0365],\n",
            "        [-0.0457],\n",
            "        [ 0.0261],\n",
            "        [ 0.0034],\n",
            "        [ 0.0401],\n",
            "        [ 0.0290],\n",
            "        [-0.0340],\n",
            "        [ 0.0230],\n",
            "        [ 0.0893],\n",
            "        [ 0.0233],\n",
            "        [ 0.0167],\n",
            "        [-0.0080],\n",
            "        [ 0.0598],\n",
            "        [ 0.0688],\n",
            "        [ 0.0082],\n",
            "        [-0.0214],\n",
            "        [-0.0013],\n",
            "        [ 0.0106],\n",
            "        [ 0.1236],\n",
            "        [ 0.0210],\n",
            "        [-0.0026],\n",
            "        [ 0.0509],\n",
            "        [ 0.0128],\n",
            "        [ 0.0203],\n",
            "        [-0.0571],\n",
            "        [ 0.0199],\n",
            "        [ 0.0420],\n",
            "        [-0.0421],\n",
            "        [ 0.0140],\n",
            "        [ 0.0275],\n",
            "        [ 0.0550],\n",
            "        [ 0.0708],\n",
            "        [ 0.0214],\n",
            "        [-0.0110],\n",
            "        [-0.0024],\n",
            "        [-0.0698],\n",
            "        [ 0.0115],\n",
            "        [-0.0020],\n",
            "        [ 0.0137],\n",
            "        [ 0.0008],\n",
            "        [ 0.0337],\n",
            "        [ 0.0718],\n",
            "        [ 0.0797],\n",
            "        [-0.0190],\n",
            "        [ 0.0238]], grad_fn=<AddmmBackward>)\n"
          ],
          "name": "stdout"
        }
      ]
    },
    {
      "cell_type": "code",
      "metadata": {
        "colab": {
          "base_uri": "https://localhost:8080/"
        },
        "id": "TCgvvUq5R6R0",
        "outputId": "f7c28139-7929-4ccc-e018-9fcd4081e30d"
      },
      "source": [
        "pretrained_embeddings = Text.vocab.vectors\n",
        "\n",
        "print(pretrained_embeddings.shape)"
      ],
      "execution_count": null,
      "outputs": [
        {
          "output_type": "stream",
          "text": [
            "torch.Size([25002, 100])\n"
          ],
          "name": "stdout"
        }
      ]
    },
    {
      "cell_type": "code",
      "metadata": {
        "colab": {
          "base_uri": "https://localhost:8080/"
        },
        "id": "DLqHk9gRbq7P",
        "outputId": "42ce46f1-8197-43db-c128-829e905fa38e"
      },
      "source": [
        "\n",
        "model.embedding.weight.data.copy_(pretrained_embeddings)"
      ],
      "execution_count": null,
      "outputs": [
        {
          "output_type": "execute_result",
          "data": {
            "text/plain": [
              "tensor([[ 0.9174,  1.7505, -0.6514,  ...,  0.4704,  0.3767,  0.6201],\n",
              "        [ 0.2355, -1.7910,  0.3254,  ..., -0.0284, -1.3602,  1.6034],\n",
              "        [-0.0382, -0.2449,  0.7281,  ..., -0.1459,  0.8278,  0.2706],\n",
              "        ...,\n",
              "        [ 0.6640,  0.7606, -1.8337,  ...,  0.3142,  0.8558,  0.3032],\n",
              "        [ 0.4706,  1.0778, -0.2694,  ..., -0.7763, -1.0243,  0.0688],\n",
              "        [ 0.2278, -0.0096, -0.3427,  ...,  0.5979,  0.2396,  0.4793]])"
            ]
          },
          "metadata": {
            "tags": []
          },
          "execution_count": 20
        }
      ]
    },
    {
      "cell_type": "code",
      "metadata": {
        "colab": {
          "base_uri": "https://localhost:8080/"
        },
        "id": "nAsTAluXSAin",
        "outputId": "c02419ad-8f3e-4329-d0f4-6acaf8564961"
      },
      "source": [
        "\n",
        "UNK_IDX = Text.vocab.stoi[Text.unk_token]\n",
        "\n",
        "model.embedding.weight.data[UNK_IDX] = torch.zeros(embedding_dim)\n",
        "model.embedding.weight.data[pad_token] = torch.zeros(embedding_dim)\n",
        "\n",
        "print(model.embedding.weight.data)"
      ],
      "execution_count": null,
      "outputs": [
        {
          "output_type": "stream",
          "text": [
            "tensor([[ 0.0000,  0.0000,  0.0000,  ...,  0.0000,  0.0000,  0.0000],\n",
            "        [ 0.0000,  0.0000,  0.0000,  ...,  0.0000,  0.0000,  0.0000],\n",
            "        [-0.0382, -0.2449,  0.7281,  ..., -0.1459,  0.8278,  0.2706],\n",
            "        ...,\n",
            "        [ 0.6640,  0.7606, -1.8337,  ...,  0.3142,  0.8558,  0.3032],\n",
            "        [ 0.4706,  1.0778, -0.2694,  ..., -0.7763, -1.0243,  0.0688],\n",
            "        [ 0.2278, -0.0096, -0.3427,  ...,  0.5979,  0.2396,  0.4793]])\n"
          ],
          "name": "stdout"
        }
      ]
    },
    {
      "cell_type": "code",
      "metadata": {
        "id": "pSaoFne_7ZSD"
      },
      "source": [
        "criterion=nn.BCEWithLogitsLoss()\n",
        "optimizer=torch.optim.Adam(model.parameters())"
      ],
      "execution_count": null,
      "outputs": []
    },
    {
      "cell_type": "code",
      "metadata": {
        "id": "_0Sj9WDBbEqw"
      },
      "source": [
        "model = model.to(device)\n",
        "criterion = criterion.to(device)"
      ],
      "execution_count": null,
      "outputs": []
    },
    {
      "cell_type": "code",
      "metadata": {
        "id": "cm0D7IuR7bMT"
      },
      "source": [
        "def binary_accuracy(preds,y):\n",
        "  rounded_preds=torch.round(torch.sigmoid(preds))\n",
        "  correct=(rounded_preds == y).float()\n",
        "  acc=correct.sum() / len(correct)\n",
        "  return acc"
      ],
      "execution_count": null,
      "outputs": []
    },
    {
      "cell_type": "code",
      "metadata": {
        "id": "RPKpE1kV8KQd"
      },
      "source": [
        "def train(model, iterator, optimizer, criterion):\n",
        "    \n",
        "    #initialize every epoch \n",
        "    epoch_loss = 0\n",
        "    epoch_acc = 0\n",
        "    \n",
        "    #set the model in training phase\n",
        "    model.train()  \n",
        "    \n",
        "    for batch in iterator:\n",
        "        \n",
        "        #resets the gradients after every batch\n",
        "        optimizer.zero_grad()   \n",
        "        \n",
        "        #retrieve text and no. of words\n",
        "        text, text_lengths = batch.text\n",
        "        label=batch.label\n",
        "        #convert to 1D tensor\n",
        "        predictions = model(text, text_lengths).squeeze(1)  \n",
        "        \n",
        "        #compute the loss\n",
        "        loss = criterion(predictions, batch.label)        \n",
        "        \n",
        "        #compute the binary accuracy\n",
        "        acc = binary_accuracy(predictions,batch.label)   \n",
        "        \n",
        "        #backpropage the loss and compute the gradients\n",
        "        loss.backward()       \n",
        "        \n",
        "        #update the weights\n",
        "        optimizer.step()      \n",
        "        \n",
        "        #loss and accuracy\n",
        "        epoch_loss += loss.item()  \n",
        "        epoch_acc += acc.item()\n",
        "\n",
        "        # lr_schedule.step(epoch_loss)    \n",
        "        \n",
        "    return epoch_loss / len(iterator), epoch_acc / len(iterator)"
      ],
      "execution_count": null,
      "outputs": []
    },
    {
      "cell_type": "code",
      "metadata": {
        "id": "S3aXIHsU8MNO"
      },
      "source": [
        "def evaluate(model,iterator,criterion):\n",
        "  #initialize every epoch\n",
        "    epoch_loss = 0\n",
        "    epoch_acc = 0\n",
        "\n",
        "    #deactivating dropout layers\n",
        "    model.eval()\n",
        "    \n",
        "    #deactivates autograd\n",
        "    with torch.no_grad():\n",
        "    \n",
        "        for batch in iterator:\n",
        "          \n",
        "            #retrieve text and no. of words\n",
        "            text, text_lengths = batch.text\n",
        "            label=batch.label\n",
        "            #convert to 1d tensor\n",
        "            predictions = model(text, text_lengths).squeeze(1)\n",
        "            \n",
        "            #compute loss and accuracy\n",
        "            loss = criterion(predictions,batch.label)\n",
        "            acc = binary_accuracy(predictions, batch.label)\n",
        "            \n",
        "            #keep track of loss and accuracy\n",
        "            epoch_loss += loss.item()\n",
        "            epoch_acc += acc.item()\n",
        "            # lr_schedule.step(epoch_loss)\n",
        "            \n",
        "    return epoch_loss / len(iterator), epoch_acc / len(iterator)"
      ],
      "execution_count": null,
      "outputs": []
    },
    {
      "cell_type": "code",
      "metadata": {
        "colab": {
          "base_uri": "https://localhost:8080/"
        },
        "id": "8bz3KpYx8OIM",
        "outputId": "204ee57a-38f3-4c28-abea-31e57de38191"
      },
      "source": [
        "N_EPOCHS = 5\n",
        "best_valid_loss = float('inf')\n",
        "\n",
        "for epoch in range(N_EPOCHS):\n",
        "     \n",
        "    #train the model\n",
        "    train_loss, train_acc = train(model, train_iter, optimizer, criterion)\n",
        "    valid_loss, valid_acc = evaluate(model, valid_iter, criterion)\n",
        "    \n",
        "    #save the best model\n",
        "    if valid_loss < best_valid_loss:\n",
        "        best_valid_loss = valid_loss\n",
        "        torch.save(model.state_dict(), dirs+'saved_weights_1.pt')\n",
        "    \n",
        "    \n",
        "    print(f'\\tTrain Loss: {train_loss:.3f} | Train Acc: {train_acc*100:.2f}%')\n",
        "    print(f'\\t Val. Loss: {valid_loss:.3f} |  Val. Acc: {valid_acc*100:.2f}%')"
      ],
      "execution_count": null,
      "outputs": [
        {
          "output_type": "stream",
          "text": [
            "\tTrain Loss: 0.584 | Train Acc: 68.65%\n",
            "\t Val. Loss: 0.486 |  Val. Acc: 77.97%\n",
            "\tTrain Loss: 0.450 | Train Acc: 79.44%\n",
            "\t Val. Loss: 0.385 |  Val. Acc: 82.45%\n",
            "\tTrain Loss: 0.358 | Train Acc: 84.65%\n",
            "\t Val. Loss: 0.316 |  Val. Acc: 87.05%\n",
            "\tTrain Loss: 0.293 | Train Acc: 87.91%\n",
            "\t Val. Loss: 0.282 |  Val. Acc: 88.53%\n",
            "\tTrain Loss: 0.249 | Train Acc: 90.09%\n",
            "\t Val. Loss: 0.282 |  Val. Acc: 89.22%\n"
          ],
          "name": "stdout"
        }
      ]
    },
    {
      "cell_type": "code",
      "metadata": {
        "id": "fd2rGXaq8Qrj"
      },
      "source": [
        ""
      ],
      "execution_count": null,
      "outputs": []
    },
    {
      "cell_type": "code",
      "metadata": {
        "id": "VohYC_5NiG25"
      },
      "source": [
        ""
      ],
      "execution_count": null,
      "outputs": []
    },
    {
      "cell_type": "code",
      "metadata": {
        "id": "zM0-1oBJtKe2"
      },
      "source": [
        "import spacy\n",
        "nlp = spacy.load('en_core_web_sm')\n",
        "\n",
        "def predict_sentiment(model, sentence):\n",
        "    model.eval()\n",
        "    tokenized = [tok.text for tok in nlp.tokenizer(sentence)]\n",
        "    indexed = [Text.vocab.stoi[t] for t in tokenized]\n",
        "    length = [len(indexed)]\n",
        "    tensor = torch.LongTensor(indexed).to(device)\n",
        "    tensor = tensor.unsqueeze(1)\n",
        "    length_tensor = torch.LongTensor(length)\n",
        "    prediction = torch.sigmoid(model(tensor, length_tensor))\n",
        "    return prediction.item()"
      ],
      "execution_count": null,
      "outputs": []
    },
    {
      "cell_type": "code",
      "metadata": {
        "colab": {
          "base_uri": "https://localhost:8080/"
        },
        "id": "YPS8xPmotKh4",
        "outputId": "f9c7ed6d-1489-431d-cef2-ad851be42d16"
      },
      "source": [
        "predict_sentiment(model, \"i can not go outside\")"
      ],
      "execution_count": null,
      "outputs": [
        {
          "output_type": "execute_result",
          "data": {
            "text/plain": [
              "0.3573157787322998"
            ]
          },
          "metadata": {
            "tags": []
          },
          "execution_count": 31
        }
      ]
    },
    {
      "cell_type": "code",
      "metadata": {
        "colab": {
          "base_uri": "https://localhost:8080/"
        },
        "id": "xO8Il1uHtQgb",
        "outputId": "f9b04b24-6b5f-4230-f721-4e7e242693ec"
      },
      "source": [
        "predict_sentiment(model, \"and and\")"
      ],
      "execution_count": null,
      "outputs": [
        {
          "output_type": "execute_result",
          "data": {
            "text/plain": [
              "0.4225904047489166"
            ]
          },
          "metadata": {
            "tags": []
          },
          "execution_count": 33
        }
      ]
    },
    {
      "cell_type": "code",
      "metadata": {
        "colab": {
          "base_uri": "https://localhost:8080/"
        },
        "id": "exXOzupQthyy",
        "outputId": "40ce5a6c-3d62-40b8-e832-24f350920de5"
      },
      "source": [
        "predict_sentiment(model,\"me ready to go at supermarket\")"
      ],
      "execution_count": null,
      "outputs": [
        {
          "output_type": "execute_result",
          "data": {
            "text/plain": [
              "0.0160974208265543"
            ]
          },
          "metadata": {
            "tags": []
          },
          "execution_count": 35
        }
      ]
    },
    {
      "cell_type": "code",
      "metadata": {
        "colab": {
          "base_uri": "https://localhost:8080/"
        },
        "id": "9zMHgjnauCFM",
        "outputId": "b65aabc3-44ee-411b-ab12-8970c17b2e4d"
      },
      "source": [
        "predict_sentiment(model,\"having fever since 2 days\")"
      ],
      "execution_count": null,
      "outputs": [
        {
          "output_type": "execute_result",
          "data": {
            "text/plain": [
              "0.9474338889122009"
            ]
          },
          "metadata": {
            "tags": []
          },
          "execution_count": 40
        }
      ]
    },
    {
      "cell_type": "code",
      "metadata": {
        "colab": {
          "base_uri": "https://localhost:8080/"
        },
        "id": "Y2zKofTwwTkA",
        "outputId": "21d7410b-8c99-4247-a863-7d04c877f933"
      },
      "source": [
        "predict_sentiment(model,\"i am corona positive\")"
      ],
      "execution_count": null,
      "outputs": [
        {
          "output_type": "execute_result",
          "data": {
            "text/plain": [
              "0.012427430599927902"
            ]
          },
          "metadata": {
            "tags": []
          },
          "execution_count": 44
        }
      ]
    },
    {
      "cell_type": "code",
      "metadata": {
        "colab": {
          "base_uri": "https://localhost:8080/"
        },
        "id": "SQtsjyBowsuj",
        "outputId": "fc1bd4c3-991a-4f8f-9c89-4443354d148d"
      },
      "source": [
        "predict_sentiment(model,\"need food\")"
      ],
      "execution_count": null,
      "outputs": [
        {
          "output_type": "execute_result",
          "data": {
            "text/plain": [
              "0.44335901737213135"
            ]
          },
          "metadata": {
            "tags": []
          },
          "execution_count": 45
        }
      ]
    },
    {
      "cell_type": "code",
      "metadata": {
        "id": "N1nqGkp3xT0V"
      },
      "source": [
        ""
      ],
      "execution_count": null,
      "outputs": []
    }
  ]
}